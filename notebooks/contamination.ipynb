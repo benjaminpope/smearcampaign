{
 "cells": [
  {
   "cell_type": "code",
   "execution_count": 1,
   "metadata": {},
   "outputs": [],
   "source": [
    "import numpy as np\n",
    "import matplotlib.pyplot as plt\n",
    "\n",
    "from astropy.table import Table, join, Column\n",
    "\n",
    "from astropy.io import ascii\n",
    "import glob, re\n",
    "\n",
    "from scipy.ndimage.filters import gaussian_filter1d\n",
    "\n",
    "% matplotlib inline\n",
    "\n",
    "import matplotlib as mpl\n",
    "mpl.style.use('seaborn-colorblind')\n",
    "\n",
    "#To make sure we have always the same matplotlib settings\n",
    "#(the ones in comments are the ipython notebook settings)\n",
    "\n",
    "mpl.rcParams['figure.figsize']=(12.0,9.0)    #(6.0,4.0)\n",
    "mpl.rcParams['font.size']=20               #10 \n",
    "mpl.rcParams['savefig.dpi']= 200             #72 \n",
    "mpl.rcParams['axes.labelsize'] = 18\n",
    "mpl.rcParams['axes.labelsize'] = 18\n",
    "mpl.rcParams['xtick.labelsize'] = 14\n",
    "mpl.rcParams['ytick.labelsize'] = 14\n",
    "from matplotlib import rc\n",
    "\n",
    "colours = mpl.rcParams['axes.prop_cycle'].by_key()['color']\n"
   ]
  },
  {
   "cell_type": "code",
   "execution_count": 2,
   "metadata": {},
   "outputs": [
    {
     "name": "stdout",
     "output_type": "stream",
     "text": [
      "HD_181778_smear_combined.even.clip.fft  HD_181778_smear_combined.odd.clip.fft\n",
      "HD_181778_smear_combined.even.clip.ts   HD_181778_smear_combined.odd.clip.ts\n",
      "HD_181778_smear_combined.full.clip.fft  HD_181778_smear_combined.png\n",
      "HD_181778_smear_combined.full.clip.ts   HD_181778_smear_combined.zoomin.png\n"
     ]
    }
   ],
   "source": [
    "ls ../data/HD_181778/"
   ]
  },
  {
   "cell_type": "code",
   "execution_count": 3,
   "metadata": {},
   "outputs": [],
   "source": [
    "fname_even = \"../data/HD_181778/HD_181778_smear_combined.even.clip.fft\"\n",
    "fname_odd = \"../data/HD_181778/HD_181778_smear_combined.odd.clip.fft\"\n"
   ]
  },
  {
   "cell_type": "code",
   "execution_count": 4,
   "metadata": {},
   "outputs": [],
   "source": [
    "even = Table.read(fname_even,format='ascii')\n",
    "odd = Table.read(fname_odd,format='ascii')"
   ]
  },
  {
   "cell_type": "code",
   "execution_count": 12,
   "metadata": {},
   "outputs": [
    {
     "data": {
      "image/png": "[encoded data removed]",
      "text/plain": [
       "<Figure size 432x720 with 2 Axes>"
      ]
     },
     "metadata": {
      "needs_background": "light"
     },
     "output_type": "display_data"
    }
   ],
   "source": [
    "f, (ax1, ax2) = plt.subplots(2,1,figsize=(6.0,10.0),sharex=True,sharey=True)\n",
    "\n",
    "ax1.plot(odd['fre'],odd['power']/1e6,label='Odd',alpha=0.75,color=colours[2])\n",
    "ax2.plot(even['fre'],even['power']/1e6,label='Even',alpha=0.75)\n",
    "ax1.text(20,5,'Odd',fontsize=20)\n",
    "ax1.set_yticks(np.arange(5)+1.)\n",
    "ax2.text(20,5,'Even',fontsize=20)\n",
    "\n",
    "plt.xlim(0,25)\n",
    "plt.ylim(0,6)\n",
    "plt.xlabel(r'Frequency ($\\mu$Hz)')\n",
    "plt.ylabel('Power (arbitrary units)')\n",
    "ax1.set_title(\"Even and Odd Quarters of HD 181778\",y=1.01,fontsize=18)\n",
    "# plt.legend(fontsize=20)\n",
    "f.subplots_adjust(hspace=0)\n",
    "plt.savefig('../paper/contam_HD_181778.png',bbox_inches='tight')\n",
    "plt.savefig('../paper/contam_HD_181778.pdf',bbox_inches='tight')"
   ]
  },
  {
   "cell_type": "code",
   "execution_count": null,
   "metadata": {},
   "outputs": [],
   "source": []
  },
  {
   "cell_type": "code",
   "execution_count": 6,
   "metadata": {},
   "outputs": [],
   "source": [
    "total_pix = 1024*2200*2*42"
   ]
  },
  {
   "cell_type": "code",
   "execution_count": 7,
   "metadata": {},
   "outputs": [],
   "source": [
    "lc_pix = 170000*32\n",
    "sc_pix = 512*85\n",
    "obs_pix = lc_pix+sc_pix"
   ]
  },
  {
   "cell_type": "code",
   "execution_count": 8,
   "metadata": {},
   "outputs": [
    {
     "ename": "SyntaxError",
     "evalue": "Missing parentheses in call to 'print'. Did you mean print(obs_frac)? (<ipython-input-8-72526df99953>, line 2)",
     "output_type": "error",
     "traceback": [
      "\u001b[0;36m  File \u001b[0;32m\"<ipython-input-8-72526df99953>\"\u001b[0;36m, line \u001b[0;32m2\u001b[0m\n\u001b[0;31m    print obs_frac\u001b[0m\n\u001b[0m                 ^\u001b[0m\n\u001b[0;31mSyntaxError\u001b[0m\u001b[0;31m:\u001b[0m Missing parentheses in call to 'print'. Did you mean print(obs_frac)?\n"
     ]
    }
   ],
   "source": [
    "obs_frac = obs_pix/(1.0*total_pix)\n",
    "print obs_frac"
   ]
  },
  {
   "cell_type": "code",
   "execution_count": null,
   "metadata": {},
   "outputs": [],
   "source": [
    "5.4e6/95.e6"
   ]
  },
  {
   "cell_type": "markdown",
   "metadata": {},
   "source": [
    "### Now do it for all the stars, finding the overlap integral"
   ]
  },
  {
   "cell_type": "code",
   "execution_count": null,
   "metadata": {},
   "outputs": [],
   "source": [
    "fnames_even = glob.glob('../data/PowerSpectra/*even*')\n",
    "fnames_odd = glob.glob('../data/PowerSpectra/*odd*')"
   ]
  },
  {
   "cell_type": "code",
   "execution_count": null,
   "metadata": {},
   "outputs": [],
   "source": [
    "fnames_odd[0]"
   ]
  },
  {
   "cell_type": "code",
   "execution_count": null,
   "metadata": {},
   "outputs": [],
   "source": [
    "print starname"
   ]
  },
  {
   "cell_type": "code",
   "execution_count": null,
   "metadata": {},
   "outputs": [],
   "source": [
    "\n",
    "def plot_contam(odd,even,starname,fname_out):\n",
    "    f, (ax1, ax2) = plt.subplots(2,1,figsize=(7.0,14.0),sharex=True,sharey=True)\n",
    "\n",
    "    ax1.plot(odd['fre'],odd['power']/1e6,label='Odd',alpha=0.75,color=colours[2])\n",
    "    ax2.plot(even['fre'],even['power']/1e6,label='Even',alpha=0.75)\n",
    "\n",
    "    plt.xlim(0,np.max(odd['fre']))\n",
    "    plt.ylim(0,np.max([np.max(even['power']/1.e6),np.max(odd['power']/1.e6)]))\n",
    "    plt.xlabel(r'Frequency ($\\mu$Hz)')\n",
    "    plt.ylabel('Power (arbitrary units)')\n",
    "    ax1.set_title(\"Even and Odd Quarters of %s\" % starname,y=1.01,fontsize=18)\n",
    "    # plt.legend(fontsize=20)\n",
    "    f.subplots_adjust(hspace=0)\n",
    "    plt.savefig(fname_out,bbox_inches='tight')"
   ]
  },
  {
   "cell_type": "code",
   "execution_count": null,
   "metadata": {},
   "outputs": [],
   "source": [
    "overlaps = []\n",
    "\n",
    "for j, fname_even in enumerate(fnames_even):\n",
    "    starname = re.search('PowerSpectra/(.+?)_smear_combined', fname_even).group(1)\n",
    "    fname_odd = '../data/PowerSpectra/%s_smear_combined.odd.clip.fft' % starname\n",
    "    even = Table.read(fname_even,format='ascii')\n",
    "    odd = Table.read(fname_odd,format='ascii')\n",
    "\n",
    "    norm_even = even['power']\n",
    "    norm_even = gaussian_filter1d(norm_even,3)\n",
    "    norm_even /= np.sum(even['power'])\n",
    "\n",
    "    norm_odd = odd['power']#/np.sum(odd['power'])\n",
    "    norm_odd = gaussian_filter1d(norm_odd,3)\n",
    "\n",
    "    norm_odd = np.interp(even['fre'],odd['fre'],norm_odd)\n",
    "    norm_odd /= norm_odd.sum()\n",
    "    \n",
    "    overlap = np.dot(np.sqrt(norm_odd),np.sqrt(norm_even))\n",
    "    \n",
    "    overlaps.append(overlap)\n",
    "    \n",
    "    if overlap<0.9:\n",
    "        plt.clf()\n",
    "        print starname,'is bad!'\n",
    "        plot_contam(odd,even,starname.replace('_',' '),'./contam/%s_contam.png' % starname)"
   ]
  },
  {
   "cell_type": "code",
   "execution_count": null,
   "metadata": {},
   "outputs": [],
   "source": [
    "fnames_even = glob.glob('../data/*/*.even.clip.fft')"
   ]
  },
  {
   "cell_type": "code",
   "execution_count": null,
   "metadata": {},
   "outputs": [],
   "source": [
    "np.sum(np.array(overlaps)<0.9)"
   ]
  },
  {
   "cell_type": "code",
   "execution_count": null,
   "metadata": {},
   "outputs": [],
   "source": [
    "h = plt.hist(overlaps,bins=25,edgecolor='black',linewidth=2,color=colours[5])\n",
    "plt.axvline(0.9,color=colours[2])\n",
    "plt.xlabel('Overlap')\n",
    "plt.ylabel('Counts')\n",
    "plt.title('Contamination',y=1.02)\n",
    "plt.savefig('../paper/contam.eps')"
   ]
  },
  {
   "cell_type": "code",
   "execution_count": null,
   "metadata": {},
   "outputs": [],
   "source": []
  }
 ],
 "metadata": {
  "kernelspec": {
   "display_name": "Python 3",
   "language": "python",
   "name": "python3"
  },
  "language_info": {
   "codemirror_mode": {
    "name": "ipython",
    "version": 3
   },
   "file_extension": ".py",
   "mimetype": "text/x-python",
   "name": "python",
   "nbconvert_exporter": "python",
   "pygments_lexer": "ipython3",
   "version": "3.7.0"
  }
 },
 "nbformat": 4,
 "nbformat_minor": 2
}
