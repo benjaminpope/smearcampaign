{
 "cells": [
  {
   "cell_type": "code",
   "execution_count": 1,
   "metadata": {},
   "outputs": [],
   "source": [
    "import numpy as np\n",
    "import matplotlib.pyplot as plt\n",
    "\n",
    "from astropy.table import Table, join, Column\n",
    "\n",
    "from astropy.io import ascii\n",
    "import glob, re\n",
    "\n",
    "from scipy.ndimage.filters import gaussian_filter1d\n",
    "\n",
    "% matplotlib inline\n",
    "\n",
    "import matplotlib as mpl\n",
    "mpl.style.use('seaborn-colorblind')\n",
    "\n",
    "#To make sure we have always the same matplotlib settings\n",
    "#(the ones in comments are the ipython notebook settings)\n",
    "\n",
    "mpl.rcParams['figure.figsize']=(12.0,9.0)    #(6.0,4.0)\n",
    "mpl.rcParams['font.size']=20               #10 \n",
    "mpl.rcParams['savefig.dpi']= 200             #72 \n",
    "mpl.rcParams['axes.labelsize'] = 18\n",
    "mpl.rcParams['axes.labelsize'] = 18\n",
    "mpl.rcParams['xtick.labelsize'] = 14\n",
    "mpl.rcParams['ytick.labelsize'] = 14\n",
    "mpl.rcParams[\"font.family\"] = \"Times New Roman\"\n",
    "\n",
    "from matplotlib import rc\n",
    "\n",
    "colours = mpl.rcParams['axes.prop_cycle'].by_key()['color']\n"
   ]
  },
  {
   "cell_type": "code",
   "execution_count": 2,
   "metadata": {},
   "outputs": [
    {
     "name": "stdout",
     "output_type": "stream",
     "text": [
      "HD_181778_smear_combined.even.clip.fft  HD_181778_smear_combined.odd.clip.fft\r\n",
      "HD_181778_smear_combined.even.clip.ts   HD_181778_smear_combined.odd.clip.ts\r\n",
      "HD_181778_smear_combined.full.clip.fft  HD_181778_smear_combined.png\r\n",
      "HD_181778_smear_combined.full.clip.ts   HD_181778_smear_combined.zoomin.png\r\n"
     ]
    }
   ],
   "source": [
    "ls ../data/HD_181778/"
   ]
  },
  {
   "cell_type": "code",
   "execution_count": 18,
   "metadata": {},
   "outputs": [],
   "source": [
    "fname_even = \"../data/HD_181778/HD_181778_smear_combined.even.clip.fft\"\n",
    "fname_odd = \"../data/HD_181778/HD_181778_smear_combined.odd.clip.fft\"\n"
   ]
  },
  {
   "cell_type": "code",
   "execution_count": 19,
   "metadata": {},
   "outputs": [],
   "source": [
    "even = Table.read(fname_even,format='ascii')\n",
    "odd = Table.read(fname_odd,format='ascii')\n"
   ]
  },
  {
   "cell_type": "code",
   "execution_count": 25,
   "metadata": {},
   "outputs": [
    {
     "data": {
      "image/png": "[encoded data removed]",
      "text/plain": [
       "<Figure size 432x360 with 2 Axes>"
      ]
     },
     "metadata": {
      "needs_background": "light"
     },
     "output_type": "display_data"
    }
   ],
   "source": [
    "f, (ax1, ax2) = plt.subplots(2,1,figsize=(6.0,5.0),sharex=True,sharey=True)\n",
    "\n",
    "ax1.plot(odd['fre'],odd['power']/1e6,label='Odd',alpha=0.75,color=colours[2])\n",
    "ax2.plot(even['fre'],even['power']/1e6,label='Even',alpha=0.75)\n",
    "ax1.text(20,5,'Odd',fontsize=20)\n",
    "ax1.set_yticks(np.arange(5)+1.)\n",
    "ax2.text(20,5,'Even',fontsize=20)\n",
    "\n",
    "plt.xlim(0,25)\n",
    "plt.ylim(0,6)\n",
    "plt.xlabel(r'Frequency ($\\mu$Hz)')\n",
    "# plt.ylabel('Power (arbitrary units)')\n",
    "f.text(0.05,0.7,'Power (arbitrary units)',rotation='vertical',fontsize=18)\n",
    "ax1.set_title(\"Even and Odd Quarters of HD 181778\",y=1.01,fontsize=18)\n",
    "# plt.legend(fontsize=20)\n",
    "f.subplots_adjust(hspace=0)\n",
    "plt.savefig('../paper/contam_HD_181778.png',bbox_inches='tight')\n",
    "plt.savefig('../paper/contam_HD_181778.pdf',bbox_inches='tight')"
   ]
  },
  {
   "cell_type": "code",
   "execution_count": null,
   "metadata": {},
   "outputs": [],
   "source": []
  },
  {
   "cell_type": "code",
   "execution_count": 6,
   "metadata": {},
   "outputs": [],
   "source": [
    "total_pix = 1024*2200*2*42"
   ]
  },
  {
   "cell_type": "code",
   "execution_count": 7,
   "metadata": {},
   "outputs": [],
   "source": [
    "lc_pix = 170000*32\n",
    "sc_pix = 512*85\n",
    "obs_pix = lc_pix+sc_pix"
   ]
  },
  {
   "cell_type": "code",
   "execution_count": 8,
   "metadata": {},
   "outputs": [
    {
     "name": "stdout",
     "output_type": "stream",
     "text": [
      "0.028977272727272727\n"
     ]
    }
   ],
   "source": [
    "obs_frac = obs_pix/(1.0*total_pix)\n",
    "print(obs_frac)"
   ]
  },
  {
   "cell_type": "code",
   "execution_count": 9,
   "metadata": {},
   "outputs": [
    {
     "data": {
      "text/plain": [
       "0.056842105263157895"
      ]
     },
     "execution_count": 9,
     "metadata": {},
     "output_type": "execute_result"
    }
   ],
   "source": [
    "5.4e6/95.e6"
   ]
  },
  {
   "cell_type": "markdown",
   "metadata": {},
   "source": [
    "### Now do it for all the stars, finding the overlap integral"
   ]
  },
  {
   "cell_type": "code",
   "execution_count": 10,
   "metadata": {},
   "outputs": [],
   "source": [
    "fnames_even = glob.glob('../data/PowerSpectra/*even*')\n",
    "fnames_odd = glob.glob('../data/PowerSpectra/*odd*')"
   ]
  },
  {
   "cell_type": "code",
   "execution_count": 11,
   "metadata": {},
   "outputs": [
    {
     "data": {
      "text/plain": [
       "'../data/PowerSpectra/HD_180475_smear_combined.odd.clip.fft'"
      ]
     },
     "execution_count": 11,
     "metadata": {},
     "output_type": "execute_result"
    }
   ],
   "source": [
    "fnames_odd[0]"
   ]
  },
  {
   "cell_type": "code",
   "execution_count": 12,
   "metadata": {},
   "outputs": [],
   "source": [
    "\n",
    "def plot_contam(odd,even,starname,fname_out):\n",
    "    f, (ax1, ax2) = plt.subplots(2,1,figsize=(7.0,14.0),sharex=True,sharey=True)\n",
    "\n",
    "    ax1.plot(odd['fre'],odd['power']/1e6,label='Odd',alpha=0.75,color=colours[2])\n",
    "    ax2.plot(even['fre'],even['power']/1e6,label='Even',alpha=0.75)\n",
    "\n",
    "    plt.xlim(0,np.max(odd['fre']))\n",
    "    plt.ylim(0,np.max([np.max(even['power']/1.e6),np.max(odd['power']/1.e6)]))\n",
    "    plt.xlabel(r'Frequency ($\\mu$Hz)')\n",
    "    plt.ylabel('Power (arbitrary units)')\n",
    "    ax1.set_title(\"Even and Odd Quarters of %s\" % starname,y=1.01,fontsize=18)\n",
    "    # plt.legend(fontsize=20)\n",
    "    f.subplots_adjust(hspace=0)\n",
    "    plt.savefig(fname_out,bbox_inches='tight')"
   ]
  },
  {
   "cell_type": "code",
   "execution_count": 13,
   "metadata": {},
   "outputs": [
    {
     "name": "stdout",
     "output_type": "stream",
     "text": [
      "BD+43_3064 is bad!\n",
      "HD_181597 is bad!\n",
      "V543_Lyr is bad!\n",
      "HD_180658 is bad!\n",
      "HD_175841 is bad!\n",
      "HD_185524 is bad!\n",
      "HD_175740 is bad!\n",
      "HD_181778 is bad!\n",
      "HD_188875 is bad!\n",
      "HD_183383 is bad!\n",
      "V398_Lyr is bad!\n",
      "BD+39_3882 is bad!\n",
      "HD_182694 is bad!\n",
      "HD_179959 is bad!\n",
      "HD_177781 is bad!\n",
      "BD+47_2825 is bad!\n",
      "HD_185397 is bad!\n",
      "HD_183124 is bad!\n",
      "HD_186255 is bad!\n",
      "HD_175132 is bad!\n"
     ]
    },
    {
     "name": "stderr",
     "output_type": "stream",
     "text": [
      "/anaconda3/lib/python3.7/site-packages/matplotlib/pyplot.py:514: RuntimeWarning: More than 20 figures have been opened. Figures created through the pyplot interface (`matplotlib.pyplot.figure`) are retained until explicitly closed and may consume too much memory. (To control this warning, see the rcParam `figure.max_open_warning`).\n",
      "  max_open_warning, RuntimeWarning)\n"
     ]
    },
    {
     "name": "stdout",
     "output_type": "stream",
     "text": [
      "HD_184565 is bad!\n",
      "HD_186727 is bad!\n"
     ]
    },
    {
     "data": {
      "text/plain": [
       "<Figure size 432x288 with 0 Axes>"
      ]
     },
     "metadata": {},
     "output_type": "display_data"
    },
    {
     "data": {
      "text/plain": [
       "<Figure size 504x1008 with 0 Axes>"
      ]
     },
     "metadata": {},
     "output_type": "display_data"
    },
    {
     "data": {
      "text/plain": [
       "<Figure size 504x1008 with 0 Axes>"
      ]
     },
     "metadata": {},
     "output_type": "display_data"
    },
    {
     "data": {
      "text/plain": [
       "<Figure size 504x1008 with 0 Axes>"
      ]
     },
     "metadata": {},
     "output_type": "display_data"
    },
    {
     "data": {
      "text/plain": [
       "<Figure size 504x1008 with 0 Axes>"
      ]
     },
     "metadata": {},
     "output_type": "display_data"
    },
    {
     "data": {
      "text/plain": [
       "<Figure size 504x1008 with 0 Axes>"
      ]
     },
     "metadata": {},
     "output_type": "display_data"
    },
    {
     "data": {
      "text/plain": [
       "<Figure size 504x1008 with 0 Axes>"
      ]
     },
     "metadata": {},
     "output_type": "display_data"
    },
    {
     "data": {
      "text/plain": [
       "<Figure size 504x1008 with 0 Axes>"
      ]
     },
     "metadata": {},
     "output_type": "display_data"
    },
    {
     "data": {
      "text/plain": [
       "<Figure size 504x1008 with 0 Axes>"
      ]
     },
     "metadata": {},
     "output_type": "display_data"
    },
    {
     "data": {
      "text/plain": [
       "<Figure size 504x1008 with 0 Axes>"
      ]
     },
     "metadata": {},
     "output_type": "display_data"
    },
    {
     "data": {
      "text/plain": [
       "<Figure size 504x1008 with 0 Axes>"
      ]
     },
     "metadata": {},
     "output_type": "display_data"
    },
    {
     "data": {
      "text/plain": [
       "<Figure size 504x1008 with 0 Axes>"
      ]
     },
     "metadata": {},
     "output_type": "display_data"
    },
    {
     "data": {
      "text/plain": [
       "<Figure size 504x1008 with 0 Axes>"
      ]
     },
     "metadata": {},
     "output_type": "display_data"
    },
    {
     "data": {
      "text/plain": [
       "<Figure size 504x1008 with 0 Axes>"
      ]
     },
     "metadata": {},
     "output_type": "display_data"
    },
    {
     "data": {
      "text/plain": [
       "<Figure size 504x1008 with 0 Axes>"
      ]
     },
     "metadata": {},
     "output_type": "display_data"
    },
    {
     "data": {
      "text/plain": [
       "<Figure size 504x1008 with 0 Axes>"
      ]
     },
     "metadata": {},
     "output_type": "display_data"
    },
    {
     "data": {
      "text/plain": [
       "<Figure size 504x1008 with 0 Axes>"
      ]
     },
     "metadata": {},
     "output_type": "display_data"
    },
    {
     "data": {
      "text/plain": [
       "<Figure size 504x1008 with 0 Axes>"
      ]
     },
     "metadata": {},
     "output_type": "display_data"
    },
    {
     "data": {
      "text/plain": [
       "<Figure size 504x1008 with 0 Axes>"
      ]
     },
     "metadata": {},
     "output_type": "display_data"
    },
    {
     "data": {
      "text/plain": [
       "<Figure size 504x1008 with 0 Axes>"
      ]
     },
     "metadata": {},
     "output_type": "display_data"
    },
    {
     "data": {
      "text/plain": [
       "<Figure size 504x1008 with 0 Axes>"
      ]
     },
     "metadata": {},
     "output_type": "display_data"
    },
    {
     "data": {
      "text/plain": [
       "<Figure size 504x1008 with 0 Axes>"
      ]
     },
     "metadata": {},
     "output_type": "display_data"
    },
    {
     "data": {
      "image/png": "[encoded data removed]",
      "text/plain": [
       "<Figure size 504x1008 with 2 Axes>"
      ]
     },
     "metadata": {
      "needs_background": "light"
     },
     "output_type": "display_data"
    }
   ],
   "source": [
    "overlaps = []\n",
    "\n",
    "for j, fname_even in enumerate(fnames_even):\n",
    "    starname = re.search('PowerSpectra/(.+?)_smear_combined', fname_even).group(1)\n",
    "    fname_odd = '../data/PowerSpectra/%s_smear_combined.odd.clip.fft' % starname\n",
    "    even = Table.read(fname_even,format='ascii')\n",
    "    odd = Table.read(fname_odd,format='ascii')\n",
    "\n",
    "    norm_even = even['power']\n",
    "    norm_even = gaussian_filter1d(norm_even,3)\n",
    "    norm_even /= np.sum(even['power'])\n",
    "\n",
    "    norm_odd = odd['power']#/np.sum(odd['power'])\n",
    "    norm_odd = gaussian_filter1d(norm_odd,3)\n",
    "\n",
    "    norm_odd = np.interp(even['fre'],odd['fre'],norm_odd)\n",
    "    norm_odd /= norm_odd.sum()\n",
    "    \n",
    "    overlap = np.dot(np.sqrt(norm_odd),np.sqrt(norm_even))\n",
    "    \n",
    "    overlaps.append(overlap)\n",
    "    \n",
    "    if overlap<0.9:\n",
    "        plt.clf()\n",
    "        print(starname,'is bad!')\n",
    "        plot_contam(odd,even,starname.replace('_',' '),'./contam/%s_contam.png' % starname)"
   ]
  },
  {
   "cell_type": "code",
   "execution_count": 14,
   "metadata": {},
   "outputs": [],
   "source": [
    "fnames_even = glob.glob('../data/*/*.even.clip.fft')"
   ]
  },
  {
   "cell_type": "code",
   "execution_count": 15,
   "metadata": {},
   "outputs": [
    {
     "data": {
      "text/plain": [
       "22"
      ]
     },
     "execution_count": 15,
     "metadata": {},
     "output_type": "execute_result"
    }
   ],
   "source": [
    "np.sum(np.array(overlaps)<0.9)"
   ]
  },
  {
   "cell_type": "code",
   "execution_count": 16,
   "metadata": {},
   "outputs": [
    {
     "ename": "AttributeError",
     "evalue": "'float' object has no attribute 'is_bbox'",
     "output_type": "error",
     "traceback": [
      "\u001b[0;31m---------------------------------------------------------------------------\u001b[0m",
      "\u001b[0;31mAttributeError\u001b[0m                            Traceback (most recent call last)",
      "\u001b[0;32m<ipython-input-16-25b1ff80e471>\u001b[0m in \u001b[0;36m<module>\u001b[0;34m()\u001b[0m\n\u001b[1;32m      4\u001b[0m \u001b[0mplt\u001b[0m\u001b[0;34m.\u001b[0m\u001b[0mylabel\u001b[0m\u001b[0;34m(\u001b[0m\u001b[0;34m'Counts'\u001b[0m\u001b[0;34m)\u001b[0m\u001b[0;34m\u001b[0m\u001b[0m\n\u001b[1;32m      5\u001b[0m \u001b[0mplt\u001b[0m\u001b[0;34m.\u001b[0m\u001b[0mtitle\u001b[0m\u001b[0;34m(\u001b[0m\u001b[0;34m'Contamination'\u001b[0m\u001b[0;34m,\u001b[0m\u001b[0my\u001b[0m\u001b[0;34m=\u001b[0m\u001b[0;36m1.02\u001b[0m\u001b[0;34m)\u001b[0m\u001b[0;34m\u001b[0m\u001b[0m\n\u001b[0;32m----> 6\u001b[0;31m \u001b[0mplt\u001b[0m\u001b[0;34m.\u001b[0m\u001b[0msavefig\u001b[0m\u001b[0;34m(\u001b[0m\u001b[0;34m'../paper/contam.eps'\u001b[0m\u001b[0;34m,\u001b[0m\u001b[0mbbox_inches\u001b[0m\u001b[0;34m=\u001b[0m\u001b[0;36m0.1\u001b[0m\u001b[0;34m)\u001b[0m\u001b[0;34m\u001b[0m\u001b[0m\n\u001b[0m",
      "\u001b[0;32m/anaconda3/lib/python3.7/site-packages/matplotlib/pyplot.py\u001b[0m in \u001b[0;36msavefig\u001b[0;34m(*args, **kwargs)\u001b[0m\n\u001b[1;32m    687\u001b[0m \u001b[0;32mdef\u001b[0m \u001b[0msavefig\u001b[0m\u001b[0;34m(\u001b[0m\u001b[0;34m*\u001b[0m\u001b[0margs\u001b[0m\u001b[0;34m,\u001b[0m \u001b[0;34m**\u001b[0m\u001b[0mkwargs\u001b[0m\u001b[0;34m)\u001b[0m\u001b[0;34m:\u001b[0m\u001b[0;34m\u001b[0m\u001b[0m\n\u001b[1;32m    688\u001b[0m     \u001b[0mfig\u001b[0m \u001b[0;34m=\u001b[0m \u001b[0mgcf\u001b[0m\u001b[0;34m(\u001b[0m\u001b[0;34m)\u001b[0m\u001b[0;34m\u001b[0m\u001b[0m\n\u001b[0;32m--> 689\u001b[0;31m     \u001b[0mres\u001b[0m \u001b[0;34m=\u001b[0m \u001b[0mfig\u001b[0m\u001b[0;34m.\u001b[0m\u001b[0msavefig\u001b[0m\u001b[0;34m(\u001b[0m\u001b[0;34m*\u001b[0m\u001b[0margs\u001b[0m\u001b[0;34m,\u001b[0m \u001b[0;34m**\u001b[0m\u001b[0mkwargs\u001b[0m\u001b[0;34m)\u001b[0m\u001b[0;34m\u001b[0m\u001b[0m\n\u001b[0m\u001b[1;32m    690\u001b[0m     \u001b[0mfig\u001b[0m\u001b[0;34m.\u001b[0m\u001b[0mcanvas\u001b[0m\u001b[0;34m.\u001b[0m\u001b[0mdraw_idle\u001b[0m\u001b[0;34m(\u001b[0m\u001b[0;34m)\u001b[0m   \u001b[0;31m# need this if 'transparent=True' to reset colors\u001b[0m\u001b[0;34m\u001b[0m\u001b[0m\n\u001b[1;32m    691\u001b[0m     \u001b[0;32mreturn\u001b[0m \u001b[0mres\u001b[0m\u001b[0;34m\u001b[0m\u001b[0m\n",
      "\u001b[0;32m/anaconda3/lib/python3.7/site-packages/matplotlib/figure.py\u001b[0m in \u001b[0;36msavefig\u001b[0;34m(self, fname, frameon, transparent, **kwargs)\u001b[0m\n\u001b[1;32m   2092\u001b[0m             \u001b[0mself\u001b[0m\u001b[0;34m.\u001b[0m\u001b[0mset_frameon\u001b[0m\u001b[0;34m(\u001b[0m\u001b[0mframeon\u001b[0m\u001b[0;34m)\u001b[0m\u001b[0;34m\u001b[0m\u001b[0m\n\u001b[1;32m   2093\u001b[0m \u001b[0;34m\u001b[0m\u001b[0m\n\u001b[0;32m-> 2094\u001b[0;31m         \u001b[0mself\u001b[0m\u001b[0;34m.\u001b[0m\u001b[0mcanvas\u001b[0m\u001b[0;34m.\u001b[0m\u001b[0mprint_figure\u001b[0m\u001b[0;34m(\u001b[0m\u001b[0mfname\u001b[0m\u001b[0;34m,\u001b[0m \u001b[0;34m**\u001b[0m\u001b[0mkwargs\u001b[0m\u001b[0;34m)\u001b[0m\u001b[0;34m\u001b[0m\u001b[0m\n\u001b[0m\u001b[1;32m   2095\u001b[0m \u001b[0;34m\u001b[0m\u001b[0m\n\u001b[1;32m   2096\u001b[0m         \u001b[0;32mif\u001b[0m \u001b[0mframeon\u001b[0m\u001b[0;34m:\u001b[0m\u001b[0;34m\u001b[0m\u001b[0m\n",
      "\u001b[0;32m/anaconda3/lib/python3.7/site-packages/matplotlib/backend_bases.py\u001b[0m in \u001b[0;36mprint_figure\u001b[0;34m(self, filename, dpi, facecolor, edgecolor, orientation, format, bbox_inches, **kwargs)\u001b[0m\n\u001b[1;32m   2059\u001b[0m \u001b[0;34m\u001b[0m\u001b[0m\n\u001b[1;32m   2060\u001b[0m                 restore_bbox = tight_bbox.adjust_bbox(self.figure, bbox_inches,\n\u001b[0;32m-> 2061\u001b[0;31m                                                       canvas.fixed_dpi)\n\u001b[0m\u001b[1;32m   2062\u001b[0m \u001b[0;34m\u001b[0m\u001b[0m\n\u001b[1;32m   2063\u001b[0m                 \u001b[0m_bbox_inches_restore\u001b[0m \u001b[0;34m=\u001b[0m \u001b[0;34m(\u001b[0m\u001b[0mbbox_inches\u001b[0m\u001b[0;34m,\u001b[0m \u001b[0mrestore_bbox\u001b[0m\u001b[0;34m)\u001b[0m\u001b[0;34m\u001b[0m\u001b[0m\n",
      "\u001b[0;32m/anaconda3/lib/python3.7/site-packages/matplotlib/tight_bbox.py\u001b[0m in \u001b[0;36madjust_bbox\u001b[0;34m(fig, bbox_inches, fixed_dpi)\u001b[0m\n\u001b[1;32m     52\u001b[0m         \u001b[0mdpi_scale\u001b[0m \u001b[0;34m=\u001b[0m \u001b[0;36m1.\u001b[0m\u001b[0;34m\u001b[0m\u001b[0m\n\u001b[1;32m     53\u001b[0m \u001b[0;34m\u001b[0m\u001b[0m\n\u001b[0;32m---> 54\u001b[0;31m     \u001b[0m_bbox\u001b[0m \u001b[0;34m=\u001b[0m \u001b[0mTransformedBbox\u001b[0m\u001b[0;34m(\u001b[0m\u001b[0mbbox_inches\u001b[0m\u001b[0;34m,\u001b[0m \u001b[0mtr\u001b[0m\u001b[0;34m)\u001b[0m\u001b[0;34m\u001b[0m\u001b[0m\n\u001b[0m\u001b[1;32m     55\u001b[0m \u001b[0;34m\u001b[0m\u001b[0m\n\u001b[1;32m     56\u001b[0m     fig.bbox_inches = Bbox.from_bounds(0, 0,\n",
      "\u001b[0;32m/anaconda3/lib/python3.7/site-packages/matplotlib/transforms.py\u001b[0m in \u001b[0;36m__init__\u001b[0;34m(self, bbox, transform, **kwargs)\u001b[0m\n\u001b[1;32m   1031\u001b[0m         \u001b[0mtransform\u001b[0m \u001b[0;34m:\u001b[0m \u001b[0;34m:\u001b[0m\u001b[0;32mclass\u001b[0m\u001b[0;34m:\u001b[0m\u001b[0;31m`\u001b[0m\u001b[0mTransform\u001b[0m\u001b[0;31m`\u001b[0m\u001b[0;34m\u001b[0m\u001b[0m\n\u001b[1;32m   1032\u001b[0m         \"\"\"\n\u001b[0;32m-> 1033\u001b[0;31m         \u001b[0;32mif\u001b[0m \u001b[0;32mnot\u001b[0m \u001b[0mbbox\u001b[0m\u001b[0;34m.\u001b[0m\u001b[0mis_bbox\u001b[0m\u001b[0;34m:\u001b[0m\u001b[0;34m\u001b[0m\u001b[0m\n\u001b[0m\u001b[1;32m   1034\u001b[0m             \u001b[0;32mraise\u001b[0m \u001b[0mValueError\u001b[0m\u001b[0;34m(\u001b[0m\u001b[0;34m\"'bbox' is not a bbox\"\u001b[0m\u001b[0;34m)\u001b[0m\u001b[0;34m\u001b[0m\u001b[0m\n\u001b[1;32m   1035\u001b[0m         \u001b[0;32mif\u001b[0m \u001b[0;32mnot\u001b[0m \u001b[0misinstance\u001b[0m\u001b[0;34m(\u001b[0m\u001b[0mtransform\u001b[0m\u001b[0;34m,\u001b[0m \u001b[0mTransform\u001b[0m\u001b[0;34m)\u001b[0m\u001b[0;34m:\u001b[0m\u001b[0;34m\u001b[0m\u001b[0m\n",
      "\u001b[0;31mAttributeError\u001b[0m: 'float' object has no attribute 'is_bbox'"
     ]
    },
    {
     "data": {
      "image/png": "[encoded data removed]",
      "text/plain": [
       "<Figure size 432x288 with 1 Axes>"
      ]
     },
     "metadata": {},
     "output_type": "display_data"
    }
   ],
   "source": [
    "h = plt.hist(overlaps,bins=25,edgecolor='black',linewidth=2,color=colours[5])\n",
    "plt.axvline(0.9,color=colours[2])\n",
    "plt.xlabel('Overlap')\n",
    "plt.ylabel('Counts')\n",
    "plt.title('Contamination',y=1.02)\n",
    "plt.savefig('../paper/contam.eps',bbox_inches=0.1)"
   ]
  },
  {
   "cell_type": "code",
   "execution_count": null,
   "metadata": {},
   "outputs": [],
   "source": [
    "fname_timeseries=\"../data/lcs/HD_181778_smear_combined.csv\"\n",
    "lc = Table.read(fname_timeseries,format='ascii')\n",
    "\n",
    "fig = plt.figure(figsize=(8.0,6.0))\n",
    "\n",
    "q0 = 12\n",
    "m = lc['QUARTER'] == q0\n",
    "n = lc['QUARTER'] == q0+1\n",
    "t0 = np.nanmin(lc[m]['BJD'])\n",
    "\n",
    "plt.plot(lc[m]['BJD']-t0,lc[m]['FLUX_CORR_8'],'.',label='Q%d' % q0,color=colours[0])\n",
    "plt.plot(lc[n]['BJD']-t0,lc[n]['FLUX_CORR_8'],'.',label='Q%d' % (q0+1),color=colours[2])\n",
    "t0 = np.nanmin(lc[m]['BJD'])\n",
    "\n",
    "plt.ylim(0.996,1.004)\n",
    "plt.xlabel('BJD - %.0f' % t0)\n",
    "plt.ylabel('Relative Flux')\n",
    "\n",
    "plt.legend()\n",
    "plt.title('Contamination in HD 181778 Timeseries')"
   ]
  },
  {
   "cell_type": "code",
   "execution_count": null,
   "metadata": {},
   "outputs": [],
   "source": []
  },
  {
   "cell_type": "code",
   "execution_count": null,
   "metadata": {},
   "outputs": [],
   "source": [
    "fname_timeseries=\"../data/lcs/HD_183383_smear_combined.csv\"\n",
    "lc = Table.read(fname_timeseries,format='ascii')\n",
    "\n",
    "fig = plt.figure(figsize=(8.0,6.0))\n",
    "\n",
    "# m  = (lc['QUARTER'] %  2) != 0\n",
    "q0 = 12\n",
    "m = lc['QUARTER'] == q0\n",
    "n = lc['QUARTER'] == q0+1\n",
    "t0 = np.nanmin(lc[m]['BJD'])\n",
    "\n",
    "plt.plot(lc[m]['BJD']-t0,lc[m]['FLUX_CORR_8'],'.',label='Q%d' % q0,color=colours[0])\n",
    "plt.plot(lc[n]['BJD']-t0,lc[n]['FLUX_CORR_8'],'.',label='Q%d' % (q0+1),color=colours[2])\n",
    "# plt.ylim(0.990,1.010)\n",
    "plt.xlabel('BJD - %.0f' % t0)\n",
    "plt.ylabel('Relative Flux')\n",
    "\n",
    "plt.legend()\n",
    "plt.title('Contamination in HD 183383 Timeseries')"
   ]
  },
  {
   "cell_type": "code",
   "execution_count": null,
   "metadata": {},
   "outputs": [],
   "source": [
    "fname_timeseries1=\"../data/lcs/HD_181778_smear_combined.csv\"\n",
    "lc1 = Table.read(fname_timeseries1,format='ascii')\n",
    "\n",
    "fname_timeseries2=\"../data/lcs/HD_183383_smear_combined.csv\"\n",
    "lc2 = Table.read(fname_timeseries2,format='ascii')\n",
    "\n"
   ]
  },
  {
   "cell_type": "code",
   "execution_count": null,
   "metadata": {},
   "outputs": [],
   "source": [
    "f, (ax1,ax2) = plt.subplots(2,1,figsize=(12.0,9.0),sharex=True)\n",
    "f.subplots_adjust(hspace=0)\n",
    "ax1.set_yticks([0.9975,1.000,1.0025])\n",
    "\n",
    "\n",
    "q0 = 12\n",
    "m = lc1['QUARTER'] == q0\n",
    "n = lc1['QUARTER'] == q0+1\n",
    "t0 = np.nanmin(lc1[m]['BJD'])\n",
    "\n",
    "ax1.plot(lc1[m]['BJD']-t0,lc1[m]['FLUX_CORR_8'],'.',label='Q%d' % q0,color=colours[0])\n",
    "ax1.plot(lc1[n]['BJD']-t0,lc1[n]['FLUX_CORR_8'],'.',label='Q%d' % (q0+1),color=colours[2])\n",
    "\n",
    "ax1.text(2,1.0035,'HD 181778')\n",
    "ax1.set_ylim(0.996,1.0045)\n",
    "ax1.set_ylabel('Relative Flux')\n",
    "# ax1.text(1.01)\n",
    "\n",
    "ax1.legend()\n",
    "\n",
    "ax2.plot(lc2[m]['BJD']-t0,lc2[m]['FLUX_CORR_8'],'.',label='Q%d' % q0,color=colours[0])\n",
    "ax2.plot(lc2[n]['BJD']-t0,lc2[n]['FLUX_CORR_8'],'.',label='Q%d' % (q0+1),color=colours[2])\n",
    "\n",
    "ax2.set_xlabel('BJD - %.0f' % t0)\n",
    "ax2.set_ylabel('Relative Flux')\n",
    "ax2.text(130,1.1,'HD 183383')\n",
    "\n",
    "\n",
    "ax1.set_title('Contamination in Timeseries')\n",
    "plt.savefig('../paper/contam_timeseries.png',bbox_inches='tight')\n",
    "plt.savefig('../paper/contam_timeseries.pdf',bbox_inches='tight')\n"
   ]
  },
  {
   "cell_type": "code",
   "execution_count": null,
   "metadata": {},
   "outputs": [],
   "source": []
  }
 ],
 "metadata": {
  "kernelspec": {
   "display_name": "Python 3",
   "language": "python",
   "name": "python3"
  },
  "language_info": {
   "codemirror_mode": {
    "name": "ipython",
    "version": 3
   },
   "file_extension": ".py",
   "mimetype": "text/x-python",
   "name": "python",
   "nbconvert_exporter": "python",
   "pygments_lexer": "ipython3",
   "version": "3.7.0"
  }
 },
 "nbformat": 4,
 "nbformat_minor": 2
}
