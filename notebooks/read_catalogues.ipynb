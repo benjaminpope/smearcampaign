{
 "cells": [
  {
   "cell_type": "code",
   "execution_count": 1,
   "metadata": {},
   "outputs": [],
   "source": [
    "import numpy as np\n",
    "import matplotlib.pyplot as plt\n",
    "\n",
    "from astropy.table import Table, join, Column\n",
    "from astropy.table import vstack, hstack\n",
    "\n",
    "from astropy.io import ascii\n",
    "import glob, re\n",
    "\n",
    "% matplotlib inline\n",
    "\n",
    "import matplotlib as mpl\n",
    "from matplotlib import rc\n",
    "\n",
    "mpl.style.use('seaborn-colorblind')\n",
    "\n",
    "#To make sure we have always the same matplotlib settings\n",
    "#(the ones in comments are the ipython notebook settings)\n",
    "\n",
    "mpl.rcParams['figure.figsize']=(12.0,9.0)    #(6.0,4.0)\n",
    "mpl.rcParams['font.size']=20               #10 \n",
    "mpl.rcParams['savefig.dpi']= 256             #72 \n",
    "mpl.rcParams['axes.labelsize'] = 16\n",
    "mpl.rcParams['axes.labelsize'] = 16\n",
    "mpl.rcParams['xtick.labelsize'] = 12\n",
    "mpl.rcParams['ytick.labelsize'] = 12\n",
    "mpl.rcParams[\"font.family\"] = \"Times New Roman\"\n",
    "\n",
    "colours = mpl.rcParams['axes.prop_cycle'].by_key()['color']\n"
   ]
  },
  {
   "cell_type": "markdown",
   "metadata": {},
   "source": [
    "## This notebook reads in Keith's abundances and Guy's asteroseismology to produce the tables for the paper."
   ]
  },
  {
   "cell_type": "code",
   "execution_count": 2,
   "metadata": {},
   "outputs": [],
   "source": [
    "fname_diff = \"../data/abundtable_ref.fits\"\n",
    "fname_nodiff = \"../data/abundtable.fits\"\n",
    "\n",
    "fname_nodiff_extra = '../data/abundtable_badstars.fits'\n",
    "fname_diff_extra = '../data/abundtable_ref_badstars.fits'"
   ]
  },
  {
   "cell_type": "code",
   "execution_count": 3,
   "metadata": {},
   "outputs": [
    {
     "data": {
      "text/html": [
       "&lt;Column name=&apos;Na&apos; dtype=&apos;float64&apos; length=4&gt;\n",
       "<table>\n",
       "<tr><td>nan</td></tr>\n",
       "<tr><td>nan</td></tr>\n",
       "<tr><td>nan</td></tr>\n",
       "<tr><td>nan</td></tr>\n",
       "</table>"
      ],
      "text/plain": [
       "<Column name='Na' dtype='float64' length=4>\n",
       "nan\n",
       "nan\n",
       "nan\n",
       "nan"
      ]
     },
     "execution_count": 3,
     "metadata": {},
     "output_type": "execute_result"
    }
   ],
   "source": [
    "Column(np.ones(4)*np.nan,name='Na')"
   ]
  },
  {
   "cell_type": "code",
   "execution_count": 4,
   "metadata": {},
   "outputs": [
    {
     "name": "stderr",
     "output_type": "stream",
     "text": [
      "WARNING: AstropyDeprecationWarning: abundances_diff.csv already exists. Automatically overwriting ASCII files is deprecated. Use the argument 'overwrite=True' in the future. [astropy.io.ascii.ui]\n",
      "WARNING: AstropyDeprecationWarning: abundances_nodiff.csv already exists. Automatically overwriting ASCII files is deprecated. Use the argument 'overwrite=True' in the future. [astropy.io.ascii.ui]\n"
     ]
    }
   ],
   "source": [
    "diff = Table.read(fname_diff)\n",
    "diff.rename_column('Star','Object')\n",
    "diff.sort('Object')\n",
    "\n",
    "\n",
    "diff_extra = Table.read(fname_diff_extra)\n",
    "diff_extra.rename_column('Star','Object')\n",
    "diff_extra.sort('Object')\n",
    "\n",
    "for key in diff_extra.keys():\n",
    "    if 'err' not in key:\n",
    "        diff_extra.rename_column(key,key.replace('_Fe',''))\n",
    "    if key[:2] == 'Fe':\n",
    "        diff_extra.remove_column(key)\n",
    "\n",
    "\n",
    "for obj in diff_extra:\n",
    "    diff.add_row(obj)\n",
    "    \n",
    "diff.sort('Object')\n",
    "diff.write('abundances_diff.csv',format='ascii')\n",
    "\n",
    "nodiff = Table.read(fname_nodiff)\n",
    "nodiff.rename_column('Star','Object')\n",
    "nodiff.sort('Object')\n",
    "\n",
    "nodiff.remove_columns(['Zn','Znerr'])\n",
    "\n",
    "nodiff_extra = Table.read(fname_nodiff_extra)\n",
    "nodiff_extra.rename_column('Star','Object')\n",
    "nodiff_extra.sort('Object')\n",
    "\n",
    "\n",
    "for key in nodiff_extra.keys():\n",
    "    if 'err' not in key:\n",
    "        nodiff_extra.rename_column(key,key.replace('_Fe',''))\n",
    "    if key[:2] == 'Fe':\n",
    "        nodiff_extra.remove_column(key)\n",
    "        \n",
    "# no sodium\n",
    "# nodiff_extra.add_column((Column(np.ones(4)*np.nan,name='Zn')))\n",
    "# nodiff_extra.add_column((Column(np.ones(4)*np.nan,name='Znerr')))\n",
    "\n",
    "for obj in nodiff_extra:\n",
    "    nodiff.add_row(obj)\n",
    "nodiff = vstack(nodiff,nodiff_extra)\n",
    "nodiff.sort('Object')\n",
    "nodiff.write('abundances_nodiff.csv',format='ascii')\n"
   ]
  },
  {
   "cell_type": "code",
   "execution_count": 5,
   "metadata": {},
   "outputs": [
    {
     "data": {
      "text/html": [
       "<i>Table length=33</i>\n",
       "<table id=\"table4722362912\" class=\"table-striped table-bordered table-condensed\">\n",
       "<thead><tr><th>Object</th><th>O</th><th>Oerr</th><th>Mg</th><th>Mgerr</th><th>Ca</th><th>Caerr</th><th>Si</th><th>Sierr</th><th>Ti</th><th>Tierr</th><th>Al</th><th>Alerr</th><th>Ni</th><th>Nierr</th><th>Na</th><th>Naerr</th><th>Mn</th><th>Mnerr</th><th>Cr</th><th>Crerr</th><th>Co</th><th>Coerr</th><th>V</th><th>Verr</th><th>Cu</th><th>Cuerr</th></tr></thead>\n",
       "<thead><tr><th>bytes32</th><th>bytes32</th><th>bytes32</th><th>bytes32</th><th>bytes32</th><th>bytes32</th><th>bytes32</th><th>bytes32</th><th>bytes32</th><th>bytes32</th><th>bytes32</th><th>bytes32</th><th>bytes32</th><th>bytes32</th><th>bytes32</th><th>bytes32</th><th>bytes32</th><th>bytes32</th><th>bytes32</th><th>bytes32</th><th>bytes32</th><th>bytes32</th><th>bytes32</th><th>bytes32</th><th>bytes32</th><th>bytes32</th><th>bytes32</th></tr></thead>\n",
       "<tr><td>BD_36_3564</td><td>nan</td><td>nan</td><td>0.37850000000000017</td><td>0.10429825022501571</td><td>-0.05299999999999977</td><td>0.004949747468305601</td><td>0.23000000000000043</td><td>0.020820374636398707</td><td>0.13</td><td>0.1</td><td>0.1805000000000005</td><td>0.005303300858898993</td><td>-0.026999999999999913</td><td>0.035895352534607725</td><td>nan</td><td>nan</td><td>-0.05799999999999961</td><td>0.1</td><td>-0.07549999999999935</td><td>0.05904341622907696</td><td>-0.027999999999999414</td><td>0.01597501693835587</td><td>0.0015000000000003344</td><td>0.0024748737341528004</td><td>-0.1489999999999997</td><td>0.07848885271170676</td></tr>\n",
       "<tr><td>BD_39_3577</td><td>nan</td><td>nan</td><td>0.2509999999999998</td><td>0.025975772187573857</td><td>0.04399999999999976</td><td>0.02784613810580224</td><td>0.058999999999999275</td><td>0.021446491554564382</td><td>-0.09600000000000042</td><td>0.04313351365237967</td><td>0.09500000000000036</td><td>0.011313708498984769</td><td>-0.06699999999999995</td><td>0.032041682386399276</td><td>nan</td><td>nan</td><td>0.10499999999999976</td><td>0.1</td><td>-0.11449999999999994</td><td>0.07742819253992705</td><td>-0.2750000000000002</td><td>0.014408654671622308</td><td>-0.11900000000000038</td><td>0.016819627309360603</td><td>-0.7860000000000004</td><td>0.12572132616168136</td></tr>\n",
       "<tr><td>BD_42_3150</td><td>nan</td><td>nan</td><td>0.14199999999999982</td><td>0.05113598428591052</td><td>0.013999999999999513</td><td>0.006683312551921232</td><td>0.0940000000000003</td><td>0.023052982453469963</td><td>0.10049999999999992</td><td>0.05055813485483807</td><td>0.14350000000000013</td><td>0.019445436482629957</td><td>0.0239999999999998</td><td>0.031011949309903076</td><td>nan</td><td>nan</td><td>nan</td><td>nan</td><td>0.10650000000000015</td><td>0.04560838738653247</td><td>0.014999999999999847</td><td>0.015741349607436977</td><td>0.172</td><td>0.021290917195058975</td><td>-0.13500000000000012</td><td>0.027980151695244263</td></tr>\n",
       "<tr><td>BD_43_3171</td><td>nan</td><td>nan</td><td>nan</td><td>nan</td><td>-0.2365</td><td>0.0435</td><td>0.219</td><td>0.21086414</td><td>-0.215</td><td>0.1</td><td>0.1475</td><td>0.0345</td><td>-0.2</td><td>0.20937692</td><td>nan</td><td>nan</td><td>0.147</td><td>0.1</td><td>0.057</td><td>0.1</td><td>-0.114</td><td>0.10140422</td><td>-0.12</td><td>0.1</td><td>-0.36</td><td>0.1</td></tr>\n",
       "<tr><td>BD_48_2904</td><td>nan</td><td>nan</td><td>0.07100000000000009</td><td>0.02800529050547936</td><td>0.04550000000000026</td><td>0.06965001794687495</td><td>0.12099999999999955</td><td>0.0247509191748508</td><td>0.0724999999999999</td><td>0.03288046532517445</td><td>0.22350000000000064</td><td>0.006010407640085777</td><td>-0.006999999999999895</td><td>0.036991742321766906</td><td>nan</td><td>nan</td><td>0.13000000000000012</td><td>0.1</td><td>-0.005499999999999505</td><td>0.022980970388562616</td><td>0.03899999999999987</td><td>0.014861066985696164</td><td>0.15199999999999997</td><td>0.01850844170280466</td><td>-0.25700000000000045</td><td>0.029628564795680747</td></tr>\n",
       "<tr><td>BD_48_2955</td><td>nan</td><td>nan</td><td>0.24399999999999925</td><td>0.042624979635055335</td><td>-0.10400000000000034</td><td>0.050204581464244974</td><td>0.1974999999999998</td><td>0.04157899108925083</td><td>-0.036000000000000365</td><td>0.1</td><td>0.12199999999999961</td><td>0.1</td><td>-0.07500000000000084</td><td>0.05104681946779615</td><td>nan</td><td>nan</td><td>0.026000000000000023</td><td>0.1</td><td>-0.11949999999999983</td><td>0.07530687219636734</td><td>-0.02850000000000047</td><td>0.031613771612313976</td><td>-0.040000000000000424</td><td>0.04223224478997057</td><td>-0.09500000000000075</td><td>0.04030508652763332</td></tr>\n",
       "<tr><td>HD_174020</td><td>nan</td><td>nan</td><td>nan</td><td>nan</td><td>-0.0255</td><td>0.0605</td><td>0.023</td><td>0.14463001</td><td>0.09</td><td>0.1</td><td>0.151</td><td>0.034</td><td>0.093</td><td>0.10169904</td><td>nan</td><td>nan</td><td>nan</td><td>nan</td><td>-0.02</td><td>0.165</td><td>-0.0775</td><td>0.089477494</td><td>0.117</td><td>0.1</td><td>-0.208</td><td>0.06</td></tr>\n",
       "<tr><td>HD_174829</td><td>nan</td><td>nan</td><td>0.10599999999999934</td><td>0.14481354550926143</td><td>-0.03449999999999981</td><td>0.020152543263816425</td><td>0.07699999999999907</td><td>0.03525836071061719</td><td>0.16200000000000003</td><td>0.03606244584051403</td><td>0.13650000000000045</td><td>0.020152543263816738</td><td>-0.08200000000000007</td><td>0.024887366272870227</td><td>nan</td><td>nan</td><td>nan</td><td>nan</td><td>-0.017499999999999516</td><td>0.0003535533905933918</td><td>-0.09200000000000036</td><td>0.008261047025600538</td><td>0.021499999999999686</td><td>0.013594576124322558</td><td>-0.3520000000000002</td><td>0.00555777733351105</td></tr>\n",
       "<tr><td>HD_175740</td><td>nan</td><td>nan</td><td>nan</td><td>nan</td><td>nan</td><td>nan</td><td>nan</td><td>nan</td><td>nan</td><td>nan</td><td>nan</td><td>nan</td><td>nan</td><td>nan</td><td>nan</td><td>nan</td><td>nan</td><td>nan</td><td>nan</td><td>nan</td><td>nan</td><td>nan</td><td>nan</td><td>nan</td><td>nan</td><td>nan</td></tr>\n",
       "<tr><td>HD_175884</td><td>nan</td><td>nan</td><td>0.10100000000000034</td><td>0.015087399697417316</td><td>-0.02099999999999974</td><td>0.0261629509039022</td><td>0.06500000000000039</td><td>0.017355114519933348</td><td>0.17849999999999977</td><td>0.03217335854398767</td><td>0.13600000000000073</td><td>0.014849242404917432</td><td>-0.04149999999999987</td><td>0.02206807649071389</td><td>nan</td><td>nan</td><td>nan</td><td>nan</td><td>-0.013499999999999512</td><td>0.015909902576697294</td><td>-0.07000000000000012</td><td>0.012320311987265405</td><td>0.09300000000000025</td><td>0.02222154078816322</td><td>-0.3600000000000002</td><td>0.028818718197007258</td></tr>\n",
       "<tr><td>...</td><td>...</td><td>...</td><td>...</td><td>...</td><td>...</td><td>...</td><td>...</td><td>...</td><td>...</td><td>...</td><td>...</td><td>...</td><td>...</td><td>...</td><td>...</td><td>...</td><td>...</td><td>...</td><td>...</td><td>...</td><td>...</td><td>...</td><td>...</td><td>...</td><td>...</td><td>...</td></tr>\n",
       "<tr><td>HD_181880</td><td>nan</td><td>nan</td><td>0.26300000000000023</td><td>0.1112684441639527</td><td>-0.04549999999999993</td><td>0.00954594154601844</td><td>0.19600000000000062</td><td>0.03474317199105454</td><td>0.06400000000000017</td><td>0.0473761543394988</td><td>0.19000000000000056</td><td>0.014142135623730963</td><td>-0.03599999999999981</td><td>0.04102712517347516</td><td>nan</td><td>nan</td><td>0.04300000000000037</td><td>0.1</td><td>-0.050499999999999434</td><td>0.06470027047856904</td><td>0.0030000000000002802</td><td>0.016001822053688153</td><td>0.0370000000000002</td><td>0.02696087700518825</td><td>-0.15500000000000014</td><td>0.06337600901380996</td></tr>\n",
       "<tr><td>HD_182354</td><td>nan</td><td>nan</td><td>0.0350000000000005</td><td>0.0893843138115161</td><td>0.013000000000000067</td><td>0.020343349081502204</td><td>0.0470000000000006</td><td>0.01596896991042302</td><td>0.08500000000000008</td><td>0.006363961030679169</td><td>0.050500000000001044</td><td>0.07035712472806142</td><td>-0.05199999999999938</td><td>0.025520163357453895</td><td>nan</td><td>nan</td><td>nan</td><td>nan</td><td>-0.009999999999999232</td><td>0.004242640687119131</td><td>-0.10499999999999937</td><td>0.010407442952265653</td><td>0.08300000000000002</td><td>0.01272705983824232</td><td>-0.007000000000000006</td><td>0.08725484174191939</td></tr>\n",
       "<tr><td>HD_182531</td><td>nan</td><td>nan</td><td>0.07750000000000004</td><td>0.008437131336253087</td><td>-0.04299999999999954</td><td>0.04560838738653247</td><td>0.057500000000000995</td><td>0.0392907113705007</td><td>0.13850000000000062</td><td>0.1</td><td>0.12600000000000094</td><td>0.015909902576697294</td><td>0.0055000000000007265</td><td>0.023691454155454452</td><td>nan</td><td>nan</td><td>nan</td><td>nan</td><td>-0.011499999999999289</td><td>0.017677669529663625</td><td>-0.07249999999999962</td><td>0.009968755854892802</td><td>0.021500000000000796</td><td>0.056864361031805796</td><td>-0.3454999999999998</td><td>0.019442222095223567</td></tr>\n",
       "<tr><td>HD_182692</td><td>nan</td><td>nan</td><td>0.095000000000001</td><td>0.05448547206977895</td><td>0.08950000000000075</td><td>0.05267945519839779</td><td>0.08400000000000052</td><td>0.028851897684554532</td><td>0.15300000000000058</td><td>0.021920310216782757</td><td>0.21800000000000103</td><td>0.04242640687119289</td><td>-0.01299999999999879</td><td>0.03003637794408635</td><td>nan</td><td>nan</td><td>nan</td><td>nan</td><td>0.015000000000001124</td><td>0.07212489168102774</td><td>0.008000000000001062</td><td>0.017183285661434098</td><td>0.17000000000000065</td><td>0.015791856003946572</td><td>-0.17199999999999915</td><td>0.1</td></tr>\n",
       "<tr><td>HD_182694</td><td>nan</td><td>nan</td><td>0.03399999999999928</td><td>0.008956685895029574</td><td>-0.004000000000000281</td><td>0.011297328428864505</td><td>-0.004000000000000448</td><td>0.021558478610514176</td><td>0.14449999999999996</td><td>0.03500178566873417</td><td>0.04550000000000026</td><td>0.01378858223313757</td><td>-0.1279999999999999</td><td>0.014158382840499528</td><td>nan</td><td>nan</td><td>0.09600000000000031</td><td>0.1</td><td>0.001500000000000612</td><td>0.02085965004500321</td><td>-0.11599999999999949</td><td>0.014791653150187522</td><td>0.03749999999999992</td><td>0.02674926984984822</td><td>-0.2600000000000001</td><td>0.027163428573209396</td></tr>\n",
       "<tr><td>HD_183124</td><td>nan</td><td>nan</td><td>0.22100000000000045</td><td>0.046017709956381256</td><td>0.030000000000000415</td><td>0.022895899681432658</td><td>0.07600000000000051</td><td>0.0332654776006598</td><td>0.09750000000000025</td><td>0.006010407640085463</td><td>0.17000000000000054</td><td>0.011313708498984769</td><td>-0.04299999999999904</td><td>0.02790641223315031</td><td>nan</td><td>nan</td><td>0.21400000000000063</td><td>0.1</td><td>-0.05549999999999933</td><td>0.04207285348059949</td><td>-0.036999999999999755</td><td>0.008900813996254352</td><td>0.1230000000000005</td><td>0.014837205302202209</td><td>-0.1839999999999996</td><td>0.025110127807689772</td></tr>\n",
       "<tr><td>HD_185286</td><td>nan</td><td>nan</td><td>0.22150000000000017</td><td>0.0168808460381274</td><td>-0.0004999999999991123</td><td>0.038890872965260226</td><td>0.10250000000000092</td><td>0.03335697828041387</td><td>-0.0364999999999992</td><td>0.1</td><td>0.14800000000000074</td><td>0.022273863607376147</td><td>0.08400000000000118</td><td>0.03361994833318336</td><td>nan</td><td>nan</td><td>-0.022499999999998854</td><td>0.1</td><td>0.07600000000000062</td><td>0.11914749262993315</td><td>-0.06749999999999928</td><td>0.025875413755861592</td><td>0.16800000000000043</td><td>0.06187184335382284</td><td>-0.2324999999999996</td><td>0.09687362902255717</td></tr>\n",
       "<tr><td>HD_188537</td><td>nan</td><td>nan</td><td>0.25900000000000023</td><td>0.028991378028648384</td><td>0.039000000000000756</td><td>0.02295083311648486</td><td>0.11600000000000055</td><td>0.01776363912603502</td><td>-0.020999999999999797</td><td>0.06788225099390861</td><td>0.1870000000000009</td><td>0.1</td><td>-0.03249999999999953</td><td>0.04789881000609518</td><td>nan</td><td>nan</td><td>0.130000000000001</td><td>0.1</td><td>-0.014499999999999402</td><td>0.016617009357883763</td><td>0.00500000000000006</td><td>0.014978507440035356</td><td>0.17250000000000038</td><td>0.014460006807571008</td><td>-0.20699999999999974</td><td>0.1</td></tr>\n",
       "<tr><td>HD_189750</td><td>nan</td><td>nan</td><td>0.13199999999999915</td><td>0.04285116360406348</td><td>0.005999999999999506</td><td>0.023114850124893782</td><td>0.02799999999999958</td><td>0.008518215775618813</td><td>0.15349999999999941</td><td>0.03500178566873417</td><td>0.11200000000000027</td><td>0.009899494936611516</td><td>-0.042500000000000204</td><td>0.01333791587917694</td><td>nan</td><td>nan</td><td>0.12500000000000022</td><td>0.1</td><td>-0.11149999999999982</td><td>0.04136574669941302</td><td>-0.048000000000000764</td><td>0.013267158426406515</td><td>0.10700000000000004</td><td>0.016751962807012123</td><td>-0.2290000000000002</td><td>0.0007071067811866267</td></tr>\n",
       "<tr><td>HD_226754</td><td>nan</td><td>nan</td><td>0.24800000000000055</td><td>0.032236395350367306</td><td>-0.03849999999999937</td><td>0.017324116139070547</td><td>0.06650000000000045</td><td>0.03767687453863449</td><td>-0.005999999999999228</td><td>0.1</td><td>0.2495000000000009</td><td>0.05762920266670371</td><td>-0.023999999999999355</td><td>0.023311410832465653</td><td>nan</td><td>nan</td><td>-0.02199999999999913</td><td>0.1</td><td>0.050500000000000544</td><td>0.08379215357060592</td><td>0.0010000000000005005</td><td>0.03228919323860531</td><td>0.10300000000000092</td><td>0.1</td><td>-0.13599999999999957</td><td>0.1</td></tr>\n",
       "</table>"
      ],
      "text/plain": [
       "<Table length=33>\n",
       "  Object      O      Oerr  ...           Cu                  Cuerr        \n",
       " bytes32   bytes32 bytes32 ...        bytes32               bytes32       \n",
       "---------- ------- ------- ... --------------------- ---------------------\n",
       "BD_36_3564     nan     nan ...   -0.1489999999999997   0.07848885271170676\n",
       "BD_39_3577     nan     nan ...   -0.7860000000000004   0.12572132616168136\n",
       "BD_42_3150     nan     nan ...  -0.13500000000000012  0.027980151695244263\n",
       "BD_43_3171     nan     nan ...                 -0.36                   0.1\n",
       "BD_48_2904     nan     nan ...  -0.25700000000000045  0.029628564795680747\n",
       "BD_48_2955     nan     nan ...  -0.09500000000000075   0.04030508652763332\n",
       " HD_174020     nan     nan ...                -0.208                  0.06\n",
       " HD_174829     nan     nan ...   -0.3520000000000002   0.00555777733351105\n",
       " HD_175740     nan     nan ...                   nan                   nan\n",
       " HD_175884     nan     nan ...   -0.3600000000000002  0.028818718197007258\n",
       "       ...     ...     ... ...                   ...                   ...\n",
       " HD_181880     nan     nan ...  -0.15500000000000014   0.06337600901380996\n",
       " HD_182354     nan     nan ... -0.007000000000000006   0.08725484174191939\n",
       " HD_182531     nan     nan ...   -0.3454999999999998  0.019442222095223567\n",
       " HD_182692     nan     nan ...  -0.17199999999999915                   0.1\n",
       " HD_182694     nan     nan ...   -0.2600000000000001  0.027163428573209396\n",
       " HD_183124     nan     nan ...   -0.1839999999999996  0.025110127807689772\n",
       " HD_185286     nan     nan ...   -0.2324999999999996   0.09687362902255717\n",
       " HD_188537     nan     nan ...  -0.20699999999999974                   0.1\n",
       " HD_189750     nan     nan ...   -0.2290000000000002 0.0007071067811866267\n",
       " HD_226754     nan     nan ...  -0.13599999999999957                   0.1"
      ]
     },
     "execution_count": 5,
     "metadata": {},
     "output_type": "execute_result"
    }
   ],
   "source": [
    "diff"
   ]
  },
  {
   "cell_type": "markdown",
   "metadata": {},
   "source": [
    "How do abundances compare between the differential and non-differential methods? Not too badly. Many more elements lack differential abundances than absolute abundances so it looks like in the paper we shouldn't use the differential. Good to include in online data though."
   ]
  },
  {
   "cell_type": "code",
   "execution_count": 6,
   "metadata": {},
   "outputs": [],
   "source": [
    "# for j, key in enumerate(diff.keys()[1:]):\n",
    "#     if key[0]=='e':\n",
    "#         continue\n",
    "#     plt.figure(j)\n",
    "#     plt.plot(diff[key],nodiff[key],'.')\n",
    "#     plt.title(key)"
   ]
  },
  {
   "cell_type": "code",
   "execution_count": 7,
   "metadata": {},
   "outputs": [],
   "source": [
    "# nodiff.keys()"
   ]
  },
  {
   "cell_type": "code",
   "execution_count": 8,
   "metadata": {},
   "outputs": [],
   "source": [
    "# diff"
   ]
  },
  {
   "cell_type": "markdown",
   "metadata": {},
   "source": [
    "### Create a string-formatted table merging abundances with their uncertainties appropriately."
   ]
  },
  {
   "cell_type": "code",
   "execution_count": 9,
   "metadata": {},
   "outputs": [],
   "source": [
    "alpha = ['Mg','Ti','Si','Ca','Al','V','Ni']\n",
    "neutron = ['Sr','Y','Zr','Ba','La','Eu']"
   ]
  },
  {
   "cell_type": "code",
   "execution_count": 10,
   "metadata": {},
   "outputs": [
    {
     "name": "stdout",
     "output_type": "stream",
     "text": [
      "Sr\n",
      "Y\n",
      "Zr\n",
      "Ba\n",
      "La\n",
      "Eu\n"
     ]
    }
   ],
   "source": [
    "for ell in neutron:\n",
    "    print(ell)"
   ]
  },
  {
   "cell_type": "code",
   "execution_count": 11,
   "metadata": {},
   "outputs": [
    {
     "data": {
      "text/plain": [
       "['BD+36 3564',\n",
       " 'BD+39 3577',\n",
       " 'BD+42 3150',\n",
       " 'BD+43 3171',\n",
       " 'BD+48 2904',\n",
       " 'BD+48 2955',\n",
       " 'HD 174020',\n",
       " 'HD 174829',\n",
       " 'HD 175740',\n",
       " 'HD 175884',\n",
       " 'HD 178797',\n",
       " 'HD 178910',\n",
       " 'HD 179396',\n",
       " 'HD 180312',\n",
       " 'HD 180475',\n",
       " 'HD 180658',\n",
       " 'HD 180682',\n",
       " 'HD 180682',\n",
       " 'HD 181022',\n",
       " 'HD 181069',\n",
       " 'HD 181097',\n",
       " 'HD 181597',\n",
       " 'HD 181778',\n",
       " 'HD 181880',\n",
       " 'HD 182354',\n",
       " 'HD 182531',\n",
       " 'HD 182692',\n",
       " 'HD 182694',\n",
       " 'HD 183124',\n",
       " 'HD 185286',\n",
       " 'HD 188537',\n",
       " 'HD 189750',\n",
       " 'HD 226754']"
      ]
     },
     "execution_count": 11,
     "metadata": {},
     "output_type": "execute_result"
    }
   ],
   "source": [
    "([str(obj).replace('_',' ').replace('BD ','BD+') for obj in diff['Object'].astype('str')])"
   ]
  },
  {
   "cell_type": "code",
   "execution_count": 12,
   "metadata": {},
   "outputs": [],
   "source": [
    "newtab = Table([Column([str(obj).replace('_',' ').replace('BD ','BD+') for obj in diff['Object']],name='Object')])\n",
    "\n",
    "# first do the differential elements\n",
    "\n",
    "for el in alpha:\n",
    "    col = diff[el]\n",
    "    ecol = diff['%serr' % el]\n",
    "    test = Column(['--' if 'nan' in str(col[j]) else '$%.2f \\pm %.2f$' % (float(col[j]),float(ecol[j])) for j, x in enumerate(col)],name='[%s/Fe]' % el.replace('_Fe',''))\n",
    "#     test = Column(['$%.2f \\pm %.2f$' % (col[j],ecol[j]) for j, x in enumerate(col)],name=el.replace('_Fe',''))\n",
    "    newtab.add_column(test)\n",
    "    \n",
    "#     print el\n",
    "\n",
    "# Then do the neutron capture elements\n",
    "newtab2 = Table([Column([str(obj).replace('_',' ').replace('BD ','BD+') for obj in nodiff['Object']],name='Object')])\n",
    "\n",
    "for ell in neutron:\n",
    "    col = nodiff[ell]\n",
    "    ecol = nodiff['%serr' % ell]\n",
    "    test = Column(['--' if 'nan' in str(col[j]) else '$%.2f \\pm %.2f$' % (float(col[j]),float(ecol[j])) for j, x in enumerate(col)],name='[%s/Fe]' % ell)\n",
    "#     test = Column(['$%.2f \\pm %.2f$' % (col[j],ecol[j]) for j, x in enumerate(col)],name=el.replace('_Fe',''))\n",
    "\n",
    "    newtab2.add_column(test)\n",
    "    "
   ]
  },
  {
   "cell_type": "code",
   "execution_count": 13,
   "metadata": {},
   "outputs": [],
   "source": [
    "def oxford_join(string_list):\n",
    "    '''From https://stackoverflow.com/questions/19838976/grammatical-list-join-in-python'''\n",
    "    if len(string_list) < 1:\n",
    "        text = ''\n",
    "    elif len(string_list) == 1:\n",
    "        text = string_list[0]\n",
    "    elif len(string_list) == 2:\n",
    "        text = ' and '.join(string_list)\n",
    "    else:\n",
    "        text = ', '.join(string_list)\n",
    "        text = '{parts[0]}, and {parts[2]}'.format(parts=text.rpartition(', '))  # oxford comma\n",
    "    return text"
   ]
  },
  {
   "cell_type": "markdown",
   "metadata": {},
   "source": [
    "## Now produce three LaTeX tables to go into the paper directory."
   ]
  },
  {
   "cell_type": "code",
   "execution_count": 14,
   "metadata": {},
   "outputs": [
    {
     "name": "stderr",
     "output_type": "stream",
     "text": [
      "WARNING: AstropyDeprecationWarning: ../paper/abundances_1.tex already exists. Automatically overwriting ASCII files is deprecated. Use the argument 'overwrite=True' in the future. [astropy.io.ascii.ui]\n",
      "WARNING: AstropyDeprecationWarning: ../paper/abundances_1_apj.tex already exists. Automatically overwriting ASCII files is deprecated. Use the argument 'overwrite=True' in the future. [astropy.io.ascii.ui]\n",
      "WARNING: AstropyDeprecationWarning: ../paper/abundances_2.tex already exists. Automatically overwriting ASCII files is deprecated. Use the argument 'overwrite=True' in the future. [astropy.io.ascii.ui]\n",
      "WARNING: AstropyDeprecationWarning: ../paper/abundances_2_apj.tex already exists. Automatically overwriting ASCII files is deprecated. Use the argument 'overwrite=True' in the future. [astropy.io.ascii.ui]\n"
     ]
    }
   ],
   "source": [
    "latexdict = ascii.latex.latexdicts['AA'].copy()\n",
    "latexdict['tabletype']= 'table*'\n",
    "\n",
    "caption1 = r'Chemical abundances relative to iron for stars in the red giant sample as determined by BACCHUS,  differential line-by-line comparison to Arcturus, as described in Section~\\ref{spectroscopy}, for the elements %s. Dashes indicate elements for which abundances could not be reliably computed.' % oxford_join([el.replace('_Fe','') for el in filter(lambda x: x !='O_Fe',alpha)])\n",
    "caption2 = r'Chemical abundances relative to iron of neutron capture elements for stars in the red giant sample as determined by BACCHUS, without differential line-by-line comparison to Arcturus, as described in Section~\\ref{spectroscopy}, for the elements %s. Dashes indicate elements for which abundances could not be reliably computed.' % oxford_join([el.replace('_Fe','') for el in neutron])\n",
    "# caption3 = r'Chemical abundances relative to iron for stars in the red giant sample as determined by BACCHUS, without differential line-by-line comparison to Arcturus, as described in Section~\\ref{spectroscopy}, for the elements %s. Dashes indicate elements for which abundances could not be reliably computed.' % oxford_join([el.replace('_Fe','') for el in elements[15:]])\n",
    "\n",
    "caption1 = caption1+r'The catalogue of abundances for neutron capture elements continues in Table~\\ref{elems2}.'\n",
    "# caption2 = caption2+r'The catalogue of abundances for more elements continues in Table~\\ref{elems3}.'\n",
    "\n",
    "\n",
    "newtab.write('../paper/abundances_1.tex',format='latex',latexdict=latexdict,caption=caption1+'\\label{elems1}')\n",
    "newtab.write('../paper/abundances_1_apj.tex',format='aastex',caption=caption1+'\\label{elems1}')\n",
    "\n",
    "newtab2.write('../paper/abundances_2.tex',format='latex',latexdict=latexdict,caption=caption2+'\\label{elems2}')\n",
    "newtab2.write('../paper/abundances_2_apj.tex',format='aastex',caption=caption2+'\\label{elems2}')\n",
    "\n",
    "# newtab3.write('../paper/abundances_3.tex',format='latex',latexdict=latexdict,caption=caption3+'\\label{elems3}')"
   ]
  },
  {
   "cell_type": "markdown",
   "metadata": {},
   "source": [
    "### Now let's also do the stellar properties"
   ]
  },
  {
   "cell_type": "code",
   "execution_count": 15,
   "metadata": {},
   "outputs": [
    {
     "name": "stderr",
     "output_type": "stream",
     "text": [
      "WARNING: AstropyDeprecationWarning: all_props.csv already exists. Automatically overwriting ASCII files is deprecated. Use the argument 'overwrite=True' in the future. [astropy.io.ascii.ui]\n"
     ]
    }
   ],
   "source": [
    "fname_merged =\"../data/abundances/final_pope_merged.fits\"\n",
    "fname_merged = '../data/spc_final.txt'\n",
    "fname_mass = '../data/smeartest201018_SeismoFullove02_full_notefftol.ascii'\n",
    "fname_mass_extra = '../data/smeartest_full.ascii'\n",
    "\n",
    "merged = Table.read(fname_merged,format='ascii')\n",
    "masses = Table.read(fname_mass,format='ascii')\n",
    "masses_extra = Table.read(fname_mass_extra,format='ascii') # fix the bad stars \n",
    "\n",
    "for obj in masses_extra:\n",
    "    for key in masses.keys()[1:]:\n",
    "        m = masses['Object']==obj['Object']\n",
    "        masses[key][m] = obj[key]\n",
    "\n",
    "masses['age'] /= 1000. # Gyr not Myr\n",
    "masses['age_errp'] /= 1000.\n",
    "masses['age_errm'] /= 1000.\n",
    "\n",
    "# fname_spc = \"../data/spc_final.txt\"\n",
    "# spc = Table.read(fname_spc,format='ascii')\n",
    "astero_logg = Table.read('../data/pope_asteroseismology.csv')\n",
    "# merged = Table.read(fname_merged)\n",
    "merged.rename_column('RVerr','RV_err')\n",
    "merged.keys()\n",
    "merged.sort('Object')\n",
    "joint = join(merged,astero_logg,keys='Object')\n",
    "joint = join(joint,masses,keys='Object')\n",
    "joint.write('all_props.csv',format='ascii')"
   ]
  },
  {
   "cell_type": "code",
   "execution_count": 16,
   "metadata": {},
   "outputs": [
    {
     "data": {
      "text/plain": [
       "['Object',\n",
       " 'massfin',\n",
       " 'massfin_errp',\n",
       " 'massfin_errm',\n",
       " 'radPhot',\n",
       " 'radPhot_errp',\n",
       " 'radPhot_errm',\n",
       " 'logg',\n",
       " 'logg_errp',\n",
       " 'logg_errm',\n",
       " 'age',\n",
       " 'age_errp',\n",
       " 'age_errm']"
      ]
     },
     "execution_count": 16,
     "metadata": {},
     "output_type": "execute_result"
    }
   ],
   "source": [
    "masses.keys()"
   ]
  },
  {
   "cell_type": "code",
   "execution_count": 17,
   "metadata": {},
   "outputs": [],
   "source": [
    "counter = []\n",
    "counter2 = []\n",
    "for obj in merged['Object']:\n",
    "    if obj not in astero_logg['Object']:\n",
    "#         print obj\n",
    "        counter.append(obj)\n",
    "for obj in astero_logg['Object']:\n",
    "    if obj not in merged['Object']:\n",
    "#         print obj\n",
    "        counter2.append(obj)\n",
    "\n",
    "# print len(counter)\n",
    "# print len(counter2)\n",
    "# print counter"
   ]
  },
  {
   "cell_type": "code",
   "execution_count": null,
   "metadata": {},
   "outputs": [],
   "source": []
  },
  {
   "cell_type": "code",
   "execution_count": 18,
   "metadata": {},
   "outputs": [],
   "source": [
    "for j, obj in enumerate(astero_logg['Object']):\n",
    "    ind = merged['Object']==obj\n",
    "    merged[ind]['log_g'] = astero_logg['log_g'][j]\n",
    "    merged[ind]['log_g_err'] = astero_logg['log_g_err'][j]"
   ]
  },
  {
   "cell_type": "code",
   "execution_count": 19,
   "metadata": {},
   "outputs": [],
   "source": [
    "newtab = Table([Column([str(obj).replace('_',' ') for obj in joint['Object']],name='Object')])\n",
    "\n",
    "newkeys = ['RV', 'Teff', 'log_g', 'monh','vsini']\n",
    "names = [r'RV',r'\\teff', r'\\logg',r'[M/H]',r'$V\\sin{i}$']\n",
    "units = [r'(km/s)', r'(K)', '','','(km/s)']\n",
    "\n",
    "for k, key in enumerate(newkeys):\n",
    "    col = joint[key]\n",
    "    if key+'_err' in joint.keys():\n",
    "        ecol = joint['%s_err' % key]\n",
    "        if 'Teff' in key:\n",
    "            test = Column(['--' if 'nan' in str(col[j]) else '$%.0f \\pm %.0f$' % (col[j],ecol[j]) for j, x in enumerate(col)],name=names[k])\n",
    "        elif 'log' in key:\n",
    "            test = Column(['--' if 'nan' in str(col[j]) else '$%.4f \\pm %.4f$' % (col[j],ecol[j]) for j, x in enumerate(col)],name=names[k])\n",
    "        else:\n",
    "            test = Column(['--' if 'nan' in str(col[j]) else '$%.2f \\pm %.2f$' % (col[j],ecol[j]) for j, x in enumerate(col)],name=names[k])\n",
    "    else:\n",
    "        test = Column(['%.1f' % (col[j]) for j, x in enumerate(col)],name=names[k])\n",
    "    \n",
    "    newtab.add_column(test)\n",
    "    \n",
    "amaliekeys = ['massfin','radPhot','age']\n",
    "amalienames = ['Mass', 'Radius','Age']\n",
    "amalieunits = ['(\\msun)','(\\\\rsun)','(Gyr)']\n",
    "\n",
    "for k, key in enumerate(amaliekeys):\n",
    "    col = joint[key]\n",
    "    ecolp = joint['%s_errp' % key]\n",
    "    ecolm = joint['%s_errm' % key]\n",
    "    test = Column(['--' if 'nan' in str(col[j]) else '$%.2f^{+%.2f}_{-%.2f}$' % (col[j],ecolp[j],ecolm[j]) for j, x in enumerate(col)],name=amalienames[k])\n",
    "    \n",
    "    newtab.add_column(test)\n"
   ]
  },
  {
   "cell_type": "code",
   "execution_count": 20,
   "metadata": {},
   "outputs": [
    {
     "name": "stderr",
     "output_type": "stream",
     "text": [
      "WARNING: AstropyDeprecationWarning: ../paper/stellar_props.tex already exists. Automatically overwriting ASCII files is deprecated. Use the argument 'overwrite=True' in the future. [astropy.io.ascii.ui]\n"
     ]
    }
   ],
   "source": [
    "latexdict = ascii.latex.latexdicts['AA'].copy()\n",
    "latexdict['tabletype']= 'table*'\n",
    "latexdict['units'] = dict(zip(names+amalienames,units+amalieunits))\n",
    "\n",
    "caption = r'Fundamental stellar parameters for the red giant sample as determined jointly by asteroseismology (asteroseismic \\logg; Section~\\ref{asteroseismology}) and spectroscopy (%s; Section~\\ref{spectroscopy}.)' % oxford_join(names+amalienames)  \n",
    "caption = caption+r'\\label{stellar_props}'\n",
    "newtab.write('../paper/stellar_props.tex',format='latex',latexdict=latexdict,caption=caption+'\\label{stellar_props}')"
   ]
  },
  {
   "cell_type": "code",
   "execution_count": 21,
   "metadata": {},
   "outputs": [],
   "source": [
    "caption = r'Fundamental stellar parameters for the red giant sample as determined jointly by asteroseismology (asteroseismic \\logg; Section~\\ref{asteroseismology}) and spectroscopy (%s; Section~\\ref{spectroscopy}.)' % oxford_join(names+amalienames)  \n",
    "caption = caption+r'\\label{stellar_props}'\n",
    "\n",
    "newtab.write('../paper/stellar_props_apj.tex',format='aastex',caption=caption,overwrite=True)\n",
    "# with open('../paper/stellar_props_apj.tex', 'r') as original: oldtext = original.read()\n",
    "# with open('../paper/stellar_props_apj.tex', 'w') as modified: modified.write(\"\\\\begin{longrotatetable}\\n\" + oldtext+'\\\\end{longrotatetable}\\n')\n",
    "\n"
   ]
  },
  {
   "cell_type": "markdown",
   "metadata": {},
   "source": [
    "### Now let's look at the proper spectroscopy with Dnu measurements"
   ]
  },
  {
   "cell_type": "code",
   "execution_count": 22,
   "metadata": {},
   "outputs": [],
   "source": [
    "fname_seismic = \"../data/smear_Dnu.csv\"\n",
    "seismic = Table.read(fname_seismic)\n",
    "seismic.remove_row(np.where(seismic['Star_ID']=='HD_189636')[0][0])\n",
    "seismic.sort('Star_ID')"
   ]
  },
  {
   "cell_type": "code",
   "execution_count": 23,
   "metadata": {},
   "outputs": [
    {
     "data": {
      "text/html": [
       "<i>Table length=33</i>\n",
       "<table id=\"table4723250960\" class=\"table-striped table-bordered table-condensed\">\n",
       "<thead><tr><th>Star_ID</th><th>Dnu</th><th>Dnu_err</th><th>Numax</th><th>Numax_err</th><th>eps</th><th>eps_err</th></tr></thead>\n",
       "<thead><tr><th>str10</th><th>float64</th><th>float64</th><th>float64</th><th>float64</th><th>float64</th><th>float64</th></tr></thead>\n",
       "<tr><td>BD+36_3564</td><td>0.9490949804411055</td><td>0.030097283743239316</td><td>5.079062736733746</td><td>0.09882652247868091</td><td>0.8305746287171062</td><td>0.20003026391376488</td></tr>\n",
       "<tr><td>BD+39_3577</td><td>1.6836250688792482</td><td>0.01363988821142889</td><td>13.266855807051439</td><td>0.31633186319569034</td><td>0.7409609522947077</td><td>0.06299253167276896</td></tr>\n",
       "<tr><td>BD+42_3150</td><td>4.221788591943251</td><td>0.028504804862306103</td><td>38.315943379269186</td><td>0.9588694546996247</td><td>0.7013731801198373</td><td>0.07075600621249865</td></tr>\n",
       "<tr><td>BD+43_3171</td><td>0.41728859981040545</td><td>0.05318387492844148</td><td>1.984298734336489</td><td>0.05145104900196677</td><td>0.8040170562496404</td><td>0.17159665699501567</td></tr>\n",
       "<tr><td>BD+43_3213</td><td>0.48750734592283734</td><td>0.006958633078022336</td><td>2.5632797174106847</td><td>0.06325084146747773</td><td>1.0124195735754942</td><td>0.07326685394355063</td></tr>\n",
       "<tr><td>BD+48_2904</td><td>2.8511597676805804</td><td>0.010318892608438912</td><td>23.13453453354469</td><td>0.7225398099392429</td><td>0.8563054208127122</td><td>0.08052669688943252</td></tr>\n",
       "<tr><td>BD+48_2955</td><td>0.8953098233940573</td><td>0.0068208356847463585</td><td>5.440132725276065</td><td>0.08331498484403516</td><td>0.8105480979445374</td><td>0.052471147709803705</td></tr>\n",
       "<tr><td>HD_174020</td><td>0.5639183284003043</td><td>0.01603666749035637</td><td>2.47548965209216</td><td>0.09744999575175439</td><td>0.8926590744791576</td><td>0.08467569516842773</td></tr>\n",
       "<tr><td>HD_174829</td><td>1.2833572675283929</td><td>0.011357043983480081</td><td>7.9497984768617815</td><td>0.1571667547811646</td><td>0.7755393571480604</td><td>0.05755641850899791</td></tr>\n",
       "<tr><td>HD_175740</td><td>5.930230004063379</td><td>0.010423967130974505</td><td>64.33345016648104</td><td>0.781397165223729</td><td>1.0017574684895851</td><td>0.019432829648297706</td></tr>\n",
       "<tr><td>...</td><td>...</td><td>...</td><td>...</td><td>...</td><td>...</td><td>...</td></tr>\n",
       "<tr><td>HD_181880</td><td>1.0380377973976795</td><td>0.008324731510117664</td><td>6.543022284187729</td><td>0.09833116330280509</td><td>0.7641806590323222</td><td>0.048895387272344666</td></tr>\n",
       "<tr><td>HD_182354</td><td>2.6567259425373924</td><td>0.0116743978566671</td><td>24.73075125143719</td><td>0.3707943073028773</td><td>0.7424211095150425</td><td>0.041177248862450624</td></tr>\n",
       "<tr><td>HD_182531</td><td>1.0303790538910182</td><td>0.004200581130585748</td><td>6.465080945267556</td><td>0.08931624177636578</td><td>0.8644896897235024</td><td>0.027293960706728466</td></tr>\n",
       "<tr><td>HD_182692</td><td>4.656371955263934</td><td>0.010792609608257217</td><td>44.38373487371614</td><td>0.469132553990273</td><td>0.8736919472802216</td><td>0.022597153253640357</td></tr>\n",
       "<tr><td>HD_182694</td><td>5.71435782334927</td><td>0.014267235676153614</td><td>69.7756254063585</td><td>1.017847172490138</td><td>0.9395935999968813</td><td>0.2516523703726711</td></tr>\n",
       "<tr><td>HD_183124</td><td>4.3919882085523305</td><td>0.013079012313137814</td><td>39.585673622735754</td><td>0.2876104937870424</td><td>0.9451337192882556</td><td>0.027794156928306737</td></tr>\n",
       "<tr><td>HD_185286</td><td>0.7202161705442813</td><td>0.007066328212678815</td><td>4.226733266919384</td><td>0.10176701279630138</td><td>0.7275758136813686</td><td>0.08183138701360353</td></tr>\n",
       "<tr><td>HD_188537</td><td>1.5481552727523136</td><td>0.01087246922323641</td><td>13.402868450842114</td><td>0.3426745085090518</td><td>0.7178796532748889</td><td>0.06718021726784126</td></tr>\n",
       "<tr><td>HD_189750</td><td>4.156962281052604</td><td>0.03829971628489321</td><td>36.14219592398721</td><td>0.5754661116683394</td><td>0.9436460960784349</td><td>0.07974840612479843</td></tr>\n",
       "<tr><td>HD_226754</td><td>1.187709408421745</td><td>0.012942784192061485</td><td>7.40678483572143</td><td>0.18595980259156958</td><td>0.7353868227670696</td><td>0.07705968190684095</td></tr>\n",
       "</table>"
      ],
      "text/plain": [
       "<Table length=33>\n",
       " Star_ID           Dnu         ...        eps               eps_err       \n",
       "  str10          float64       ...      float64             float64       \n",
       "---------- ------------------- ... ------------------ --------------------\n",
       "BD+36_3564  0.9490949804411055 ... 0.8305746287171062  0.20003026391376488\n",
       "BD+39_3577  1.6836250688792482 ... 0.7409609522947077  0.06299253167276896\n",
       "BD+42_3150   4.221788591943251 ... 0.7013731801198373  0.07075600621249865\n",
       "BD+43_3171 0.41728859981040545 ... 0.8040170562496404  0.17159665699501567\n",
       "BD+43_3213 0.48750734592283734 ... 1.0124195735754942  0.07326685394355063\n",
       "BD+48_2904  2.8511597676805804 ... 0.8563054208127122  0.08052669688943252\n",
       "BD+48_2955  0.8953098233940573 ... 0.8105480979445374 0.052471147709803705\n",
       " HD_174020  0.5639183284003043 ... 0.8926590744791576  0.08467569516842773\n",
       " HD_174829  1.2833572675283929 ... 0.7755393571480604  0.05755641850899791\n",
       " HD_175740   5.930230004063379 ... 1.0017574684895851 0.019432829648297706\n",
       "       ...                 ... ...                ...                  ...\n",
       " HD_181880  1.0380377973976795 ... 0.7641806590323222 0.048895387272344666\n",
       " HD_182354  2.6567259425373924 ... 0.7424211095150425 0.041177248862450624\n",
       " HD_182531  1.0303790538910182 ... 0.8644896897235024 0.027293960706728466\n",
       " HD_182692   4.656371955263934 ... 0.8736919472802216 0.022597153253640357\n",
       " HD_182694    5.71435782334927 ... 0.9395935999968813   0.2516523703726711\n",
       " HD_183124  4.3919882085523305 ... 0.9451337192882556 0.027794156928306737\n",
       " HD_185286  0.7202161705442813 ... 0.7275758136813686  0.08183138701360353\n",
       " HD_188537  1.5481552727523136 ... 0.7178796532748889  0.06718021726784126\n",
       " HD_189750   4.156962281052604 ... 0.9436460960784349  0.07974840612479843\n",
       " HD_226754   1.187709408421745 ... 0.7353868227670696  0.07705968190684095"
      ]
     },
     "execution_count": 23,
     "metadata": {},
     "output_type": "execute_result"
    }
   ],
   "source": [
    "seismic"
   ]
  },
  {
   "cell_type": "code",
   "execution_count": 24,
   "metadata": {},
   "outputs": [
    {
     "name": "stderr",
     "output_type": "stream",
     "text": [
      "WARNING: AstropyDeprecationWarning: ../paper/astero_table.tex already exists. Automatically overwriting ASCII files is deprecated. Use the argument 'overwrite=True' in the future. [astropy.io.ascii.ui]\n"
     ]
    }
   ],
   "source": [
    "newtab = Table([Column([str(obj).replace('_',' ') for obj in seismic['Star_ID']],name='Object')])\n",
    "\n",
    "newkeys = ['Dnu', 'Numax', 'eps']\n",
    "names = [r'\\Dnu',r'\\numax', r'$\\epsilon$']\n",
    "units = [r'(\\muHz)', r'(\\muHz)','']\n",
    "\n",
    "for k, key in enumerate(newkeys):\n",
    "    col = seismic[key]\n",
    "    if key+'_err' in seismic.keys():\n",
    "        ecol = seismic['%s_err' % key]\n",
    "        if 'Teff' in key:\n",
    "            test = Column(['--' if 'nan' in str(col[j]) else '$%.0f \\pm %.0f$' % (col[j],ecol[j]) for j, x in enumerate(col)],name=names[k])\n",
    "        else:\n",
    "            test = Column(['--' if 'nan' in str(col[j]) else '$%.2f \\pm %.2f$' % (col[j],ecol[j]) for j, x in enumerate(col)],name=names[k])\n",
    "    else:\n",
    "        test = Column(['%.1f' % (col[j]) for j, x in enumerate(col)],name=names[k])\n",
    "    \n",
    "    newtab.add_column(test)\n",
    "\n",
    "latexdict = ascii.latex.latexdicts['AA'].copy()\n",
    "latexdict['tabletype']= 'table'\n",
    "latexdict['units'] = dict(zip(names,units))\n",
    "\n",
    "caption = r'Global asteroseismic parameters %s for the red giant sample as discussed in Section~\\ref{asteroseismology}.' % oxford_join(names)  \n",
    "caption = caption+r'\\label{astero_table}'\n",
    "newtab.write('../paper/astero_table.tex',format='latex',latexdict=latexdict,caption=caption)\n",
    "newtab.write('../paper/astero_table_apj.tex',format='aastex',caption=caption,overwrite=True)\n"
   ]
  },
  {
   "cell_type": "markdown",
   "metadata": {},
   "source": [
    "### Notes on individual stars from Guy Davies\n",
    "\n",
    "BD+39_388 - No secure detection.\n",
    "\n",
    "BD+43_306 - Big peaks but not consistent enough with RG pattern.\n",
    "\n",
    "HD_179959 - Pattern is too complicated - is this two stars??  Literature says no.\n",
    "\n",
    "HD_185351 - Odd mode envelope - No explanation.\n",
    "\n",
    "HD_187217 - No info on this star - maybe a double but very difficult to tell.\n",
    "\n",
    "HD_188639 - Too difficult to get a robust Dnu.\n",
    "\n",
    "HD_188875 -  Too difficult to get a robust Dnu.\n",
    "\n",
    "HD_188629 - Too difficult to get a robust Dnu.\n",
    "\n"
   ]
  },
  {
   "cell_type": "code",
   "execution_count": 25,
   "metadata": {},
   "outputs": [
    {
     "data": {
      "image/png": "[encoded data removed]",
      "text/plain": [
       "<Figure size 432x288 with 1 Axes>"
      ]
     },
     "metadata": {
      "needs_background": "light"
     },
     "output_type": "display_data"
    }
   ],
   "source": [
    "# the stars follow the expected numax-Dnu relation\n",
    "plt.errorbar(seismic['Numax'],seismic['Dnu'],xerr=seismic['Numax_err'],yerr=seismic['Dnu_err'],linestyle='none')\n",
    "plt.xlabel(r'$\\nu_{max}$ ($\\mu$Hz)')\n",
    "plt.ylabel(r'$\\Delta\\nu$ ($\\mu$Hz)')\n",
    "plt.title('Asteroseismic Parameters')\n",
    "plt.xscale('log')\n",
    "plt.yscale('log')"
   ]
  },
  {
   "cell_type": "markdown",
   "metadata": {},
   "source": [
    "### Which ones are missing?"
   ]
  },
  {
   "cell_type": "code",
   "execution_count": 26,
   "metadata": {},
   "outputs": [],
   "source": [
    "badstars = ['BD+39_388','BD+43_306','HD_179959','HD_185351','HD_187217','HD_188639','HD_188875','HD_188629']\n",
    "notes = ['No secure detection','Not consistent with RG pattern','Possible contamination',r'\\citep{2017MNRAS.464.3713H}',\n",
    "         'Possible contamination or binary',r'Too difficult to get a robust \\Dnu',r'Too difficult to get a robust \\Dnu',\n",
    "         r'Too difficult to get a robust \\Dnu']\n",
    "\n",
    "notecol = [notes[j] if star in badstars else '' for j, star in enumerate(seismic['Star_ID'])]"
   ]
  },
  {
   "cell_type": "code",
   "execution_count": 27,
   "metadata": {},
   "outputs": [
    {
     "data": {
      "text/plain": [
       "array(['BD+39_388', 'BD+43_306', 'HD_179959', 'HD_185351', 'HD_187217',\n",
       "       'HD_188629', 'HD_188639', 'HD_188875'], dtype='<U9')"
      ]
     },
     "execution_count": 27,
     "metadata": {},
     "output_type": "execute_result"
    }
   ],
   "source": [
    "np.sort(badstars)"
   ]
  },
  {
   "cell_type": "code",
   "execution_count": 28,
   "metadata": {},
   "outputs": [
    {
     "name": "stdout",
     "output_type": "stream",
     "text": [
      "HD_176209\n"
     ]
    }
   ],
   "source": [
    "for star in merged['Object']:\n",
    "    if star not in seismic['Star_ID']:\n",
    "        print(star)"
   ]
  },
  {
   "cell_type": "code",
   "execution_count": 29,
   "metadata": {},
   "outputs": [],
   "source": [
    "for star in seismic['Star_ID']:\n",
    "    if star not in merged['Object']:\n",
    "        print(star)"
   ]
  },
  {
   "cell_type": "markdown",
   "metadata": {},
   "source": [
    "## Read the main catalogue"
   ]
  },
  {
   "cell_type": "code",
   "execution_count": 30,
   "metadata": {},
   "outputs": [],
   "source": [
    "fname_cat = '../data/catalogue.csv'\n",
    "cat = Table.read(fname_cat,format='ascii')\n",
    "cat.sort('kepmag')"
   ]
  },
  {
   "cell_type": "code",
   "execution_count": 31,
   "metadata": {},
   "outputs": [],
   "source": [
    "# cat"
   ]
  },
  {
   "cell_type": "code",
   "execution_count": 32,
   "metadata": {},
   "outputs": [],
   "source": [
    "# print 'Clump Candidates:',oxford_join([name.replace('_',' ') for name in cat[np.array(['clump' in thing for thing in list(cat['Notes'].data.data[:])])]['Name']])"
   ]
  },
  {
   "cell_type": "markdown",
   "metadata": {},
   "source": [
    "### Now to get SIMBAD queries"
   ]
  },
  {
   "cell_type": "code",
   "execution_count": 33,
   "metadata": {},
   "outputs": [],
   "source": [
    "from astroquery.simbad import Simbad\n",
    "from astropy import coordinates as coord\n",
    "from astropy import units as u\n"
   ]
  },
  {
   "cell_type": "code",
   "execution_count": 34,
   "metadata": {},
   "outputs": [],
   "source": [
    "Simbad.reset_votable_fields()\n",
    "Simbad.add_votable_fields('sptype')\n",
    "sim = Simbad.query_objects(cat['Name'])\n",
    "cat['SpType'] = sim['SP_TYPE']\n",
    "# sim.write('smear_intermediate.csv',format='ascii.csv')\n",
    "# sim = Table.read('smear_intermediate.csv',format='ascii.csv')\n",
    "c = coord.SkyCoord(ra=sim['RA'], dec=sim['DEC'],unit=(u.hourangle, u.deg), frame='icrs')\n"
   ]
  },
  {
   "cell_type": "code",
   "execution_count": 35,
   "metadata": {},
   "outputs": [
    {
     "data": {
      "text/plain": [
       "['MAIN_ID',\n",
       " 'RA',\n",
       " 'DEC',\n",
       " 'RA_PREC',\n",
       " 'DEC_PREC',\n",
       " 'COO_ERR_MAJA',\n",
       " 'COO_ERR_MINA',\n",
       " 'COO_ERR_ANGLE',\n",
       " 'COO_QUAL',\n",
       " 'COO_WAVELENGTH',\n",
       " 'COO_BIBCODE',\n",
       " 'SP_TYPE',\n",
       " 'SP_QUAL',\n",
       " 'SP_BIBCODE']"
      ]
     },
     "execution_count": 35,
     "metadata": {},
     "output_type": "execute_result"
    }
   ],
   "source": [
    "sim.keys()"
   ]
  },
  {
   "cell_type": "code",
   "execution_count": 36,
   "metadata": {},
   "outputs": [],
   "source": [
    "new = Table([Column([cc.ra.deg for cc in c],name='RA',unit='deg',description='RA'),Column([cc.dec.deg for cc in c],name='Dec',unit='deg',description='Dec')],masked=False)\n",
    "# new.write('../data/smear_simbad.csv',overwrite=True)\n",
    "cat['RA'] = new['RA']\n",
    "cat['Dec']= new['Dec']"
   ]
  },
  {
   "cell_type": "markdown",
   "metadata": {},
   "source": [
    "We then use the gaia tap service at http://gaia.ari.uni-heidelberg.de/tap.html for crossmatch \n",
    "using the command\n",
    "\n",
    "SELECT bj.source_id, sm.ra, sm.dec, sm.phot_g_mean_mag, bj.r_est, bj.r_lo, bj.r_hi\n",
    "FROM gaiadr2_complements.geometric_distance as bj \n",
    "JOIN TAP_UPLOAD.smear AS sm ON sm.source_id = bj.source_id"
   ]
  },
  {
   "cell_type": "code",
   "execution_count": 37,
   "metadata": {},
   "outputs": [],
   "source": [
    "def crossmatch(ra_in,dec_in,ra_match,dec_match):\n",
    "    ra_in, dec_in = gaia['ra'],gaia['dec']\n",
    "    ra_match, dec_match = new['RA'],new['Dec']\n",
    "    npoints = len(ra_in)\n",
    "\n",
    "    m = []\n",
    "    for j in range(npoints):\n",
    "        dists = np.sqrt((ra_in-ra_match[j])**2+(dec_in-dec_match[j])**2)\n",
    "        m.append(np.argmin(dists))\n",
    "    return m"
   ]
  },
  {
   "cell_type": "code",
   "execution_count": 38,
   "metadata": {},
   "outputs": [],
   "source": [
    "gaia = Table.read('../data/gaia_new.csv')\n",
    "# gaia[gaia['source_id']==2128480311802353536]\n",
    "\n",
    "\n",
    "dists = Table.read('../data/dists_new.csv')\n",
    "dists.insert_row(38,\n",
    "                 vals={'source_id':2128480311802353536,'r_est':np.nan,'r_lo':np.nan,'r_hi':np.nan})\n",
    "gaia = join(dists,gaia,keys='source_id')\n",
    "\n",
    "gaia_indices = crossmatch(gaia['ra'],gaia['dec'],new['RA'],new['Dec'])\n",
    "gaia = gaia[gaia_indices]\n",
    "\n",
    "cat.add_column(gaia['source_id'])\n",
    "newcat = join(cat,gaia,keys='source_id')"
   ]
  },
  {
   "cell_type": "code",
   "execution_count": 39,
   "metadata": {},
   "outputs": [],
   "source": [
    "# gaia.keys()"
   ]
  },
  {
   "cell_type": "code",
   "execution_count": 40,
   "metadata": {},
   "outputs": [],
   "source": [
    "# ## check we got it right! \n",
    "# plt.scatter(cat['RA'],cat['Dec'])\n",
    "# plt.scatter(gaia['ra'],gaia['dec'])"
   ]
  },
  {
   "cell_type": "code",
   "execution_count": 41,
   "metadata": {},
   "outputs": [
    {
     "data": {
      "text/plain": [
       "[<matplotlib.lines.Line2D at 0x11c7b2be0>]"
      ]
     },
     "execution_count": 41,
     "metadata": {},
     "output_type": "execute_result"
    },
    {
     "data": {
      "image/png": "[encoded data removed]",
      "text/plain": [
       "<Figure size 432x288 with 1 Axes>"
      ]
     },
     "metadata": {
      "needs_background": "light"
     },
     "output_type": "display_data"
    }
   ],
   "source": [
    "plt.plot(cat['RA'])\n",
    "plt.plot(gaia['ra'])"
   ]
  },
  {
   "cell_type": "code",
   "execution_count": 42,
   "metadata": {},
   "outputs": [],
   "source": [
    "def abs_mag(app_mag,dist):\n",
    "    return app_mag - 5.*(np.log10(dist) - 1.)"
   ]
  },
  {
   "cell_type": "code",
   "execution_count": 43,
   "metadata": {},
   "outputs": [
    {
     "data": {
      "text/plain": [
       "[<matplotlib.lines.Line2D at 0x11c449978>]"
      ]
     },
     "execution_count": 43,
     "metadata": {},
     "output_type": "execute_result"
    },
    {
     "data": {
      "image/png": "[encoded data removed]",
      "text/plain": [
       "<Figure size 432x288 with 1 Axes>"
      ]
     },
     "metadata": {
      "needs_background": "light"
     },
     "output_type": "display_data"
    }
   ],
   "source": [
    "plt.plot(cat['kepmag'],gaia['phot_g_mean_mag'])"
   ]
  },
  {
   "cell_type": "code",
   "execution_count": 44,
   "metadata": {},
   "outputs": [],
   "source": [
    "# cat[np.abs(gaia['phot_g_mean_mag']-cat['kepmag'])>0.75]#.sort(np.abs(dists['phot_g_mean_mag']-cat['kepmag']))"
   ]
  },
  {
   "cell_type": "code",
   "execution_count": 45,
   "metadata": {},
   "outputs": [],
   "source": [
    "# gaia[np.abs(gaia['phot_g_mean_mag']-cat['kepmag'])>0.75]#.sort(np.abs(dists['phot_g_mean_mag']-cat['kepmag']))"
   ]
  },
  {
   "cell_type": "code",
   "execution_count": 46,
   "metadata": {},
   "outputs": [],
   "source": [
    "# Table(gaia['source_id']).write('sources.csv')"
   ]
  },
  {
   "cell_type": "code",
   "execution_count": 47,
   "metadata": {},
   "outputs": [
    {
     "name": "stderr",
     "output_type": "stream",
     "text": [
      "WARNING: AstropyDeprecationWarning: full_cat.csv already exists. Automatically overwriting ASCII files is deprecated. Use the argument 'overwrite=True' in the future. [astropy.io.ascii.ui]\n"
     ]
    }
   ],
   "source": [
    "# newcat = cat.copy()\n",
    "brightkep = Table.read('../data/Bright_Kep_new.csv')\n",
    "var = Table.read('../data/variability.csv')\n",
    "newcat = join(cat,brightkep,keys='Name')\n",
    "newcat = join(newcat,var,keys='Name')\n",
    "fname_spc = '../data/spc_giants.csv'\n",
    "# fname_spc = '../data/spc_final.txt'\n",
    "spc_data = Table.read(fname_spc,format='ascii')\n",
    "\n",
    "newcat['TRES?'] = ['TRES' if obj in spc_data['Object'] else '--' for obj in newcat['Name']]\n",
    "# newcat.add_column(gaia['source_id'])\n",
    "\n",
    "full_cat = join(newcat,gaia,keys='source_id',join_type=u'left')\n",
    "\n",
    "bp, rp, gg = full_cat['phot_bp_mean_mag'], full_cat['phot_rp_mean_mag'], full_cat['phot_g_mean_mag']\n",
    "abs_gg = abs_mag(gg,full_cat['r_est'])\n",
    "full_cat['abs_gg'] = abs_gg\n",
    "full_cat['bp_rp'] = bp-rp\n",
    "abs_gg_hi = abs_mag(full_cat['phot_g_mean_mag'],full_cat['r_hi'])\n",
    "abs_gg_lo = abs_mag(full_cat['phot_g_mean_mag'],full_cat['r_lo'])\n",
    "\n",
    "full_cat.sort('Name')\n",
    "\n",
    "full_cat.write('full_cat.csv')\n",
    "\n",
    "# newcat = join(newcat,gaia['bp_rp','source_id','r_est','r_lo','r_hi','phot_g_mean_mag'],keys='source_id',join_type=u'left')\n",
    "newcat = full_cat.copy() # just keep all the keys\n",
    "newcat.sort('Name')"
   ]
  },
  {
   "cell_type": "code",
   "execution_count": 48,
   "metadata": {},
   "outputs": [
    {
     "name": "stderr",
     "output_type": "stream",
     "text": [
      "/anaconda3/lib/python3.7/site-packages/IPython/core/interactiveshell.py:2961: TableReplaceWarning: converted column 'Teff' from integer to float\n",
      "  exec(code_obj, self.user_global_ns, self.user_ns)\n",
      "/anaconda3/lib/python3.7/site-packages/IPython/core/interactiveshell.py:2961: TableReplaceWarning: converted column 'Edge_Dist' from integer to float\n",
      "  exec(code_obj, self.user_global_ns, self.user_ns)\n",
      "/anaconda3/lib/python3.7/site-packages/IPython/core/interactiveshell.py:2961: TableReplaceWarning: converted column 'flame_flags' from integer to float\n",
      "  exec(code_obj, self.user_global_ns, self.user_ns)\n"
     ]
    }
   ],
   "source": [
    "gaia['Name'] = [newcat['Name'][newcat['source_id']==obj][0] for obj in gaia['source_id']]\n",
    "\n",
    "gaia['TRES'] = [newcat['TRES?'][newcat['source_id']==obj][0] for obj in gaia['source_id']]\n",
    "pdg = full_cat.to_pandas()"
   ]
  },
  {
   "cell_type": "code",
   "execution_count": 49,
   "metadata": {},
   "outputs": [
    {
     "name": "stderr",
     "output_type": "stream",
     "text": [
      "WARNING: AstropyDeprecationWarning: all_stars.csv already exists. Automatically overwriting ASCII files is deprecated. Use the argument 'overwrite=True' in the future. [astropy.io.ascii.ui]\n",
      "WARNING: AstropyDeprecationWarning: ../paper/all_stars.tex already exists. Automatically overwriting ASCII files is deprecated. Use the argument 'overwrite=True' in the future. [astropy.io.ascii.ui]\n",
      "WARNING: AstropyDeprecationWarning: ../paper/all_stars2.tex already exists. Automatically overwriting ASCII files is deprecated. Use the argument 'overwrite=True' in the future. [astropy.io.ascii.ui]\n"
     ]
    },
    {
     "name": "stdout",
     "output_type": "stream",
     "text": [
      "Written ../paper/all_stars.tex\n",
      "Written ../paper/all_stars2.tex\n"
     ]
    }
   ],
   "source": [
    "newcat.write('all_stars.csv')\n",
    "for l, ccat in enumerate([newcat[:52],newcat[52:]]):\n",
    "\n",
    "    newtab = Table([Column([str(obj).replace('_',' ') for obj in ccat['Name']],name='Object')])\n",
    "\n",
    "    newkeys = ['Kepler_ID','SpType','kepmag', 'phot_g_mean_mag','bp_rp','r_est','TRES?','Class']\n",
    "    names = [r'KIC',r'Spectral Type',r'$Kp$',r'$G$',r'$Bp-Rp$',r'\\gaia Distance','TRES','Variability']\n",
    "    units = ['',r'(SIMBAD)', r'(mag)','(mag)',r'(mag)','(pc)','','Class']\n",
    "    \n",
    "    translator_class = {'LPV':'LPV',\n",
    "                        'RG':'RG',\n",
    "                        'GD/DS Hybrid':r'$\\gamma\\,\\text{Dor} /\\delta\\,\\text{Sct}$',\n",
    "                        'GD':r'$\\gamma\\,\\text{Dor}$',\n",
    "                        'DS':r'$\\delta\\,\\text{Sct}$',\n",
    "                        '?':'?',\n",
    "                        '-':r'--',\n",
    "                        'Hump & Spike':'H+S',\n",
    "                        'GD/Hump & Spike':r'$\\gamma\\,\\text{Dor}$,\\,H+S',\n",
    "                        'SPB/Hump & Spike':r'SPB,\\,H+S',\n",
    "                        'EV':'EV',\n",
    "                        'EB':'EB',\n",
    "                        'SPB':'SPB',\n",
    "                        'Irregular':'Irregular',\n",
    "                        'a2cvn':r'$\\alpha^2\\,\\text{CVn}$',\n",
    "                        'RM':r'RM',\n",
    "                        'Eruptive':r'Eruptive'\n",
    "                       }\n",
    "\n",
    "    for k, key in enumerate(newkeys):\n",
    "        col = ccat[key]\n",
    "        if 'RE' in key:\n",
    "            test = Column(['\\checkmark' if 'TRES' in entry else '--' for entry in col],name=names[k])\n",
    "        elif 'bs' in key:\n",
    "            test = Column([entry.replace('under','') if 'under' in entry else 'unobserved' for entry in col],name=names[k])\n",
    "        elif 'ype' in key:\n",
    "            test = Column(['--' if np.ma.is_masked(entry) else entry for entry in col],name=names[k])\n",
    "        elif 'est' in key:\n",
    "            upcol = ccat['r_hi']\n",
    "            downcol = ccat['r_lo']\n",
    "            test = Column(['--' if 'nan' in str(col[j]) else '$%.1f^{+%.1f}_{-%.1f}$' % (col[j],upcol[j]-col[j],col[j]-downcol[j]) for j, x in enumerate(col)],name=names[k])\n",
    "        elif key =='Class':\n",
    "            test = Column([translator_class[entry] for entry in col],name=names[k])\n",
    "        elif 'mag' in key:\n",
    "            test = Column(['%.3f' % d for d in col.data],name=names[k])\n",
    "        elif 'bp' in key:\n",
    "            test = Column(['%.3f' % d for d in col.data],name=names[k])\n",
    "        else:\n",
    "            test = Column(col.data,name=names[k])\n",
    "#         if key == 'TRES?':\n",
    "#             test = Column(['TRES' if newtab['Object'][j].replace(' ','_') in merged['Object'] else '--' for j,entry in enumerate(col)], name=names[k])\n",
    "        newtab.add_column(test)\n",
    "    \n",
    "    latexdict = ascii.latex.latexdicts['AA'].copy()\n",
    "    latexdict['tabletype']= 'table*'\n",
    "    latexdict['units'] = dict(zip(names,units))\n",
    "    if l == 0:\n",
    "        caption = r\"The full set of underobserved and unobserved stars for which new light curves have been produced in this smear catalogue. \\\n",
    "        Calibrated \\gaia distances are from \\citet{gaiadists}. \\\n",
    "        The eclipsing binary V2083~Cyg was detected by \\gaia, but a parallax could not be obtained in DR2, possibly due to binary motion.\\\n",
    "        Variability classes are determined by inspection, having their usual abbreviations. \\\n",
    "        EV denotes an ellipsoidal variable, and RM rotational modulation, though these two can appear similar. $\\alpha^2\\,\\text{CVn}$ variables are chemically-peculiar stars with rotational spot modulation,\\\n",
    "        and are noted separately from RM without chemical peculiarity.\\\n",
    "        $\\gamma\\,\\text{Dor} /\\delta\\,\\text{Sct}$ denotes a $\\gamma\\,\\text{Dor} /\\delta\\,\\text{Sct}$ hybrid, not uncertainty.\\\n",
    "        H+S denotes a `hump and spike' star.\\\n",
    "        Question marks indicate uncertainty, and dashes -- that no significant variability is observed.\" \n",
    "        caption = caption+r'\\label{all_stars}'\n",
    "        newtab.write('../paper/all_stars.tex',format='latex',latexdict=latexdict,caption=caption+'\\label{all_stars}')\n",
    "        print('Written %s' % '../paper/all_stars.tex')\n",
    "    else:\n",
    "        latexdict['preamble'] = '\\contcaption{The full set of underobserved and unobserved stars for which new light curves have been produced in this smear catalogue. Calibrated \\gaia distances are from \\citet{gaiadists}. \\label{all_stars_cont}}'\n",
    "        newtab.write('../paper/all_stars2.tex',format='latex',latexdict=latexdict)\n",
    "        print('Written %s' % '../paper/all_stars2.tex')\n",
    "        \n",
    "\n",
    "newtab = Table([Column([str(obj).replace('_',' ') for obj in newcat['Name']],name='Object')])\n",
    "\n",
    "newkeys = ['Kepler_ID','SpType','kepmag', 'phot_g_mean_mag','r_est','Observed', 'TRES?','Class']\n",
    "names = [r'KIC',r'Spectral Type',r'$Kp$',r'$G$',r'\\gaia Distance',r'Observed','Spectroscopy','Variability']\n",
    "units = ['',r'(SIMBAD)', r'(mag)','(mag)','(pc)','','','Class']\n",
    "\n",
    "for k, key in enumerate(newkeys):\n",
    "    col = newcat[key]\n",
    "    if 'bs' in key:\n",
    "        test = Column([entry.replace('under','') if 'under' in entry else 'unobserved' for entry in col],name=names[k])\n",
    "    elif 'ype' in key:\n",
    "        test = Column(['--' if np.ma.is_masked(entry) else entry for entry in col],name=names[k])\n",
    "    elif 'est' in key:\n",
    "        upcol = newcat['r_hi']\n",
    "        downcol = newcat['r_lo']\n",
    "        test = Column(['--' if 'nan' in str(col[j]) else '$%.1f^{+%.1f}_{-%.1f}$' % (col[j],upcol[j]-col[j],col[j]-downcol[j]) for j, x in enumerate(col)],name=names[k])\n",
    "    elif key =='Class':\n",
    "        test = Column([translator_class[entry] for entry in col],name=names[k])\n",
    "    elif 'mag' in key:\n",
    "        test = Column(['%.3f' % d for d in col.data],name=names[k])\n",
    "    elif 'bp' in key:\n",
    "        test = Column(['%.3f' % d for d in col.data],name=names[k])\n",
    "    else:\n",
    "        test = Column(col.data,name=names[k])\n",
    "#     if key == 'TRES?':\n",
    "#         test = Column(['TRES' if newtab['Object'][j].replace(' ','_') in merged['Object'] else '--' for j,entry in enumerate(col)], name=names[k])\n",
    "    newtab.add_column(test)\n",
    "\n",
    "latexdict = ascii.latex.latexdicts['AA'].copy()\n",
    "latexdict['tabletype']= 'table*'\n",
    "latexdict['units'] = dict(zip(names,units))\n"
   ]
  },
  {
   "cell_type": "code",
   "execution_count": 50,
   "metadata": {},
   "outputs": [
    {
     "name": "stdout",
     "output_type": "stream",
     "text": [
      "Written ../paper/all_stars_apj.tex\n"
     ]
    },
    {
     "name": "stderr",
     "output_type": "stream",
     "text": [
      "WARNING: AstropyDeprecationWarning: ../paper/all_stars_apj.tex already exists. Automatically overwriting ASCII files is deprecated. Use the argument 'overwrite=True' in the future. [astropy.io.ascii.ui]\n"
     ]
    }
   ],
   "source": [
    "ccat = newcat.copy()\n",
    "newtab = Table([Column([str(obj).replace('_',' ') for obj in ccat['Name']],name='Object')])\n",
    "\n",
    "newkeys = ['Kepler_ID','SpType','kepmag', 'phot_g_mean_mag','bp_rp','r_est','TRES?','Class']\n",
    "names = [r'KIC',r'Spectral Type',r'$Kp$',r'$G$',r'$Bp-Rp$',r'\\gaia Distance','TRES','Variability']\n",
    "units = ['',r'(SIMBAD)', r'(mag)','(mag)',r'(mag)','(pc)','','Class']\n",
    "\n",
    "translator_class = {'LPV':'LPV',\n",
    "                    'RG':'RG',\n",
    "                    'GD/DS Hybrid':r'$\\gamma\\,\\text{Dor} /\\delta\\,\\text{Sct}$',\n",
    "                    'GD':r'$\\gamma\\,\\text{Dor}$',\n",
    "                    'DS':r'$\\delta\\,\\text{Sct}$',\n",
    "                    '?':'?',\n",
    "                    '-':r'--',\n",
    "                    'Hump & Spike':'H+S',\n",
    "                    'GD/Hump & Spike':r'$\\gamma\\,\\text{Dor}$,\\,H+S',\n",
    "                    'SPB/Hump & Spike':r'SPB,\\,H+S',\n",
    "                    'EV':'EV',\n",
    "                    'EB':'EB',\n",
    "                    'SPB':'SPB',\n",
    "                    'Irregular':'Irregular',\n",
    "                    'a2cvn':r'$\\alpha^2\\,\\text{CVn}$',\n",
    "                    'RM':r'RM',\n",
    "                    'Eruptive':r'Eruptive'\n",
    "                   }\n",
    "\n",
    "for k, key in enumerate(newkeys):\n",
    "    col = ccat[key]\n",
    "    if 'RE' in key:\n",
    "        test = Column(['\\checkmark' if 'TRES' in entry else '--' for entry in col],name=names[k])\n",
    "    elif 'bs' in key:\n",
    "        test = Column([entry.replace('under','') if 'under' in entry else 'unobserved' for entry in col],name=names[k])\n",
    "    elif 'ype' in key:\n",
    "        test = Column(['--' if np.ma.is_masked(entry) else entry for entry in col],name=names[k])\n",
    "    elif 'est' in key:\n",
    "        upcol = ccat['r_hi']\n",
    "        downcol = ccat['r_lo']\n",
    "        test = Column(['--' if 'nan' in str(col[j]) else '$%.1f^{+%.1f}_{-%.1f}$' % (col[j],upcol[j]-col[j],col[j]-downcol[j]) for j, x in enumerate(col)],name=names[k])\n",
    "    elif key =='Class':\n",
    "        test = Column([translator_class[entry] for entry in col],name=names[k])\n",
    "    elif 'mag' in key:\n",
    "        test = Column(['%.3f' % d for d in col.data],name=names[k])\n",
    "    elif 'bp' in key:\n",
    "        test = Column(['%.3f' % d for d in col.data],name=names[k])\n",
    "    else:\n",
    "        test = Column(col.data,name=names[k])\n",
    "#         if key == 'TRES?':\n",
    "#             test = Column(['TRES' if newtab['Object'][j].replace(' ','_') in merged['Object'] else '--' for j,entry in enumerate(col)], name=names[k])\n",
    "    newtab.add_column(test)\n",
    "\n",
    "caption = r\"The full set of underobserved and unobserved stars for which new light curves have been produced in this smear catalogue. \\\n",
    "Calibrated \\gaia distances are from \\citet{gaiadists}. \\\n",
    "The eclipsing binary V2083~Cyg was detected by \\gaia, but a parallax could not be obtained in DR2, possibly due to binary motion.\\\n",
    "Variability classes are determined by inspection, having their usual abbreviations. \\\n",
    "EV denotes an ellipsoidal variable, and RM rotational modulation, though these two can appear similar. $\\alpha^2\\,\\text{CVn}$ variables are chemically-peculiar stars with rotational spot modulation,\\\n",
    "and are noted separately from RM without chemical peculiarity.\\\n",
    "$\\gamma\\,\\text{Dor} /\\delta\\,\\text{Sct}$ denotes a $\\gamma\\,\\text{Dor} /\\delta\\,\\text{Sct}$ hybrid, not uncertainty.\\\n",
    "H+S denotes a `hump and spike' star.\\\n",
    "Question marks indicate uncertainty, and dashes -- that no significant variability is observed.\" \n",
    "caption = caption+r'\\label{all_stars}'\n",
    "\n",
    "latexdict_apj = {'units':dict(zip(names,units))}\n",
    "\n",
    "newtab_apj = newtab.copy()\n",
    "newtab_apj['Object'] = Column(['\\\\object{%s}' % obj for obj in newtab['Object']])\n",
    "\n",
    "newtab_apj.write('../paper/all_stars_apj.tex',format='aastex',latexdict=latexdict_apj,caption=caption+'\\label{all_stars}')\n",
    "print('Written %s' % '../paper/all_stars_apj.tex')\n",
    "with open('../paper/all_stars_apj.tex', 'r') as original: oldtext = original.read()\n",
    "with open('../paper/all_stars_apj.tex', 'w') as modified: modified.write(\"\\\\startlongtable\\n\" + oldtext)\n",
    "\n",
    "\n"
   ]
  },
  {
   "cell_type": "code",
   "execution_count": 51,
   "metadata": {},
   "outputs": [],
   "source": [
    "# for_keith = newcat['Name','ra','dec']\n",
    "# for_keith.write('star_coords_keith.csv')"
   ]
  },
  {
   "cell_type": "markdown",
   "metadata": {},
   "source": [
    "## Now make an HR diagram"
   ]
  },
  {
   "cell_type": "code",
   "execution_count": 52,
   "metadata": {},
   "outputs": [
    {
     "data": {
      "text/plain": [
       "71.39072222295582"
      ]
     },
     "execution_count": 52,
     "metadata": {},
     "output_type": "execute_result"
    }
   ],
   "source": [
    "snrs = dists['r_est']/((dists['r_hi']-dists['r_lo'])/2.)\n",
    "np.nanmedian(snrs)"
   ]
  },
  {
   "cell_type": "code",
   "execution_count": 53,
   "metadata": {},
   "outputs": [],
   "source": [
    "errorbars = np.zeros((2,np.size(abs_gg)))\n",
    "abs_gg = full_cat['abs_gg']\n",
    "\n",
    "abs_gg_hi = abs_mag(full_cat['phot_g_mean_mag'],full_cat['r_hi'])\n",
    "abs_gg_lo = abs_mag(full_cat['phot_g_mean_mag'],full_cat['r_lo'])\n",
    "errorbars[0,:] = abs_gg_hi-abs_gg\n",
    "errorbars[1,:] = abs_gg-abs_gg_lo"
   ]
  },
  {
   "cell_type": "code",
   "execution_count": 54,
   "metadata": {},
   "outputs": [],
   "source": [
    "star1 = np.where(full_cat['Name']=='HD_182354')[0]"
   ]
  },
  {
   "cell_type": "code",
   "execution_count": 55,
   "metadata": {},
   "outputs": [
    {
     "data": {
      "text/plain": [
       "Text(0, 0.5, 'Absolute $G$')"
      ]
     },
     "execution_count": 55,
     "metadata": {},
     "output_type": "execute_result"
    },
    {
     "data": {
      "image/png": "[encoded data removed]",
      "text/plain": [
       "<Figure size 432x288 with 1 Axes>"
      ]
     },
     "metadata": {
      "needs_background": "light"
     },
     "output_type": "display_data"
    }
   ],
   "source": [
    "rc('text', usetex=False)\n",
    "m = np.where(full_cat['TRES?']!='--')[0]\n",
    "mm = np.where(full_cat['TRES?']=='--')[0]\n",
    "\n",
    "bp_rp = full_cat['bp_rp']\n",
    "plt.errorbar(bp_rp[mm],abs_gg[mm],yerr=errorbars[:,mm],fmt='.',color=colours[2],label=r'Smear Campaign (no spectra)',markersize=10)\n",
    "plt.errorbar(bp_rp[m],abs_gg[m],yerr=errorbars[:,m],fmt='.',color=colours[1],label=r'Smear Campaign (with spectra)',markersize=10)\n",
    "for j,special in enumerate(['HD_182354','HD_176209','BD+43_3068']):\n",
    "    mmm = np.where(full_cat['Name']==special)[0]\n",
    "    plt.errorbar(bp_rp[mmm],abs_gg[mmm],yerr=errorbars[:,mmm],fmt='*',color=colours[2+j],label=special,markersize=12)\n",
    "plt.gca().invert_yaxis()\n",
    "plt.xlabel(r'$Bp-Rp$')\n",
    "plt.ylabel(r'Absolute $G$')\n",
    "# plt.legend()"
   ]
  },
  {
   "cell_type": "markdown",
   "metadata": {},
   "source": [
    "Now we want to use Megan Bedell's Gaia-Kepler crossmatch to situate these in the broader colour-magnitude diagram"
   ]
  },
  {
   "cell_type": "code",
   "execution_count": 56,
   "metadata": {},
   "outputs": [],
   "source": [
    "kep_data = Table.read('../data/kepler_dr2_4arcsec.fits', format='fits')\n"
   ]
  },
  {
   "cell_type": "code",
   "execution_count": 57,
   "metadata": {},
   "outputs": [],
   "source": [
    "kep_data['abs_gmag'] = kep_data['phot_g_mean_mag'] - \\\n",
    "                            5.*(np.log10(kep_data['r_est']) - 1.)\n",
    "kep_data['abs_gmag'].unit = u.mag"
   ]
  },
  {
   "cell_type": "code",
   "execution_count": 58,
   "metadata": {},
   "outputs": [],
   "source": [
    "# newcat"
   ]
  },
  {
   "cell_type": "code",
   "execution_count": 59,
   "metadata": {},
   "outputs": [
    {
     "data": {
      "text/html": [
       "<i>Table masked=True length=102</i>\n",
       "<table id=\"table4769193880\" class=\"table-striped table-bordered table-condensed\">\n",
       "<thead><tr><th>Name</th><th>SpType</th><th>[Fe/H]</th><th>theta</th><th>Observed</th><th>Seasons</th><th>Teff</th><th>Log_G</th><th>E(B-V)</th><th>g</th><th>r</th><th>J</th><th>kepmag</th><th>Edge_Dist</th><th>Notes</th><th>Collaborators</th><th>Interferometry?</th><th>TRES?</th><th>RA</th><th>Dec</th><th>source_id</th><th>Kepler_ID</th><th>Class</th><th>r_est</th><th>r_lo</th><th>r_hi</th><th>input_position</th><th>distance</th><th>designation</th><th>ra</th><th>dec</th><th>l</th><th>b</th><th>ecl_lon</th><th>ecl_lat</th><th>parallax</th><th>pmra</th><th>pmdec</th><th>phot_g_mean_mag</th><th>phot_bp_mean_mag</th><th>phot_rp_mean_mag</th><th>ra_error</th><th>dec_error</th><th>parallax_error</th><th>pmra_error</th><th>pmdec_error</th><th>a_g_percentile_lower</th><th>a_g_percentile_upper</th><th>a_g_val</th><th>astrometric_chi2_al</th><th>astrometric_excess_noise</th><th>astrometric_excess_noise_sig</th><th>astrometric_gof_al</th><th>astrometric_matched_observations</th><th>astrometric_n_bad_obs_al</th><th>astrometric_n_good_obs_al</th><th>astrometric_n_obs_ac</th><th>astrometric_n_obs_al</th><th>astrometric_params_solved</th><th>astrometric_primary_flag</th><th>astrometric_pseudo_colour</th><th>astrometric_pseudo_colour_error</th><th>astrometric_sigma5d_max</th><th>astrometric_weight_al</th><th>bp_g</th><th>bp_rp</th><th>dec_parallax_corr</th><th>dec_pmdec_corr</th><th>dec_pmra_corr</th><th>duplicated_source</th><th>e_bp_min_rp_percentile_lower</th><th>e_bp_min_rp_percentile_upper</th><th>e_bp_min_rp_val</th><th>flame_flags</th><th>frame_rotator_object_type</th><th>g_rp</th><th>lum_percentile_lower</th><th>lum_percentile_upper</th><th>lum_val</th><th>matched_observations</th><th>mean_varpi_factor_al</th><th>parallax_over_error</th><th>parallax_pmdec_corr</th><th>parallax_pmra_corr</th><th>phot_bp_mean_flux</th><th>phot_bp_mean_flux_error</th><th>phot_bp_mean_flux_over_error</th><th>phot_bp_n_obs</th><th>phot_bp_rp_excess_factor</th><th>phot_g_mean_flux</th><th>phot_g_mean_flux_error</th><th>phot_g_mean_flux_over_error</th><th>phot_g_n_obs</th><th>phot_proc_mode</th><th>phot_rp_mean_flux</th><th>phot_rp_mean_flux_error</th><th>phot_rp_mean_flux_over_error</th><th>phot_rp_n_obs</th><th>phot_variable_flag</th><th>pmra_pmdec_corr</th><th>priam_flags</th><th>ra_dec_corr</th><th>radial_velocity</th><th>radial_velocity_error</th><th>radius_percentile_lower</th><th>radius_percentile_upper</th><th>radius_val</th><th>random_index</th><th>ra_parallax_corr</th><th>ra_pmdec_corr</th><th>ra_pmra_corr</th><th>ref_epoch</th><th>rv_nb_transits</th><th>rv_template_fe_h</th><th>rv_template_logg</th><th>rv_template_teff</th><th>solution_id</th><th>teff_percentile_lower</th><th>teff_percentile_upper</th><th>teff_val</th><th>visibility_periods_used</th><th>other_ids</th><th>abs_gg</th></tr></thead>\n",
       "<thead><tr><th></th><th></th><th></th><th></th><th></th><th></th><th></th><th></th><th></th><th></th><th></th><th></th><th></th><th></th><th></th><th></th><th></th><th></th><th>deg</th><th>deg</th><th></th><th></th><th></th><th></th><th></th><th></th><th></th><th></th><th></th><th></th><th></th><th></th><th></th><th></th><th></th><th></th><th></th><th></th><th></th><th></th><th></th><th></th><th></th><th></th><th></th><th></th><th></th><th></th><th></th><th></th><th></th><th></th><th></th><th></th><th></th><th></th><th></th><th></th><th></th><th></th><th></th><th></th><th></th><th></th><th></th><th></th><th></th><th></th><th></th><th></th><th></th><th></th><th></th><th></th><th></th><th></th><th></th><th></th><th></th><th></th><th></th><th></th><th></th><th></th><th></th><th></th><th></th><th></th><th></th><th></th><th></th><th></th><th></th><th></th><th></th><th></th><th></th><th></th><th></th><th></th><th></th><th></th><th></th><th></th><th></th><th></th><th></th><th></th><th></th><th></th><th></th><th></th><th></th><th></th><th></th><th></th><th></th><th></th><th></th><th></th><th></th><th></th><th></th></tr></thead>\n",
       "<thead><tr><th>str10</th><th>object</th><th>float64</th><th>float64</th><th>str29</th><th>int64</th><th>int64</th><th>float64</th><th>float64</th><th>float64</th><th>float64</th><th>float64</th><th>float64</th><th>int64</th><th>str84</th><th>str16</th><th>str3</th><th>str4</th><th>float64</th><th>float64</th><th>int64</th><th>int64</th><th>str16</th><th>float64</th><th>float64</th><th>float64</th><th>str37</th><th>float64</th><th>str28</th><th>float64</th><th>float64</th><th>float64</th><th>float64</th><th>float64</th><th>float64</th><th>float64</th><th>float64</th><th>float64</th><th>float64</th><th>float64</th><th>float64</th><th>float64</th><th>float64</th><th>float64</th><th>float64</th><th>float64</th><th>float64</th><th>float64</th><th>float64</th><th>float64</th><th>float64</th><th>float64</th><th>float64</th><th>int64</th><th>int64</th><th>int64</th><th>int64</th><th>int64</th><th>int64</th><th>str5</th><th>float64</th><th>float64</th><th>float64</th><th>float64</th><th>float64</th><th>float64</th><th>float64</th><th>float64</th><th>float64</th><th>str5</th><th>float64</th><th>float64</th><th>float64</th><th>int64</th><th>int64</th><th>float64</th><th>float64</th><th>float64</th><th>float64</th><th>int64</th><th>float64</th><th>float64</th><th>float64</th><th>float64</th><th>float64</th><th>float64</th><th>float64</th><th>int64</th><th>float64</th><th>float64</th><th>float64</th><th>float64</th><th>int64</th><th>int64</th><th>float64</th><th>float64</th><th>float64</th><th>int64</th><th>str13</th><th>float64</th><th>int64</th><th>float64</th><th>float64</th><th>float64</th><th>float64</th><th>float64</th><th>float64</th><th>int64</th><th>float64</th><th>float64</th><th>float64</th><th>float64</th><th>int64</th><th>float64</th><th>float64</th><th>float64</th><th>int64</th><th>float64</th><th>float64</th><th>float64</th><th>int64</th><th>str28</th><th>float64</th></tr></thead>\n",
       "<tr><td>14_Cyg</td><td>B9III</td><td>0.08</td><td>0.267</td><td>unobserved</td><td>4</td><td>--</td><td>--</td><td>--</td><td>5.334</td><td>5.394</td><td>5.365</td><td>5.49</td><td>0</td><td>contact binary, interesting ramp at low freq</td><td>--</td><td>--</td><td>--</td><td>294.8603679166666</td><td>42.818272500000006</td><td>2077959092540451456</td><td>7292420</td><td>Hump &amp; Spike</td><td>194.251074278231</td><td>187.684456735487</td><td>201.285145272043</td><td>294.8603679166666,42.818272500000006</td><td>0.00015735472919927622</td><td>Gaia DR2 2077959092540451456</td><td>294.86048629287325</td><td>42.818403728771564</td><td>76.16126013695374</td><td>10.031073544587805</td><td>312.1857526199485</td><td>62.66388654552614</td><td>5.130571917581485</td><td>20.131409529793235</td><td>30.431793653190823</td><td>5.3699827</td><td>5.3639116</td><td>5.41885</td><td>0.15700276841491864</td><td>0.16348959674368924</td><td>0.17848867844287192</td><td>0.3339857751619853</td><td>0.33957683882055495</td><td>0.0285</td><td>0.2498</td><td>0.1018</td><td>15286.602</td><td>0.9618139367271934</td><td>412.6026889695438</td><td>97.947975</td><td>29</td><td>26</td><td>226</td><td>252</td><td>252</td><td>31</td><td>false</td><td>1.856842301709943</td><td>0.045916224001706536</td><td>0.17362256</td><td>1.0185473</td><td>-0.0060710907</td><td>-0.054938400000000165</td><td>0.24587297</td><td>-0.12195015</td><td>-0.07142982</td><td>false</td><td>0.0152</td><td>0.1397</td><td>0.0668</td><td>--</td><td>0</td><td>-0.048867226</td><td>--</td><td>--</td><td>--</td><td>37</td><td>-0.105305344</td><td>28.744522</td><td>0.038705934</td><td>-0.09419893</td><td>98853160.87289695</td><td>173353.238972041</td><td>570.2412</td><td>27</td><td>1.144551</td><td>134076683.01555383</td><td>203535.95431295686</td><td>658.7371</td><td>254</td><td>0</td><td>54604443.01876158</td><td>270571.3197935153</td><td>201.81165</td><td>26</td><td>NOT_AVAILABLE</td><td>-0.053966917</td><td>100001</td><td>-0.13458933</td><td>--</td><td>--</td><td>--</td><td>--</td><td>--</td><td>165186661</td><td>-0.20992336</td><td>-0.057227593</td><td>-0.14037359</td><td>2015.5</td><td>0</td><td>--</td><td>--</td><td>--</td><td>1635721458409799680</td><td>7420.0</td><td>9700.333</td><td>8951.333</td><td>15</td><td>Gaia DR1 2077959088236964736</td><td>-1.0718344464205538</td></tr>\n",
       "<tr><td>BD+36_3564</td><td>K5</td><td>--</td><td>--</td><td>unobserved</td><td>4</td><td>--</td><td>--</td><td>--</td><td>9.944</td><td>8.516</td><td>6.134</td><td>8.128</td><td>141</td><td>RG</td><td>--</td><td>--</td><td>TRES</td><td>291.8926695833333</td><td>37.117995</td><td>2051728490311183744</td><td>1575741</td><td>RG</td><td>547.117106264667</td><td>535.997662270272</td><td>558.699048472257</td><td>291.8926695833333,37.117995</td><td>8.273941591549024e-05</td><td>Gaia DR2 2051728490311183744</td><td>291.8927082115298</td><td>37.118071792280254</td><td>69.96590264396387</td><td>9.424295746419563</td><td>304.12143800348804</td><td>57.991983859604076</td><td>1.8000448927805006</td><td>7.145821679503919</td><td>17.79354641537056</td><td>8.040623</td><td>8.78721</td><td>7.2431197</td><td>0.025991114819196522</td><td>0.034401257531550336</td><td>0.037611501816492435</td><td>0.05409691275385186</td><td>0.05747650597883894</td><td>0.224</td><td>1.8029</td><td>0.6073</td><td>282.09235</td><td>0.0</td><td>0.0</td><td>3.0255725</td><td>25</td><td>2</td><td>219</td><td>221</td><td>221</td><td>31</td><td>false</td><td>1.4818933207824483</td><td>0.00867538861033275</td><td>0.03866498</td><td>150.32924</td><td>0.74658775</td><td>1.5440902999999997</td><td>0.50038195</td><td>-0.11519566</td><td>-0.3427987</td><td>false</td><td>0.1142</td><td>0.9331</td><td>0.24</td><td>200111</td><td>0</td><td>0.797503</td><td>196.62909</td><td>209.26138</td><td>202.94524</td><td>30</td><td>0.022722635</td><td>47.858894</td><td>-0.03590406</td><td>-0.3128771</td><td>4223485.057587202</td><td>4597.67917781283</td><td>918.61237</td><td>26</td><td>1.2566354</td><td>11457697.266494371</td><td>4765.808543422341</td><td>2404.1455</td><td>235</td><td>0</td><td>10174663.773383457</td><td>12646.731789160222</td><td>804.5291</td><td>26</td><td>NOT_AVAILABLE</td><td>-0.06330115</td><td>100001</td><td>0.0830724</td><td>-78.21071301124742</td><td>0.1210221428807107</td><td>25.850368</td><td>27.608952</td><td>26.485462</td><td>992351098</td><td>0.24785315</td><td>-0.21401168</td><td>-0.23895107</td><td>2015.5</td><td>11</td><td>0.0</td><td>4.5</td><td>4250.0</td><td>1635721458409799680</td><td>4146.16</td><td>4284.87</td><td>4233.185</td><td>15</td><td>Gaia DR1 2051728486009394048</td><td>-0.6497784686068577</td></tr>\n",
       "<tr><td>BD+39_3577</td><td>G5</td><td>--</td><td>--</td><td>unobserved</td><td>4</td><td>4870</td><td>2.513</td><td>0.057</td><td>8.819</td><td>8.062</td><td>6.636</td><td>8.131</td><td>217</td><td>RG</td><td>--</td><td>--</td><td>TRES</td><td>283.83340625</td><td>40.13883361111111</td><td>2103507894472422656</td><td>4989821</td><td>RG</td><td>311.650670508792</td><td>308.9914182984</td><td>314.355261317156</td><td>283.83340625,40.13883361111111</td><td>1.9239117691022665e-05</td><td>Gaia DR2 2103507894472422656</td><td>283.83342916553494</td><td>40.138841563671775</td><td>70.10611122590436</td><td>16.40238012616388</td><td>293.2900560580871</td><td>62.464135090690434</td><td>3.1801058234460924</td><td>4.039455965033023</td><td>1.7943058408453174</td><td>8.089526</td><td>8.602207</td><td>7.4683795</td><td>0.02192026855402956</td><td>0.028721755748313517</td><td>0.02740393453014274</td><td>0.04748832450862115</td><td>0.059922780875226865</td><td>0.006</td><td>1.4421</td><td>0.0513</td><td>315.2837</td><td>0.0</td><td>0.0</td><td>4.086286</td><td>26</td><td>3</td><td>224</td><td>227</td><td>227</td><td>31</td><td>true</td><td>1.5470921946562735</td><td>0.007418427116895725</td><td>0.044391826</td><td>108.27293</td><td>0.512681</td><td>1.1338274999999998</td><td>0.122788176</td><td>-0.3348688</td><td>-0.034142185</td><td>false</td><td>0.0034</td><td>0.9353</td><td>0.023</td><td>200111</td><td>0</td><td>0.6211467</td><td>46.510933</td><td>47.856712</td><td>47.183823</td><td>31</td><td>0.10847517</td><td>116.04559</td><td>-0.019002048</td><td>-0.15371385</td><td>5008092.395257447</td><td>6352.800060993192</td><td>788.32837</td><td>28</td><td>1.2121162</td><td>10953068.378854213</td><td>4560.615466836758</td><td>2401.6646</td><td>244</td><td>0</td><td>8268300.2457834445</td><td>11244.514870608255</td><td>735.31854</td><td>27</td><td>NOT_AVAILABLE</td><td>-0.033720914</td><td>100001</td><td>-0.027644983</td><td>-15.134306578519674</td><td>0.13586503178173492</td><td>9.009239</td><td>9.394206</td><td>9.137387</td><td>886228013</td><td>-0.023745613</td><td>-0.017462606</td><td>-0.09639527</td><td>2015.5</td><td>17</td><td>0.0</td><td>4.5</td><td>5000.0</td><td>1635721458409799680</td><td>4935.6523</td><td>5040.0</td><td>5004.533</td><td>17</td><td>Gaia DR1 2103507890173906688</td><td>0.6211856719851312</td></tr>\n",
       "<tr><td>BD+39_3882</td><td>F5</td><td>--</td><td>--</td><td>unobserved</td><td>4</td><td>6241</td><td>4.186</td><td>0.02</td><td>8.463</td><td>8.192</td><td>7.36</td><td>8.259</td><td>0</td><td>bad light curve</td><td>--</td><td>--</td><td>--</td><td>295.6523554166666</td><td>39.99798972222222</td><td>2076372669064227200</td><td>4850372</td><td>?</td><td>143.266948083662</td><td>142.59154490081</td><td>143.94866508398</td><td>295.6523554166666,39.99798972222222</td><td>0.0001775599713578718</td><td>Gaia DR2 2076372669064227200</td><td>295.65231893691924</td><td>39.99781437523366</td><td>73.93156206962063</td><td>8.170565868577212</td><td>311.26924477166045</td><td>59.815348241708655</td><td>6.9512747600783795</td><td>-6.529093445942071</td><td>-40.73821359923596</td><td>8.158849</td><td>8.40947</td><td>7.793149</td><td>0.025913028889071</td><td>0.03006765068304463</td><td>0.0328119251615133</td><td>0.05527835326703316</td><td>0.05115522172678236</td><td>1.206</td><td>1.5608</td><td>1.438</td><td>442.18292</td><td>0.0</td><td>0.0</td><td>8.275456</td><td>26</td><td>3</td><td>225</td><td>228</td><td>228</td><td>31</td><td>false</td><td>1.6618744465866626</td><td>0.0075417136433189695</td><td>0.039893165</td><td>157.15994</td><td>0.25062084</td><td>0.616321000000001</td><td>0.44343317</td><td>-0.28647614</td><td>-0.16923338</td><td>false</td><td>0.6175</td><td>0.7706</td><td>0.706</td><td>200111</td><td>0</td><td>0.36569977</td><td>8.169084</td><td>8.290023</td><td>8.229553</td><td>28</td><td>0.0652853</td><td>211.85208</td><td>-0.12012288</td><td>-0.26137036</td><td>5980914.208357306</td><td>6715.943425727663</td><td>890.55457</td><td>27</td><td>1.1786759</td><td>10275589.377867738</td><td>2962.779154307024</td><td>3468.2266</td><td>238</td><td>0</td><td>6130675.371510981</td><td>5797.350442922555</td><td>1057.4961</td><td>27</td><td>NOT_AVAILABLE</td><td>0.04785329</td><td>100001</td><td>0.112573065</td><td>20.934203761905085</td><td>0.7670550073326177</td><td>2.1576006</td><td>2.4110785</td><td>2.305414</td><td>1393743014</td><td>0.11923618</td><td>-0.06779764</td><td>-0.34264567</td><td>2015.5</td><td>6</td><td>0.0</td><td>4.5</td><td>6750.0</td><td>1635721458409799680</td><td>6296.0</td><td>6655.564</td><td>6438.6665</td><td>16</td><td>Gaia DR1 2076372664758050176</td><td>2.3781189524281636</td></tr>\n",
       "<tr><td>BD+42_3150</td><td>K0</td><td>--</td><td>--</td><td>unobserved</td><td>4</td><td>4716</td><td>2.329</td><td>0.063</td><td>9.111</td><td>8.257</td><td>6.743</td><td>8.35</td><td>261</td><td>not sure</td><td>--</td><td>--</td><td>TRES</td><td>281.25263624999997</td><td>42.64371472222222</td><td>2116742544137540608</td><td>7091342</td><td>?</td><td>545.954282342101</td><td>516.819773786676</td><td>578.502581535217</td><td>281.25263624999997,42.64371472222222</td><td>8.422397243124703e-05</td><td>Gaia DR2 2116742544137540608</td><td>281.25257984212334</td><td>42.6436414279837</td><td>71.84130240050959</td><td>19.102430329936123</td><td>290.0903001407802</td><td>65.30002991136283</td><td>1.810260879101584</td><td>-9.667233324697618</td><td>-17.085871041024053</td><td>8.31532</td><td>8.867191</td><td>7.661614</td><td>0.0833965852206171</td><td>0.10336306252142802</td><td>0.10063208011223501</td><td>0.18946577372381954</td><td>0.1940092928840191</td><td>0.0225</td><td>1.8848</td><td>0.165</td><td>5994.6147</td><td>0.5149878123912578</td><td>94.90074661272668</td><td>63.239307</td><td>28</td><td>4</td><td>240</td><td>244</td><td>244</td><td>31</td><td>true</td><td>1.5165633481068224</td><td>0.02642615826869086</td><td>0.11096369</td><td>3.1026225</td><td>0.5518713</td><td>1.205577</td><td>0.17403364</td><td>-0.33679068</td><td>-0.18953183</td><td>false</td><td>0.026</td><td>0.9351</td><td>0.1157</td><td>200111</td><td>0</td><td>0.6537061</td><td>114.53185</td><td>130.9376</td><td>122.73473</td><td>33</td><td>0.13006999</td><td>17.988905</td><td>-0.18029507</td><td>-0.16254573</td><td>3923546.092826491</td><td>6396.341727823126</td><td>613.4047</td><td>29</td><td>1.2188874</td><td>8896477.985866254</td><td>3094.941002539606</td><td>2874.5227</td><td>257</td><td>0</td><td>6920259.0783988</td><td>7506.75476036433</td><td>921.871</td><td>29</td><td>NOT_AVAILABLE</td><td>0.124484755</td><td>100001</td><td>0.063017644</td><td>-26.962163043399457</td><td>0.17351779268387674</td><td>14.9349985</td><td>16.217289</td><td>15.697556</td><td>1183936551</td><td>-0.17725399</td><td>-0.10594467</td><td>0.0010346259</td><td>2015.5</td><td>9</td><td>0.0</td><td>4.5</td><td>4750.0</td><td>1635721458409799680</td><td>4770.6665</td><td>4971.25</td><td>4849.0</td><td>16</td><td>Gaia DR1 2116742539837981568</td><td>-0.37046138423940356</td></tr>\n",
       "<tr><td>BD+42_3367</td><td>M0</td><td>--</td><td>--</td><td>unobserved</td><td>4</td><td>--</td><td>--</td><td>--</td><td>9.468</td><td>7.756</td><td>4.983</td><td>7.271</td><td>269</td><td>RG: low freq</td><td>--</td><td>--</td><td>TRES</td><td>292.6715879166666</td><td>43.037706388888886</td><td>2125866188548442240</td><td>7447756</td><td>LPV</td><td>761.98189491859</td><td>746.828779128639</td><td>777.751092763516</td><td>292.6715879166666,43.037706388888886</td><td>3.494190676802691e-05</td><td>Gaia DR2 2125866188548442240</td><td>292.6715858414645</td><td>43.03767147991811</td><td>75.61478925816363</td><td>11.557029460481917</td><td>309.0485752798862</td><td>63.435835984572435</td><td>1.2840947353311067</td><td>-0.402961672781996</td><td>-8.166714153082385</td><td>6.991751</td><td>8.036824</td><td>6.0163903</td><td>0.02134254390758943</td><td>0.02649848621637815</td><td>0.026416397602176935</td><td>0.046676701938242665</td><td>0.05880667224796282</td><td>0.4589</td><td>1.8811</td><td>0.8997</td><td>446.84952</td><td>0.0</td><td>0.0</td><td>9.12553</td><td>24</td><td>2</td><td>208</td><td>210</td><td>210</td><td>31</td><td>true</td><td>1.3845466258372259</td><td>0.007494598499021783</td><td>0.044854578</td><td>142.24968</td><td>1.045073</td><td>2.020433699999999</td><td>0.06883845</td><td>-0.21872886</td><td>0.028159127</td><td>false</td><td>0.2949</td><td>0.922</td><td>0.5073</td><td>200111</td><td>0</td><td>0.9753609</td><td>1225.3268</td><td>1312.8558</td><td>1269.0913</td><td>29</td><td>-0.044504087</td><td>48.60976</td><td>-0.10242647</td><td>-0.15788342</td><td>8429963.681689855</td><td>24072.68305136433</td><td>350.18796</td><td>25</td><td>1.3260964</td><td>30105503.896727227</td><td>18767.248159050483</td><td>1604.1512</td><td>231</td><td>0</td><td>31492838.0984552</td><td>70933.61745144456</td><td>443.9762</td><td>25</td><td>NOT_AVAILABLE</td><td>-0.20823348</td><td>100001</td><td>-0.15168877</td><td>-11.022885879945854</td><td>0.18018246710165872</td><td>71.9526</td><td>85.30636</td><td>77.28445</td><td>927953023</td><td>0.02060419</td><td>0.038310982</td><td>-0.23987795</td><td>2015.5</td><td>11</td><td>0.0</td><td>4.5</td><td>3900.0</td><td>1635721458409799680</td><td>3730.0</td><td>4061.405</td><td>3918.8035</td><td>14</td><td>Gaia DR1 2125866184249349120</td><td>-2.4179722620105766</td></tr>\n",
       "<tr><td>BD+42_3393</td><td>K5</td><td>--</td><td>--</td><td>unobserved</td><td>4</td><td>--</td><td>--</td><td>--</td><td>9.86</td><td>8.149</td><td>5.362</td><td>7.664</td><td>139</td><td>RG: low freq</td><td>--</td><td>--</td><td>TRES</td><td>293.95776583333327</td><td>42.36609638888889</td><td>2077747333469959168</td><td>6870455</td><td>LPV</td><td>928.952108024118</td><td>904.41632341393</td><td>954.830724423781</td><td>293.95776583333327,42.36609638888889</td><td>5.357343779273956e-05</td><td>Gaia DR2 2077747333469959168</td><td>293.957745613167</td><td>42.36604494069387</td><td>75.44090285624088</td><td>10.410175670527533</td><td>310.4875346048029</td><td>62.478478246945</td><td>1.0485409233965675</td><td>-3.4778489097121117</td><td>-11.950441907648468</td><td>7.4138913</td><td>8.4155445</td><td>6.4632554</td><td>0.024622598759372866</td><td>0.03210595029471521</td><td>0.028965348642872993</td><td>0.050128047268467674</td><td>0.0634744869445169</td><td>--</td><td>--</td><td>--</td><td>289.36545</td><td>0.0</td><td>0.0</td><td>4.5786514</td><td>22</td><td>0</td><td>192</td><td>192</td><td>192</td><td>31</td><td>true</td><td>1.3985246960843385</td><td>0.007485745845436782</td><td>0.047963552</td><td>99.46177</td><td>1.0016532</td><td>1.952289099999999</td><td>0.09089861</td><td>-0.48345822</td><td>-0.18863755</td><td>false</td><td>--</td><td>--</td><td>--</td><td>200111</td><td>0</td><td>0.9506359</td><td>1159.2957</td><td>1268.0935</td><td>1213.6946</td><td>27</td><td>0.07589105</td><td>36.199837</td><td>-0.11708155</td><td>-0.23226637</td><td>5947540.680758539</td><td>11850.448644388667</td><td>501.88318</td><td>26</td><td>1.313969</td><td>20407496.31632695</td><td>10850.299838787842</td><td>1880.8232</td><td>225</td><td>0</td><td>20867276.544406135</td><td>45913.15372000614</td><td>454.4945</td><td>25</td><td>NOT_AVAILABLE</td><td>0.061498348</td><td>100001</td><td>0.17752306</td><td>21.6735068244312</td><td>0.13737236202104824</td><td>67.20721</td><td>77.04411</td><td>72.000626</td><td>1141641629</td><td>0.09726931</td><td>-0.21718661</td><td>-0.24326831</td><td>2015.5</td><td>13</td><td>0.0</td><td>4.5</td><td>3900.0</td><td>1635721458409799680</td><td>3881.36</td><td>4155.715</td><td>4015.0</td><td>15</td><td>Gaia DR1 2077747329166751360</td><td>-2.42607532294456</td></tr>\n",
       "<tr><td>BD+43_3064</td><td>K5</td><td>--</td><td>--</td><td>unobserved</td><td>3</td><td>--</td><td>--</td><td>--</td><td>10.18</td><td>8.692</td><td>6.205</td><td>8.284</td><td>0</td><td>RG</td><td>--</td><td>--</td><td>TRES</td><td>281.3657666666666</td><td>43.9953375</td><td>2117284053614333312</td><td>8075287</td><td>RG</td><td>641.029617229135</td><td>621.919910626924</td><td>661.328015894773</td><td>281.3657666666666,43.9953375</td><td>0.00011090291034656078</td><td>Gaia DR2 2117284053614333312</td><td>281.3657024307495</td><td>43.995236683395596</td><td>73.2201929013917</td><td>19.476250316713145</td><td>290.92417189490845</td><td>66.61084217227871</td><td>1.5328004778440687</td><td>-10.767025657552434</td><td>-23.42257700014015</td><td>8.20331</td><td>8.981694</td><td>7.383054</td><td>0.03457549409716607</td><td>0.04034363620031347</td><td>0.04754081420412862</td><td>0.07417293136373543</td><td>0.06657433559376766</td><td>0.219</td><td>0.7937</td><td>0.436</td><td>274.62134</td><td>0.0</td><td>0.0</td><td>5.030076</td><td>20</td><td>5</td><td>171</td><td>176</td><td>176</td><td>31</td><td>true</td><td>1.4809638301699692</td><td>0.011081144865858513</td><td>0.04964275</td><td>112.84291</td><td>0.7783842</td><td>1.5986399999999996</td><td>0.58624494</td><td>-0.33267474</td><td>-0.29883933</td><td>true</td><td>0.0859</td><td>0.3421</td><td>0.1825</td><td>200111</td><td>0</td><td>0.82025623</td><td>227.53255</td><td>248.07335</td><td>237.80295</td><td>28</td><td>-0.05480187</td><td>32.24178</td><td>-0.21261169</td><td>-0.4703777</td><td>3530834.822405227</td><td>4962.642228523272</td><td>711.48285</td><td>23</td><td>1.264803</td><td>9863303.093230722</td><td>3292.6866772971753</td><td>2995.5183</td><td>218</td><td>1</td><td>8944300.638816802</td><td>16284.614733410817</td><td>549.24854</td><td>24</td><td>NOT_AVAILABLE</td><td>0.05051032</td><td>100002</td><td>-0.063289896</td><td>-14.226023912768262</td><td>0.20543940328208565</td><td>26.52519</td><td>29.446972</td><td>28.336744</td><td>1081208863</td><td>-0.032221645</td><td>-0.02821081</td><td>-0.26302144</td><td>2015.5</td><td>12</td><td>0.0</td><td>3.0</td><td>4500.0</td><td>1635721458409799680</td><td>4176.96</td><td>4401.0</td><td>4258.0</td><td>14</td><td>Gaia DR1 2117284049315538432</td><td>-0.8310804775631606</td></tr>\n",
       "<tr><td>BD+43_3068</td><td>G0</td><td>--</td><td>--</td><td>unobserved</td><td>4</td><td>5506</td><td>4.394</td><td>0.011</td><td>8.754</td><td>8.254</td><td>7.181</td><td>8.308</td><td>0</td><td>not good</td><td>--</td><td>--</td><td>--</td><td>281.5739529166666</td><td>43.815664444444444</td><td>2117267079903573504</td><td>8006792</td><td>-</td><td>53.7738365747513</td><td>53.6508736699958</td><td>53.8973543593231</td><td>281.5739529166666,43.815664444444444</td><td>0.00018813342346805768</td><td>Gaia DR2 2117267079903573504</td><td>281.57417508745425</td><td>43.81556598527454</td><td>73.09348679592462</td><td>19.27486861784048</td><td>291.20404362595394</td><td>66.4049395712588</td><td>18.56759061637905</td><td>37.18538151482937</td><td>-22.90694741955538</td><td>8.267944</td><td>8.628723</td><td>7.7897754</td><td>0.03534275963291273</td><td>0.03842876470745881</td><td>0.0423019075336395</td><td>0.06788758851138996</td><td>0.07390662061064586</td><td>0.008</td><td>0.292</td><td>0.143</td><td>290.89014</td><td>0.0</td><td>0.0</td><td>6.4566927</td><td>18</td><td>2</td><td>155</td><td>157</td><td>157</td><td>31</td><td>true</td><td>1.6039818960760703</td><td>0.010876165858858545</td><td>0.04902309</td><td>104.80995</td><td>0.3607788</td><td>0.8389476000000009</td><td>0.30348808</td><td>-0.1844848</td><td>-0.06958324</td><td>false</td><td>0.0045</td><td>0.144</td><td>0.058</td><td>200111</td><td>0</td><td>0.47816896</td><td>1.0631689</td><td>1.070242</td><td>1.0667055</td><td>23</td><td>-0.06801</td><td>438.93033</td><td>0.083323054</td><td>-0.35798255</td><td>4887266.545806501</td><td>8072.029800917134</td><td>605.457</td><td>20</td><td>1.1876361</td><td>9293268.546858937</td><td>4699.760090600695</td><td>1977.3921</td><td>171</td><td>0</td><td>6149754.909231502</td><td>5671.835415612552</td><td>1084.2618</td><td>18</td><td>NOT_AVAILABLE</td><td>-0.1601542</td><td>100001</td><td>-0.33179</td><td>-0.0810845688897669</td><td>0.11345557820822356</td><td>1.0228665</td><td>1.0624237</td><td>1.0424241</td><td>1582559403</td><td>-0.2602282</td><td>0.013578791</td><td>-0.12274461</td><td>2015.5</td><td>3</td><td>0.0</td><td>4.5</td><td>6000.0</td><td>1635721458409799680</td><td>5691.0</td><td>5800.0</td><td>5745.3335</td><td>14</td><td>Gaia DR1 2117267075604798080</td><td>4.6150888851424305</td></tr>\n",
       "<tr><td>...</td><td>...</td><td>...</td><td>...</td><td>...</td><td>...</td><td>...</td><td>...</td><td>...</td><td>...</td><td>...</td><td>...</td><td>...</td><td>...</td><td>...</td><td>...</td><td>...</td><td>...</td><td>...</td><td>...</td><td>...</td><td>...</td><td>...</td><td>...</td><td>...</td><td>...</td><td>...</td><td>...</td><td>...</td><td>...</td><td>...</td><td>...</td><td>...</td><td>...</td><td>...</td><td>...</td><td>...</td><td>...</td><td>...</td><td>...</td><td>...</td><td>...</td><td>...</td><td>...</td><td>...</td><td>...</td><td>...</td><td>...</td><td>...</td><td>...</td><td>...</td><td>...</td><td>...</td><td>...</td><td>...</td><td>...</td><td>...</td><td>...</td><td>...</td><td>...</td><td>...</td><td>...</td><td>...</td><td>...</td><td>...</td><td>...</td><td>...</td><td>...</td><td>...</td><td>...</td><td>...</td><td>...</td><td>...</td><td>...</td><td>...</td><td>...</td><td>...</td><td>...</td><td>...</td><td>...</td><td>...</td><td>...</td><td>...</td><td>...</td><td>...</td><td>...</td><td>...</td><td>...</td><td>...</td><td>...</td><td>...</td><td>...</td><td>...</td><td>...</td><td>...</td><td>...</td><td>...</td><td>...</td><td>...</td><td>...</td><td>...</td><td>...</td><td>...</td><td>...</td><td>...</td><td>...</td><td>...</td><td>...</td><td>...</td><td>...</td><td>...</td><td>...</td><td>...</td><td>...</td><td>...</td><td>...</td><td>...</td><td>...</td><td>...</td><td>...</td><td>...</td><td>...</td><td>...</td></tr>\n",
       "<tr><td>HD_226754</td><td>K2</td><td>--</td><td>--</td><td>unobserved</td><td>2</td><td>--</td><td>--</td><td>--</td><td>9.729</td><td>8.238</td><td>5.627</td><td>7.829</td><td>--</td><td>RG: poor quality</td><td>--</td><td>--</td><td>TRES</td><td>299.2584070833333</td><td>41.57413722222223</td><td>2075352803312372224</td><td>6234579</td><td>RG</td><td>391.819751503071</td><td>385.93657262837</td><td>397.88176677788</td><td>299.2584070833333,41.57413722222223</td><td>8.939027918191619e-05</td><td>Gaia DR2 2075352803312372224</td><td>299.2585258315518</td><td>41.57414716797954</td><td>76.67688800224043</td><td>6.581359859307245</td><td>317.5170503890929</td><td>60.278207166441966</td><td>2.5242497990171144</td><td>20.60440117301869</td><td>2.2574903183474384</td><td>7.702354</td><td>8.511494</td><td>6.8591075</td><td>0.026804588929909414</td><td>0.03654712227749678</td><td>0.03859849549418101</td><td>0.05816312016847725</td><td>0.06485379063402215</td><td>0.256</td><td>0.792</td><td>0.523</td><td>287.81897</td><td>0.0</td><td>9.8653193632092e-16</td><td>3.716659</td><td>24</td><td>2</td><td>209</td><td>211</td><td>211</td><td>31</td><td>true</td><td>1.4580837674138718</td><td>0.007858826293585938</td><td>0.042561732</td><td>78.38421</td><td>0.8091397</td><td>1.6523865000000004</td><td>0.5209135</td><td>0.07712892</td><td>-0.10627815</td><td>false</td><td>0.1113</td><td>0.3863</td><td>0.2457</td><td>200111</td><td>0</td><td>0.84324646</td><td>149.3719</td><td>156.27898</td><td>152.82544</td><td>28</td><td>-0.023415472</td><td>65.39762</td><td>0.083359905</td><td>-0.022170123</td><td>5444497.080328034</td><td>8882.77606001862</td><td>612.9274</td><td>26</td><td>1.274212</td><td>15646050.073668981</td><td>6089.0256650387155</td><td>2569.549</td><td>234</td><td>0</td><td>14491886.998452963</td><td>15448.87946660865</td><td>938.05426</td><td>25</td><td>NOT_AVAILABLE</td><td>0.08000173</td><td>100001</td><td>0.17886949</td><td>18.013952250950602</td><td>0.13897083193572637</td><td>22.661266</td><td>25.438066</td><td>24.59591</td><td>1096060286</td><td>0.28272927</td><td>-0.07888634</td><td>-0.08620743</td><td>2015.5</td><td>12</td><td>0.0</td><td>3.0</td><td>4500.0</td><td>1635721458409799680</td><td>4023.7703</td><td>4263.175</td><td>4092.077</td><td>14</td><td>Gaia DR1 2075352799000907136</td><td>-0.2630776242530457</td></tr>\n",
       "<tr><td>V2079_Cyg</td><td>B8V</td><td>--</td><td>--</td><td>unobserved, alpha2 Cvn</td><td>4</td><td>--</td><td>--</td><td>--</td><td>6.921</td><td>7.059</td><td>7.331</td><td>7.174</td><td>93</td><td>Classical Pulsator</td><td>--</td><td>--</td><td>--</td><td>291.50506291666665</td><td>45.013086666666666</td><td>2126627978307068672</td><td>8818020</td><td>a2cvn</td><td>321.472917470688</td><td>317.860096187438</td><td>325.167308507588</td><td>291.50506291666665,45.013086666666666</td><td>2.7853813459444843e-05</td><td>Gaia DR2 2126627978307068672</td><td>291.50507875058656</td><td>45.01311217226868</td><td>77.05833008367536</td><td>13.174903030775708</td><td>308.81755638004665</td><td>65.57960156532535</td><td>3.0823443394284245</td><td>2.5537242801921094</td><td>5.8956541813299435</td><td>7.034088</td><td>6.9810615</td><td>7.2017684</td><td>0.030830448241323114</td><td>0.035404316780483704</td><td>0.03508301852144513</td><td>0.06603086817577583</td><td>0.07151680791654845</td><td>0.0147</td><td>0.1281</td><td>0.069</td><td>1305.1285</td><td>0.16730748818387095</td><td>11.821712301788681</td><td>25.04315</td><td>28</td><td>3</td><td>242</td><td>245</td><td>245</td><td>31</td><td>true</td><td>1.8394030125525838</td><td>0.00948312664357066</td><td>0.049858395</td><td>25.502617</td><td>-0.053026676</td><td>-0.2207068999999997</td><td>0.09623303</td><td>-0.35340026</td><td>-0.09722237</td><td>false</td><td>0.0064</td><td>0.0746</td><td>0.0397</td><td>--</td><td>0</td><td>-0.16768026</td><td>--</td><td>--</td><td>--</td><td>33</td><td>0.058372177</td><td>87.85858</td><td>0.07406163</td><td>-0.13011077</td><td>22291060.24836617</td><td>87785.10032267869</td><td>253.9276</td><td>27</td><td>1.1349219</td><td>28954160.455316413</td><td>32201.180568002983</td><td>899.16455</td><td>260</td><td>0</td><td>10569652.119348211</td><td>39646.33137104445</td><td>266.59848</td><td>29</td><td>NOT_AVAILABLE</td><td>0.08896264</td><td>100001</td><td>0.017970743</td><td>--</td><td>--</td><td>--</td><td>--</td><td>--</td><td>495141405</td><td>-0.045116663</td><td>-0.07014461</td><td>-0.15736745</td><td>2015.5</td><td>0</td><td>--</td><td>--</td><td>--</td><td>1635721458409799680</td><td>7963.25</td><td>9593.0</td><td>8868.667</td><td>17</td><td>--</td><td>-0.5016339580203448</td></tr>\n",
       "<tr><td>V2083_Cyg</td><td>A3</td><td>--</td><td>--</td><td>unobserved EB</td><td>4</td><td>--</td><td>--</td><td>--</td><td>7.143</td><td>6.884</td><td>6.317</td><td>6.902</td><td>0</td><td>EB</td><td>--</td><td>--</td><td>--</td><td>292.81818708333327</td><td>47.48117694444445</td><td>2128480311802353536</td><td>10342012</td><td>EB</td><td>nan</td><td>nan</td><td>nan</td><td>292.8180758333333,47.4810425</td><td>3.045468683588237e-07</td><td>Gaia DR2 2128480311802353536</td><td>292.81807623838415</td><td>47.48104263345887</td><td>79.74870041852522</td><td>13.41873522969091</td><td>313.2763085812297</td><td>67.52199730593198</td><td>--</td><td>--</td><td>--</td><td>6.813094</td><td>6.958596</td><td>6.607133</td><td>0.9129593534678879</td><td>0.9111506259110029</td><td>--</td><td>--</td><td>--</td><td>--</td><td>--</td><td>--</td><td>2184183.8</td><td>10.558104629072224</td><td>41534.46944489842</td><td>621.83044</td><td>21</td><td>0</td><td>178</td><td>178</td><td>178</td><td>3</td><td>false</td><td>--</td><td>--</td><td>1.8702852</td><td>0.0074779573</td><td>0.14550209</td><td>0.35146299999999986</td><td>--</td><td>--</td><td>--</td><td>false</td><td>--</td><td>--</td><td>--</td><td>--</td><td>0</td><td>0.20596123</td><td>--</td><td>--</td><td>--</td><td>35</td><td>0.02136786</td><td>--</td><td>--</td><td>--</td><td>22757088.525844857</td><td>41156.05079937947</td><td>552.94635</td><td>25</td><td>1.1562203</td><td>35490213.691373415</td><td>20109.96568065563</td><td>1764.8073</td><td>237</td><td>0</td><td>18277417.46653145</td><td>39762.3565107829</td><td>459.66635</td><td>24</td><td>NOT_AVAILABLE</td><td>--</td><td>130001</td><td>-0.090708636</td><td>--</td><td>--</td><td>--</td><td>--</td><td>--</td><td>1344301503</td><td>--</td><td>--</td><td>--</td><td>2015.5</td><td>0</td><td>--</td><td>--</td><td>--</td><td>1635721458409799680</td><td>7372.0</td><td>7750.0</td><td>7461.5</td><td>15</td><td>Gaia DR1 2128480307502062848</td><td>nan</td></tr>\n",
       "<tr><td>V380_Cyg</td><td>B1.1III+B2.5/3V:</td><td>1.25</td><td>0.226</td><td>LC:Q11 SC:Q7 9 10 12-17 under</td><td>4</td><td>--</td><td>--</td><td>--</td><td>5.615</td><td>5.675</td><td>5.712</td><td>5.771</td><td>122</td><td>Eclipsing_binary</td><td>--</td><td>--</td><td>--</td><td>297.65552791666664</td><td>40.599758055555554</td><td>2073743839843579776</td><td>5385723</td><td>EB</td><td>1044.67154927546</td><td>949.069840098863</td><td>1161.2897500675</td><td>297.65552791666664,40.599758055555554</td><td>3.552128422292061e-05</td><td>Gaia DR2 2073743839843579776</td><td>297.65551057522265</td><td>40.59972506473762</td><td>75.21556118743294</td><td>7.132817742584114</td><td>314.53618927524036</td><td>59.835640216574866</td><td>0.9417389350456754</td><td>-3.068280374306102</td><td>-7.70853827607408</td><td>5.6319346</td><td>5.6103888</td><td>5.67235</td><td>0.0719682521979439</td><td>0.08443032364910381</td><td>0.09210667228384416</td><td>0.14496814576084738</td><td>0.17593006756788546</td><td>0.0582</td><td>0.403</td><td>0.2363</td><td>6723.103</td><td>0.47670105919098477</td><td>103.33503434594653</td><td>66.944145</td><td>34</td><td>16</td><td>282</td><td>298</td><td>298</td><td>31</td><td>false</td><td>1.8053970314290808</td><td>0.02434330853511722</td><td>0.09572064</td><td>3.8607326</td><td>-0.021545887</td><td>-0.06196119999999983</td><td>0.25320682</td><td>-0.19614702</td><td>-0.04270696</td><td>false</td><td>0.037</td><td>0.2123</td><td>0.122</td><td>--</td><td>0</td><td>-0.040415287</td><td>--</td><td>--</td><td>--</td><td>40</td><td>0.18732707</td><td>10.224438</td><td>0.053513415</td><td>-0.22566481</td><td>78777042.42409518</td><td>455139.7133456917</td><td>173.0832</td><td>27</td><td>1.1583178</td><td>105334916.07160251</td><td>218971.34776630544</td><td>481.04428</td><td>342</td><td>0</td><td>43234262.45247254</td><td>284948.1750730456</td><td>151.72676</td><td>32</td><td>NOT_AVAILABLE</td><td>0.1184615</td><td>100001</td><td>0.19914044</td><td>--</td><td>--</td><td>--</td><td>--</td><td>--</td><td>1280065496</td><td>0.29865295</td><td>0.033063006</td><td>-0.1270009</td><td>2015.5</td><td>0</td><td>--</td><td>--</td><td>--</td><td>1635721458409799680</td><td>7720.25</td><td>9700.333</td><td>8779.0</td><td>14</td><td>Gaia DR1 2073743835537822336</td><td>-4.462964236163624</td></tr>\n",
       "<tr><td>V398_Lyr</td><td>M3</td><td>--</td><td>--</td><td>unobserved</td><td>4</td><td>--</td><td>--</td><td>--</td><td>8.877</td><td>7.421</td><td>1.869</td><td>7.024</td><td>49</td><td>RG</td><td>--</td><td>--</td><td>TRES</td><td>287.0549454166666</td><td>39.15487916666667</td><td>2100382189073830528</td><td>4042516</td><td>RG</td><td>494.665556977779</td><td>464.050015806101</td><td>529.522722362535</td><td>287.0549454166666,39.15487916666667</td><td>1.5477945927366873e-05</td><td>Gaia DR2 2100382189073830528</td><td>287.05494859817054</td><td>39.154894446731085</td><td>70.16991131031553</td><td>13.734735607155901</td><td>297.92952370423194</td><td>60.95091152057306</td><td>2.004647104188795</td><td>0.5288011348216308</td><td>3.498230335451396</td><td>5.4027195</td><td>7.5730567</td><td>4.16726</td><td>0.10819001355624652</td><td>0.1314409284899442</td><td>0.12987738952162156</td><td>0.2458091010394266</td><td>0.2843827836595943</td><td>--</td><td>--</td><td>--</td><td>14601.003</td><td>0.7477610795018135</td><td>276.1065313225258</td><td>96.69994</td><td>33</td><td>25</td><td>259</td><td>284</td><td>284</td><td>31</td><td>true</td><td>1.2588923921912472</td><td>0.03470458516485827</td><td>0.15019646</td><td>1.5917567</td><td>2.1703372</td><td>3.4057967000000007</td><td>0.006963073</td><td>-0.22778298</td><td>0.03466539</td><td>false</td><td>--</td><td>--</td><td>--</td><td>--</td><td>0</td><td>1.2354593</td><td>--</td><td>--</td><td>--</td><td>43</td><td>0.056493487</td><td>15.43492</td><td>-0.058714166</td><td>-0.1340798</td><td>12922086.298536584</td><td>384118.10140038753</td><td>33.64092</td><td>25</td><td>1.4285747</td><td>130094364.92164679</td><td>652251.938554263</td><td>199.45416</td><td>315</td><td>0</td><td>172927433.7390379</td><td>2921989.2237560772</td><td>59.181408</td><td>26</td><td>VARIABLE</td><td>-0.13233319</td><td>100001</td><td>-0.12537158</td><td>--</td><td>--</td><td>--</td><td>--</td><td>--</td><td>404366033</td><td>-0.05585489</td><td>0.038544726</td><td>-0.1505912</td><td>2015.5</td><td>0</td><td>--</td><td>--</td><td>--</td><td>1635721458409799680</td><td>3285.25</td><td>3311.0</td><td>3297.5</td><td>16</td><td>Gaia DR1 2100382184777487104</td><td>-3.068838859833363</td></tr>\n",
       "<tr><td>V543_Lyr</td><td>B3V</td><td>-0.05</td><td>--</td><td>unobserved bCep</td><td>4</td><td>--</td><td>--</td><td>--</td><td>6.037</td><td>6.182</td><td>6.477</td><td>6.299</td><td>0</td><td>Classical Pulsator</td><td>--</td><td>--</td><td>--</td><td>284.6941154166666</td><td>40.67919</td><td>2103449001881575680</td><td>5429169</td><td>SPB</td><td>345.122761295331</td><td>339.701603163104</td><td>350.716550663015</td><td>284.6941154166666,40.67919</td><td>8.447491503657263e-06</td><td>Gaia DR2 2103449001881575680</td><td>284.69412308147275</td><td>40.679183870412636</td><td>70.88423826082847</td><td>15.998510717159226</td><td>294.9351889706437</td><td>62.85217314227643</td><td>2.869682553364758</td><td>1.2928661336792204</td><td>-1.4244736932893733</td><td>6.159548</td><td>6.0964146</td><td>6.3134727</td><td>0.03651016234349244</td><td>0.04349185237965157</td><td>0.045876493095952035</td><td>0.08213875461667061</td><td>0.09221766895706468</td><td>0.0289</td><td>0.1404</td><td>0.078</td><td>1156.4489</td><td>0.19037907896657755</td><td>15.651170978026826</td><td>24.151241</td><td>23</td><td>8</td><td>196</td><td>204</td><td>204</td><td>31</td><td>true</td><td>1.809001446562093</td><td>0.012582658925412982</td><td>0.057593927</td><td>23.210981</td><td>-0.06313324</td><td>-0.21705810000000003</td><td>0.142904</td><td>-0.005453857</td><td>-0.15706891</td><td>false</td><td>0.015</td><td>0.073</td><td>0.039</td><td>--</td><td>0</td><td>-0.15392494</td><td>--</td><td>--</td><td>--</td><td>29</td><td>-0.07492147</td><td>62.552353</td><td>-0.19242366</td><td>-0.113509595</td><td>50348826.02930803</td><td>334009.4374402918</td><td>150.74072</td><td>24</td><td>1.1467752</td><td>64792875.364070214</td><td>114816.22581099563</td><td>564.3181</td><td>247</td><td>1</td><td>23954043.11563421</td><td>131080.65307193782</td><td>182.74278</td><td>25</td><td>NOT_AVAILABLE</td><td>-0.06771045</td><td>100002</td><td>-0.0856196</td><td>--</td><td>--</td><td>--</td><td>--</td><td>--</td><td>1262840557</td><td>0.12723795</td><td>-0.15413599</td><td>0.12893221</td><td>2015.5</td><td>0</td><td>--</td><td>--</td><td>--</td><td>1635721458409799680</td><td>7963.25</td><td>9593.0</td><td>8868.667</td><td>15</td><td>--</td><td>-1.5303200126120027</td></tr>\n",
       "<tr><td>V546_Lyr</td><td>M3III</td><td>--</td><td>--</td><td>unobserved</td><td>4</td><td>--</td><td>--</td><td>--</td><td>9.457</td><td>7.838</td><td>4.077</td><td>7.385</td><td>82</td><td>RG: low freq</td><td>--</td><td>--</td><td>TRES</td><td>284.8393516666667</td><td>41.63692277777778</td><td>2104055760501638016</td><td>6267345</td><td>LPV</td><td>587.76713557741</td><td>575.205881946328</td><td>600.878880067927</td><td>284.8393516666667,41.63692277777778</td><td>5.50746770115342e-05</td><td>Gaia DR2 2104055760501638016</td><td>284.83932659629517</td><td>41.63687098829644</td><td>71.85031425700019</td><td>16.258971342223777</td><td>295.6536001585106</td><td>63.760464398059646</td><td>1.6734049941412377</td><td>-4.420890416079007</td><td>-12.035879449798582</td><td>6.784268</td><td>8.111529</td><td>5.6686263</td><td>0.025933721600506113</td><td>0.03532232531478286</td><td>0.03685788888017449</td><td>0.05481194168416621</td><td>0.05788512417859101</td><td>--</td><td>--</td><td>--</td><td>766.93915</td><td>0.08877614974751222</td><td>3.580953958761469</td><td>16.91825</td><td>24</td><td>7</td><td>207</td><td>214</td><td>214</td><td>31</td><td>true</td><td>1.333005038623929</td><td>0.010263740422089686</td><td>0.042320237</td><td>68.04862</td><td>1.3272614</td><td>2.442902700000001</td><td>0.48517027</td><td>-0.3102098</td><td>-0.25111166</td><td>false</td><td>--</td><td>--</td><td>--</td><td>200111</td><td>0</td><td>1.1156416</td><td>1001.6645</td><td>1070.1101</td><td>1035.8873</td><td>30</td><td>0.16197814</td><td>45.401543</td><td>-0.062464613</td><td>-0.34671775</td><td>7869432.661494579</td><td>43523.06133390099</td><td>180.81064</td><td>24</td><td>1.4062859</td><td>36445094.59342163</td><td>49104.73238238114</td><td>742.1911</td><td>233</td><td>1</td><td>43382787.71251729</td><td>162282.71869517188</td><td>267.32846</td><td>24</td><td>NOT_AVAILABLE</td><td>0.14903557</td><td>100002</td><td>0.1459914</td><td>-8.609866208870853</td><td>0.1881678175964963</td><td>71.517334</td><td>83.82083</td><td>77.48596</td><td>335073007</td><td>0.12716213</td><td>-0.09201018</td><td>-0.04663953</td><td>2015.5</td><td>9</td><td>0.0</td><td>4.5</td><td>3600.0</td><td>1635721458409799680</td><td>3576.6667</td><td>3872.1199</td><td>3720.0</td><td>13</td><td>Gaia DR1 2104055756202531968</td><td>-2.0617584963284257</td></tr>\n",
       "<tr><td>V547_Lyr</td><td>M4-IIIa</td><td>--</td><td>--</td><td>unobserved</td><td>4</td><td>--</td><td>--</td><td>--</td><td>8.109</td><td>6.611</td><td>2.258</td><td>6.199</td><td>48</td><td>RG: low freq</td><td>--</td><td>--</td><td>TRES</td><td>285.07942333333335</td><td>40.6839975</td><td>2103815448491466496</td><td>5429948</td><td>LPV</td><td>288.920092314708</td><td>276.921626546759</td><td>301.985143696241</td><td>285.07942333333335,40.6839975</td><td>6.395164192096614e-05</td><td>Gaia DR2 2103815448491466496</td><td>285.0794350340927</td><td>40.683934166877044</td><td>71.00448595083816</td><td>15.730138304951492</td><td>295.5610232481278</td><td>62.79142807307092</td><td>3.4427806499619007</td><td>2.052623614226718</td><td>-14.731001971588883</td><td>5.227579</td><td>6.822384</td><td>4.097596</td><td>0.11941891556351691</td><td>0.13711587033361314</td><td>0.1485660419149978</td><td>0.26308610899763735</td><td>0.271430885744766</td><td>--</td><td>--</td><td>--</td><td>13669.586</td><td>0.85987687814941</td><td>308.7802005824524</td><td>94.06004</td><td>36</td><td>45</td><td>271</td><td>316</td><td>316</td><td>31</td><td>true</td><td>1.3312441320935722</td><td>0.04138964452572648</td><td>0.14042707</td><td>1.2685575</td><td>1.5948048</td><td>2.7247879999999993</td><td>0.19094203</td><td>-0.17941897</td><td>-0.07276016</td><td>false</td><td>--</td><td>--</td><td>--</td><td>200111</td><td>0</td><td>1.129983</td><td>1101.868</td><td>1217.8322</td><td>1159.8501</td><td>43</td><td>-0.10118626</td><td>23.173403</td><td>-0.16978385</td><td>-0.23965414</td><td>25798932.80659752</td><td>143402.38885477875</td><td>179.90588</td><td>27</td><td>1.3749548</td><td>152867301.40286762</td><td>363237.83575284976</td><td>420.8463</td><td>326</td><td>0</td><td>184386698.19215178</td><td>1067423.5066587164</td><td>172.73996</td><td>27</td><td>NOT_AVAILABLE</td><td>-0.059867065</td><td>100001</td><td>-0.10458201</td><td>--</td><td>--</td><td>76.8308</td><td>95.271645</td><td>89.96736</td><td>789690256</td><td>0.05311462</td><td>-0.032036662</td><td>-0.06940012</td><td>2015.5</td><td>0</td><td>--</td><td>--</td><td>--</td><td>1635721458409799680</td><td>3451.0</td><td>3842.9001</td><td>3551.275</td><td>15</td><td>--</td><td>-2.076309724762428</td></tr>\n",
       "<tr><td>V554_Lyr</td><td></td><td>--</td><td>--</td><td>unobserved</td><td>2</td><td>9887</td><td>4.309</td><td>0.051</td><td>7.97</td><td>8.248</td><td>8.266</td><td>8.179</td><td>0</td><td>Missing - alpha2 Cvn</td><td>--</td><td>--</td><td>--</td><td>288.82186208333326</td><td>40.11369027777778</td><td>2101290316961062400</td><td>5001462</td><td>a2cvn</td><td>335.749513113855</td><td>331.237286508456</td><td>340.384110652163</td><td>288.82186208333326,40.11369027777778</td><td>8.095386429001568e-06</td><td>Gaia DR2 2101290316961062400</td><td>288.82187096088387</td><td>40.11368586856005</td><td>71.64425051321152</td><td>12.890702869814758</td><td>301.1724730456267</td><td>61.53150219241715</td><td>2.950309183143932</td><td>1.5499087817707995</td><td>-1.06838450792675</td><td>8.092074</td><td>8.058086</td><td>8.187183</td><td>0.03218932690129209</td><td>0.04094982169211509</td><td>0.040256532510948136</td><td>0.06969244544165289</td><td>0.0766676874505987</td><td>0.071</td><td>0.1788</td><td>0.1147</td><td>933.6137</td><td>0.12730564815109582</td><td>5.361749279979745</td><td>19.508318</td><td>26</td><td>5</td><td>225</td><td>230</td><td>230</td><td>31</td><td>true</td><td>1.8315852054878998</td><td>0.01001864955370546</td><td>0.050853003</td><td>28.17992</td><td>-0.033988</td><td>-0.1290969999999998</td><td>0.23132443</td><td>-0.30996892</td><td>0.0129631255</td><td>true</td><td>0.0376</td><td>0.0914</td><td>0.058</td><td>--</td><td>0</td><td>-0.095108986</td><td>--</td><td>--</td><td>--</td><td>30</td><td>-0.0957957</td><td>73.28771</td><td>0.09296279</td><td>-0.14507844</td><td>8266483.7052912265</td><td>48096.61053110864</td><td>171.87248</td><td>28</td><td>1.1467735</td><td>10927394.473817334</td><td>21112.164551932172</td><td>517.5876</td><td>245</td><td>0</td><td>4264761.671188791</td><td>31462.83697551531</td><td>135.54918</td><td>29</td><td>NOT_AVAILABLE</td><td>-0.075503826</td><td>100001</td><td>-0.24103202</td><td>--</td><td>--</td><td>--</td><td>--</td><td>--</td><td>252517080</td><td>-0.10284417</td><td>0.06764294</td><td>-0.15914945</td><td>2015.5</td><td>0</td><td>--</td><td>--</td><td>--</td><td>1635721458409799680</td><td>7963.25</td><td>9593.0</td><td>8868.667</td><td>15</td><td>--</td><td>0.4619970422481252</td></tr>\n",
       "<tr><td>V819_Cyg</td><td>B0.5IIIn</td><td>--</td><td>--</td><td>LC:Q14 16 17 under</td><td>4</td><td>--</td><td>--</td><td>--</td><td>6.15</td><td>6.27</td><td>6.481</td><td>6.381</td><td>178</td><td>sharp peaks</td><td>--</td><td>--</td><td>--</td><td>298.2551920833333</td><td>47.807719444444444</td><td>2086460069767734656</td><td>10618721</td><td>SPB</td><td>1114.03334931676</td><td>1050.99966783608</td><td>1184.94930805615</td><td>298.2551920833333,47.807719444444444</td><td>4.2748128563503056e-05</td><td>Gaia DR2 2086460069767734656</td><td>298.25514641840573</td><td>47.807689665544785</td><td>81.77161318401905</td><td>10.320103829139104</td><td>322.0378001641481</td><td>66.21724005306496</td><td>0.8723898638894624</td><td>-7.175527161192761</td><td>-6.976871355153065</td><td>6.243083</td><td>6.1927276</td><td>6.3530927</td><td>0.03938587283617616</td><td>0.05587114317312055</td><td>0.05248293769482653</td><td>0.08199155357989527</td><td>0.10495415236414486</td><td>0.025</td><td>0.2081</td><td>0.0957</td><td>1437.7871</td><td>0.2231897368527194</td><td>21.484206779208606</td><td>27.71796</td><td>25</td><td>9</td><td>213</td><td>222</td><td>222</td><td>31</td><td>true</td><td>1.789706936687721</td><td>0.012914243904799444</td><td>0.0641525</td><td>17.364832</td><td>-0.050355434</td><td>-0.16036509999999993</td><td>0.38676956</td><td>-0.27386898</td><td>-0.24101274</td><td>false</td><td>0.0149</td><td>0.0862</td><td>0.0405</td><td>--</td><td>0</td><td>-0.11000967</td><td>--</td><td>--</td><td>--</td><td>34</td><td>0.05559127</td><td>16.622353</td><td>0.035042994</td><td>-0.25335842</td><td>46074888.42047478</td><td>117692.44729532218</td><td>391.4855</td><td>29</td><td>1.1529442</td><td>59994736.20029049</td><td>33114.904009124264</td><td>1811.714</td><td>292</td><td>0</td><td>23095693.806838464</td><td>67317.79696664552</td><td>343.0845</td><td>29</td><td>NOT_AVAILABLE</td><td>0.047858894</td><td>100001</td><td>0.14519401</td><td>--</td><td>--</td><td>--</td><td>--</td><td>--</td><td>1095331843</td><td>0.25651935</td><td>-0.14109989</td><td>-0.12185155</td><td>2015.5</td><td>0</td><td>--</td><td>--</td><td>--</td><td>1635721458409799680</td><td>7963.25</td><td>9593.0</td><td>8868.667</td><td>14</td><td>Gaia DR1 2086460065463680128</td><td>-3.991407959608013</td></tr>\n",
       "</table>"
      ],
      "text/plain": [
       "<Table masked=True length=102>\n",
       "   Name         SpType      ...        abs_gg       \n",
       "                            ...                     \n",
       "  str10         object      ...       float64       \n",
       "---------- ---------------- ... --------------------\n",
       "    14_Cyg            B9III ...  -1.0718344464205538\n",
       "BD+36_3564               K5 ...  -0.6497784686068577\n",
       "BD+39_3577               G5 ...   0.6211856719851312\n",
       "BD+39_3882               F5 ...   2.3781189524281636\n",
       "BD+42_3150               K0 ... -0.37046138423940356\n",
       "BD+42_3367               M0 ...  -2.4179722620105766\n",
       "BD+42_3393               K5 ...    -2.42607532294456\n",
       "BD+43_3064               K5 ...  -0.8310804775631606\n",
       "BD+43_3068               G0 ...   4.6150888851424305\n",
       "       ...              ... ...                  ...\n",
       " HD_226754               K2 ...  -0.2630776242530457\n",
       " V2079_Cyg              B8V ...  -0.5016339580203448\n",
       " V2083_Cyg               A3 ...                  nan\n",
       "  V380_Cyg B1.1III+B2.5/3V: ...   -4.462964236163624\n",
       "  V398_Lyr               M3 ...   -3.068838859833363\n",
       "  V543_Lyr              B3V ...  -1.5303200126120027\n",
       "  V546_Lyr            M3III ...  -2.0617584963284257\n",
       "  V547_Lyr          M4-IIIa ...   -2.076309724762428\n",
       "  V554_Lyr                  ...   0.4619970422481252\n",
       "  V819_Cyg         B0.5IIIn ...   -3.991407959608013"
      ]
     },
     "execution_count": 59,
     "metadata": {},
     "output_type": "execute_result"
    }
   ],
   "source": [
    "full_cat"
   ]
  },
  {
   "cell_type": "code",
   "execution_count": 60,
   "metadata": {},
   "outputs": [
    {
     "data": {
      "image/png": "[encoded data removed]",
      "text/plain": [
       "<Figure size 648x432 with 1 Axes>"
      ]
     },
     "metadata": {
      "needs_background": "light"
     },
     "output_type": "display_data"
    }
   ],
   "source": [
    "f = plt.figure(figsize=(9,6))\n",
    "filter = (kep_data['phot_g_mean_mag'] <= 18.) & (kep_data['parallax'] > 0.1)\n",
    "filter = (kep_data['phot_g_mean_mag'] <= 18.) & (kep_data['parallax_over_error'] > 25)\n",
    "\n",
    "allkep = plt.scatter(kep_data['bp_rp'][filter], kep_data['abs_gmag'][filter], alpha=0.15, color='k', s=1,label='All Kepler')\n",
    "m = np.where(full_cat['TRES?']!='--')[0]\n",
    "mm = np.where(full_cat['TRES?']=='--')[0]\n",
    "\n",
    "bp_rp = full_cat['bp_rp']\n",
    "no = plt.errorbar(bp_rp[mm],abs_gg[mm],yerr=errorbars[:,mm],fmt='.',color=colours[2],label=r'Smear Campaign (no spectra)',markersize=10)\n",
    "spec = plt.errorbar(bp_rp[m],abs_gg[m],yerr=errorbars[:,m],fmt='.',color=colours[1],label=r'Smear Campaign (with spectra)',markersize=10)\n",
    "\n",
    "for j,special in enumerate(['HD_182354','HD_176209','BD+43_3068']):\n",
    "    mmm = np.where(full_cat['Name']==special)[0]\n",
    "    plt.plot(bp_rp[mmm],abs_gg[mmm],'*',color=colours[3+j],label=special.replace('_',' '),markersize=14,zorder=10)\n",
    "\n",
    "plt.xlabel('Gaia $Bp-Rp$', fontsize=14)\n",
    "plt.ylabel(r'Absolute $G$ mag', fontsize=14)\n",
    "plt.ylim([13,-6])\n",
    "plt.xlim([-0.5,4.1])\n",
    "handles, labels = plt.gca().get_legend_handles_labels()\n",
    "order = [3,4,5,0,1,2]\n",
    "plt.legend([handles[idx] for idx in order],[labels[idx] for idx in order],fontsize=12,frameon=False)\n",
    "plt.title(r'Smear Stars in the Gaia Colour-Magnitude Diagram',y=1.01,fontsize=14)\n",
    "# plt.axvline(0.95) # separate giants and dwarfs \n",
    "plt.savefig('../paper/gaia_kepler_hr.png',bbox_inches='tight')"
   ]
  },
  {
   "cell_type": "code",
   "execution_count": 61,
   "metadata": {},
   "outputs": [
    {
     "name": "stdout",
     "output_type": "stream",
     "text": [
      "66 giants 36 dwarfs 102 total\n"
     ]
    }
   ],
   "source": [
    "giants = (bp-rp>0.95)\n",
    "dwarfs = (bp-rp<0.95)\n",
    "print(giants.sum(),'giants', dwarfs.sum(),'dwarfs',giants.sum()+dwarfs.sum(),'total')\n",
    "# np.savetxt('giants.txt',cat['Name'][giants])\n",
    "# np.savetxt('dwarfs.txt',cat['Name'][dwarfs])"
   ]
  },
  {
   "cell_type": "code",
   "execution_count": 62,
   "metadata": {},
   "outputs": [],
   "source": [
    "# # find weird stars in the HR diagram\n",
    "# rc('text', usetex=False)\n",
    "# plt.errorbar(bp[dwarfs]-rp[dwarfs],abs_gg[dwarfs],yerr=errorbars[:,dwarfs],fmt='.',color=colours[2],label=r'Dwarfs',markersize=10)\n",
    "# plt.errorbar(bp[giants]-rp[giants],abs_gg[giants],yerr=errorbars[:,giants],fmt='.',color=colours[1],label=r'Giants',markersize=10)\n",
    "\n",
    "# weird = ['HD_176582', 'HD_179395']\n",
    "# for j,w in enumerate(weird):\n",
    "#     ww = np.where(gaia['Name'] == w)[0]\n",
    "#     plt.errorbar(bp[ww]-rp[ww],abs_gg[ww],yerr=errorbars[:,ww],fmt='.',color=colours[3+j],label=w,markersize=25)\n",
    "\n",
    "# plt.gca().invert_yaxis()\n",
    "# plt.xlabel(r'$Bp-Rp$')\n",
    "# plt.ylabel(r'Absolute $G$')\n",
    "# plt.legend()\n",
    "# plt.savefig('hr_weird.png')"
   ]
  },
  {
   "cell_type": "code",
   "execution_count": 63,
   "metadata": {},
   "outputs": [],
   "source": [
    "test = Table({'Giants':cat['Name'][giants].data.data.astype('S10')})\n",
    "test.write('giants.txt',format='ascii',overwrite=True)\n",
    "\n",
    "test = Table({'dwarfs':cat['Name'][dwarfs].data.data.astype('S10')})\n",
    "test.write('dwarfs.txt',format='ascii',overwrite=True)"
   ]
  },
  {
   "cell_type": "markdown",
   "metadata": {},
   "source": [
    "## Now compare to Hypatia"
   ]
  },
  {
   "cell_type": "code",
   "execution_count": 64,
   "metadata": {},
   "outputs": [],
   "source": [
    "Simbad.reset_votable_fields()\n",
    "Simbad.add_votable_fields('ids')\n",
    "sim = Simbad.query_objects(cat['Name'])\n",
    "ids = sim['IDS']"
   ]
  },
  {
   "cell_type": "code",
   "execution_count": 65,
   "metadata": {},
   "outputs": [],
   "source": [
    "import re\n",
    "hips = []\n",
    "for eyedee in ids:\n",
    "    m = re.search('\\|HIP  (.+?)\\|',str(eyedee))\n",
    "    if m:\n",
    "        found = m.group(1)\n",
    "#     print found\n",
    "    hips.append(found)"
   ]
  },
  {
   "cell_type": "code",
   "execution_count": 66,
   "metadata": {},
   "outputs": [],
   "source": [
    "hinkel = Table.read('../data/hypatia-03082018.csv')"
   ]
  },
  {
   "cell_type": "code",
   "execution_count": 67,
   "metadata": {},
   "outputs": [
    {
     "name": "stdout",
     "output_type": "stream",
     "text": [
      "96459 b'HD 185351'\n",
      "92831 b'HD 175740'\n"
     ]
    }
   ],
   "source": [
    "in_hyp = []\n",
    "for j, hip in enumerate(hips):\n",
    "    if int(hip) in hinkel['f_hip']:\n",
    "        print(hip, sim['MAIN_ID'][j])\n",
    "        in_hyp.append((hip,sim['MAIN_ID'][j]))"
   ]
  },
  {
   "cell_type": "code",
   "execution_count": 68,
   "metadata": {},
   "outputs": [
    {
     "data": {
      "text/plain": [
       "[('96459', b'HD 185351'), ('92831', b'HD 175740')]"
      ]
     },
     "execution_count": 68,
     "metadata": {},
     "output_type": "execute_result"
    }
   ],
   "source": [
    "in_hyp"
   ]
  },
  {
   "cell_type": "code",
   "execution_count": 69,
   "metadata": {},
   "outputs": [],
   "source": [
    "# import altair as alt\n",
    "import pandas as pd"
   ]
  },
  {
   "cell_type": "code",
   "execution_count": null,
   "metadata": {},
   "outputs": [],
   "source": []
  },
  {
   "cell_type": "code",
   "execution_count": 70,
   "metadata": {},
   "outputs": [
    {
     "name": "stderr",
     "output_type": "stream",
     "text": [
      "/anaconda3/lib/python3.7/site-packages/IPython/core/interactiveshell.py:2961: TableReplaceWarning: converted column 'Teff' from integer to float\n",
      "  exec(code_obj, self.user_global_ns, self.user_ns)\n",
      "/anaconda3/lib/python3.7/site-packages/IPython/core/interactiveshell.py:2961: TableReplaceWarning: converted column 'Edge_Dist' from integer to float\n",
      "  exec(code_obj, self.user_global_ns, self.user_ns)\n",
      "/anaconda3/lib/python3.7/site-packages/IPython/core/interactiveshell.py:2961: TableReplaceWarning: converted column 'flame_flags' from integer to float\n",
      "  exec(code_obj, self.user_global_ns, self.user_ns)\n"
     ]
    }
   ],
   "source": [
    "pdg = full_cat.to_pandas()\n",
    "pdg.assign(bprp=pdg.phot_bp_mean_mag - pdg.phot_rp_mean_mag);\n",
    "pdg.insert(len(pdg.columns), 'bprp', pd.Series(pdg.phot_bp_mean_mag - pdg.phot_rp_mean_mag, index=pdg.index))\n",
    "pdg.insert(len(pdg.columns), 'name', pd.Series(sim['MAIN_ID'], index=pdg.index))\n",
    "spec = ['TRES' if sp else 'No  Spectra' for sp in pdg['TRES?']=='TRES']\n",
    "pdg.insert(len(pdg.columns), 'Spectroscopy', pd.Series(spec, index=pdg.index))\n",
    "# pdg.insert(len(pdg.columns), 'SpType', pd.Series(newcat['SpType'], index=pdg.index))\n",
    "\n",
    "# pdkep = kep_data.to_pandas()"
   ]
  },
  {
   "cell_type": "markdown",
   "metadata": {},
   "source": [
    "### The *Kepler* dataset is too big for Altair. But not for Bokeh - let's copy from at demo.ipynb from github.com/megbedell/gaia-kepler.fun"
   ]
  },
  {
   "cell_type": "code",
   "execution_count": 71,
   "metadata": {},
   "outputs": [],
   "source": [
    "from bokeh.plotting import *\n",
    "from bokeh.io import output_notebook\n",
    "from bokeh.models import OpenURL, Circle, HoverTool, PanTool, BoxZoomTool, ResetTool, SaveTool, TapTool, WheelZoomTool\n",
    "from bokeh.util.hex import hexbin\n",
    "from bokeh.transform import linear_cmap, factor_cmap\n",
    "from bokeh.palettes import Spectral6\n",
    "# output_notebook()\n",
    "reset_output()\n",
    "output_file(\"cmd_smear.html\")\n"
   ]
  },
  {
   "cell_type": "code",
   "execution_count": 72,
   "metadata": {},
   "outputs": [],
   "source": [
    "filter1 = (kep_data['phot_g_mean_mag'] <= 18.) & (kep_data['parallax_over_error'] > 25)\n",
    "# filter2 = (kep_data['planet?'] == 'conf') & filter1\n",
    "\n",
    "filter2 = filter1 \n",
    "\n",
    "thin = 4\n",
    "\n",
    "source = ColumnDataSource(\n",
    "    data=dict(\n",
    "        kepid=kep_data[filter2]['kepid'].data.data[::thin],\n",
    "        kepmag=kep_data[filter2]['kepmag'].data.data[::thin],\n",
    "        bp_rp=kep_data[filter2]['bp_rp'].data.data[::thin],\n",
    "        abs_gmag=kep_data[filter2]['abs_gmag'].data.data[::thin],\n",
    "        mass=kep_data[filter2]['mass'].data.data[::thin],\n",
    "        radius=kep_data[filter2]['radius'].data.data[::thin]\n",
    "        )\n",
    "    )\n",
    "\n",
    "source_smear = ColumnDataSource(\n",
    "    data=dict(\n",
    "        name=pdg.name.values,\n",
    "        abs_gmag=pdg.abs_gg.values,\n",
    "        bp_rp=pdg.bprp.values,\n",
    "        spec=pdg.Spectroscopy.values,\n",
    "        sptype=pdg.SpType.values\n",
    "        )\n",
    "    )\n"
   ]
  },
  {
   "cell_type": "code",
   "execution_count": 73,
   "metadata": {},
   "outputs": [],
   "source": [
    "# dict(\n",
    "#         name=pdg.name.values,\n",
    "#         abs_gmag=pdg.abs_gg.values,\n",
    "#         bp_rp=pdg.bprp.values,\n",
    "#         spec=pdg.Spectroscopy.values,\n",
    "#         sptype=pdg.SpType.values\n",
    "#         )"
   ]
  },
  {
   "cell_type": "code",
   "execution_count": 74,
   "metadata": {},
   "outputs": [],
   "source": [
    "# %%time\n",
    "\n",
    "# xrange = (-0.5,4.1)\n",
    "# yrange = (13,-6)\n",
    "\n",
    "# fig = figure(tools=\"wheel_zoom,pan,reset\",x_range=xrange,\n",
    "#         y_range=yrange,title=\"Smear Stars in the Gaia Colour-Magnitude Diagram\")   \n",
    "# kep_render = fig.circle('bp_rp','abs_gmag', source=source, size=4, name='KICs',color='black',alpha=0.2)\n",
    "\n",
    "# smear_render = fig.circle('bp_rp','abs_gmag', source=source_smear, size=10, name='Smear',\n",
    "#                           color=factor_cmap('spec',palette=Spectral6,factors=pdg.Spectroscopy.values),legend='spec')\n",
    "# hover = HoverTool(renderers=[smear_render],\n",
    "#                     tooltips=[\n",
    "#         (\"Name\", \"@name\"),\n",
    "#         (\"Sp. Type\",\"@sptype\"),\n",
    "#         (\"Abs. G mag\",\"@abs_gmag\"),\n",
    "#         (\"Bp-Rp\",\"@bp_rp\")\n",
    "#                             ]\n",
    "#     )\n",
    "# fig.add_tools(hover)\n",
    "# fig.legend.orientation = \"vertical\"\n",
    "# fig.legend.location = \"bottom_left\"\n",
    "\n",
    "# fig.xaxis.axis_label = 'Gaia Bp-Rp (mag)'\n",
    "# fig.yaxis.axis_label = 'Gaia Abs. G Mag'\n",
    "# fig.xaxis.axis_label_text_font_size = '14pt'\n",
    "# fig.xaxis.major_label_text_font_size = '12pt'\n",
    "# fig.yaxis.axis_label_text_font_size = '14pt'   \n",
    "# fig.yaxis.major_label_text_font_size = '12pt' \n",
    "# save(fig)\n",
    "# # show(fig)\n"
   ]
  },
  {
   "cell_type": "code",
   "execution_count": 75,
   "metadata": {},
   "outputs": [],
   "source": [
    "# for j, star in enumerate(pdg.name.values):\n",
    "#     print j, star, pdg.abs_gg.values[j]"
   ]
  },
  {
   "cell_type": "markdown",
   "metadata": {},
   "source": [
    "### Let's see if Hipparcos parallaxes differ from Gaia"
   ]
  },
  {
   "cell_type": "code",
   "execution_count": 76,
   "metadata": {},
   "outputs": [],
   "source": [
    "Simbad.reset_votable_fields()\n",
    "Simbad.add_votable_fields('parallax')\n",
    "sim = Simbad.query_objects(cat['Name'])\n",
    "hip_par = sim['PLX_VALUE']\n"
   ]
  },
  {
   "cell_type": "code",
   "execution_count": 77,
   "metadata": {},
   "outputs": [],
   "source": [
    "from astroquery.esasky import ESASky\n",
    "esasky = ESASky()\n"
   ]
  },
  {
   "cell_type": "code",
   "execution_count": 78,
   "metadata": {},
   "outputs": [],
   "source": [
    "# hippar = []\n",
    "# for j, hip in enumerate(hips):\n",
    "#     print(j, hip)\n",
    "#     dummy = esasky.query_object_catalogs('HIP'+str(hip),catalogs='HIPPARCOS-2')[0]\n",
    "#     hippar.append(dummy['plx'].data.data[0])"
   ]
  },
  {
   "cell_type": "code",
   "execution_count": 79,
   "metadata": {},
   "outputs": [],
   "source": [
    "# parallaxes_hip = np.array(hippar)"
   ]
  },
  {
   "cell_type": "code",
   "execution_count": 80,
   "metadata": {},
   "outputs": [],
   "source": [
    "# plt.plot(gaia['phot_g_mean_mag'],gaia['parallax']/parallaxes_hip,'.',markersize=12,label='Gaia/Hipparcos')\n",
    "# plt.axhline(1.,color=colours[1],label='1')\n",
    "# plt.legend()\n",
    "# plt.xlabel(r'Gaia $G$ mag')\n",
    "# plt.ylabel('Parallax Ratio')\n",
    "# plt.title('Comparison of Gaia and Hipparcos Parallaxes',y=1.01)\n",
    "# plt.savefig('gaiavship.png')"
   ]
  },
  {
   "cell_type": "code",
   "execution_count": 81,
   "metadata": {},
   "outputs": [],
   "source": [
    "# plt.plot(gaia['parallax'],parallaxes_hip,'.')\n",
    "# plt.plot(gaia['parallax'],gaia['parallax'],'-')\n",
    "# plt.xlabel('Gaia (mas)')\n",
    "# plt.ylabel('Hipparcos (mas)')\n",
    "# plt.title('Gaia and Hipparcos Parallaxes')\n",
    "# plt.savefig('hipparcos_comparison.png')"
   ]
  },
  {
   "cell_type": "code",
   "execution_count": 82,
   "metadata": {},
   "outputs": [],
   "source": [
    "# plt.hist(gaia['parallax']/parallaxes_hip,bins=20);\n",
    "# plt.axvline(1,color=colours[2])"
   ]
  },
  {
   "cell_type": "markdown",
   "metadata": {},
   "source": [
    "### Now let's check everything against the Bright_Kep overall bright kepler catalogue"
   ]
  },
  {
   "cell_type": "code",
   "execution_count": 83,
   "metadata": {},
   "outputs": [],
   "source": [
    "# import sys\n",
    "# reload(sys)\n",
    "# sys.setdefaultencoding('utf8')\n",
    "\n",
    "brightkep = Table.read('../data/Bright_Kep_new.csv')\n",
    "# reload(sys)\n"
   ]
  },
  {
   "cell_type": "code",
   "execution_count": 84,
   "metadata": {},
   "outputs": [],
   "source": [
    "brightkep.sort('Name')"
   ]
  },
  {
   "cell_type": "code",
   "execution_count": 85,
   "metadata": {},
   "outputs": [
    {
     "data": {
      "text/html": [
       "<i>Table masked=True length=102</i>\n",
       "<table id=\"table4801890792\" class=\"table-striped table-bordered table-condensed\">\n",
       "<thead><tr><th>Name</th><th>SpType</th><th>[Fe/H]</th><th>theta</th><th>Observed</th><th>Seasons</th><th>Teff</th><th>Log_G</th><th>E(B-V)</th><th>g</th><th>r</th><th>J</th><th>kepmag</th><th>Edge_Dist</th><th>Notes</th><th>Collaborators</th><th>Interferometry?</th><th>TRES?</th><th>RA</th><th>Dec</th><th>source_id</th><th>Kepler_ID</th></tr></thead>\n",
       "<thead><tr><th></th><th></th><th></th><th></th><th></th><th></th><th></th><th></th><th></th><th></th><th></th><th></th><th></th><th></th><th></th><th></th><th></th><th></th><th>deg</th><th>deg</th><th></th><th></th></tr></thead>\n",
       "<thead><tr><th>str10</th><th>object</th><th>float64</th><th>float64</th><th>str29</th><th>int64</th><th>int64</th><th>float64</th><th>float64</th><th>float64</th><th>float64</th><th>float64</th><th>float64</th><th>int64</th><th>str84</th><th>str16</th><th>str3</th><th>str3</th><th>float64</th><th>float64</th><th>int64</th><th>int64</th></tr></thead>\n",
       "<tr><td>14_Cyg</td><td>B9III</td><td>0.08</td><td>0.267</td><td>unobserved</td><td>4</td><td>--</td><td>--</td><td>--</td><td>5.334</td><td>5.394</td><td>5.365</td><td>5.49</td><td>0</td><td>contact binary, interesting ramp at low freq</td><td>--</td><td>--</td><td>--</td><td>294.8603679166666</td><td>42.818272500000006</td><td>2077959092540451456</td><td>7292420</td></tr>\n",
       "<tr><td>BD+36_3564</td><td>K5</td><td>--</td><td>--</td><td>unobserved</td><td>4</td><td>--</td><td>--</td><td>--</td><td>9.944</td><td>8.516</td><td>6.134</td><td>8.128</td><td>141</td><td>RG</td><td>--</td><td>--</td><td>--</td><td>291.8926695833333</td><td>37.117995</td><td>2051728490311183744</td><td>1575741</td></tr>\n",
       "<tr><td>BD+39_3577</td><td>G5</td><td>--</td><td>--</td><td>unobserved</td><td>4</td><td>4870</td><td>2.513</td><td>0.057</td><td>8.819</td><td>8.062</td><td>6.636</td><td>8.131</td><td>217</td><td>RG</td><td>--</td><td>--</td><td>--</td><td>283.83340625</td><td>40.13883361111111</td><td>2103507894472422656</td><td>4989821</td></tr>\n",
       "<tr><td>BD+39_3882</td><td>F5</td><td>--</td><td>--</td><td>unobserved</td><td>4</td><td>6241</td><td>4.186</td><td>0.02</td><td>8.463</td><td>8.192</td><td>7.36</td><td>8.259</td><td>0</td><td>bad light curve</td><td>--</td><td>--</td><td>--</td><td>295.6523554166666</td><td>39.99798972222222</td><td>2076372669064227200</td><td>4850372</td></tr>\n",
       "<tr><td>BD+42_3150</td><td>K0</td><td>--</td><td>--</td><td>unobserved</td><td>4</td><td>4716</td><td>2.329</td><td>0.063</td><td>9.111</td><td>8.257</td><td>6.743</td><td>8.35</td><td>261</td><td>not sure</td><td>--</td><td>--</td><td>--</td><td>281.25263624999997</td><td>42.64371472222222</td><td>2116742544137540608</td><td>7091342</td></tr>\n",
       "<tr><td>BD+42_3367</td><td>M0</td><td>--</td><td>--</td><td>unobserved</td><td>4</td><td>--</td><td>--</td><td>--</td><td>9.468</td><td>7.756</td><td>4.983</td><td>7.271</td><td>269</td><td>RG: low freq</td><td>--</td><td>--</td><td>--</td><td>292.6715879166666</td><td>43.037706388888886</td><td>2125866188548442240</td><td>7447756</td></tr>\n",
       "<tr><td>BD+42_3393</td><td>K5</td><td>--</td><td>--</td><td>unobserved</td><td>4</td><td>--</td><td>--</td><td>--</td><td>9.86</td><td>8.149</td><td>5.362</td><td>7.664</td><td>139</td><td>RG: low freq</td><td>--</td><td>--</td><td>--</td><td>293.95776583333327</td><td>42.36609638888889</td><td>2077747333469959168</td><td>6870455</td></tr>\n",
       "<tr><td>BD+43_3064</td><td>K5</td><td>--</td><td>--</td><td>unobserved</td><td>3</td><td>--</td><td>--</td><td>--</td><td>10.18</td><td>8.692</td><td>6.205</td><td>8.284</td><td>0</td><td>RG</td><td>--</td><td>--</td><td>--</td><td>281.3657666666666</td><td>43.9953375</td><td>2117284053614333312</td><td>8075287</td></tr>\n",
       "<tr><td>BD+43_3068</td><td>G0</td><td>--</td><td>--</td><td>unobserved</td><td>4</td><td>5506</td><td>4.394</td><td>0.011</td><td>8.754</td><td>8.254</td><td>7.181</td><td>8.308</td><td>0</td><td>not good</td><td>--</td><td>--</td><td>--</td><td>281.5739529166666</td><td>43.815664444444444</td><td>2117267079903573504</td><td>8006792</td></tr>\n",
       "<tr><td>...</td><td>...</td><td>...</td><td>...</td><td>...</td><td>...</td><td>...</td><td>...</td><td>...</td><td>...</td><td>...</td><td>...</td><td>...</td><td>...</td><td>...</td><td>...</td><td>...</td><td>...</td><td>...</td><td>...</td><td>...</td><td>...</td></tr>\n",
       "<tr><td>HD_226754</td><td>K2</td><td>--</td><td>--</td><td>unobserved</td><td>2</td><td>--</td><td>--</td><td>--</td><td>9.729</td><td>8.238</td><td>5.627</td><td>7.829</td><td>--</td><td>RG: poor quality</td><td>--</td><td>--</td><td>--</td><td>299.2584070833333</td><td>41.57413722222223</td><td>2075352803312372224</td><td>6234579</td></tr>\n",
       "<tr><td>V2079_Cyg</td><td>B8V</td><td>--</td><td>--</td><td>unobserved, alpha2 Cvn</td><td>4</td><td>--</td><td>--</td><td>--</td><td>6.921</td><td>7.059</td><td>7.331</td><td>7.174</td><td>93</td><td>Classical Pulsator</td><td>--</td><td>--</td><td>--</td><td>291.50506291666665</td><td>45.013086666666666</td><td>2126627978307068672</td><td>8818020</td></tr>\n",
       "<tr><td>V2083_Cyg</td><td>A3</td><td>--</td><td>--</td><td>unobserved EB</td><td>4</td><td>--</td><td>--</td><td>--</td><td>7.143</td><td>6.884</td><td>6.317</td><td>6.902</td><td>0</td><td>EB</td><td>--</td><td>--</td><td>--</td><td>292.81818708333327</td><td>47.48117694444445</td><td>2128480311802353536</td><td>10342012</td></tr>\n",
       "<tr><td>V380_Cyg</td><td>B1.1III+B2.5/3V:</td><td>1.25</td><td>0.226</td><td>LC:Q11 SC:Q7 9 10 12-17 under</td><td>4</td><td>--</td><td>--</td><td>--</td><td>5.615</td><td>5.675</td><td>5.712</td><td>5.771</td><td>122</td><td>Eclipsing_binary</td><td>--</td><td>--</td><td>--</td><td>297.65552791666664</td><td>40.599758055555554</td><td>2073743839843579776</td><td>5385723</td></tr>\n",
       "<tr><td>V398_Lyr</td><td>M3</td><td>--</td><td>--</td><td>unobserved</td><td>4</td><td>--</td><td>--</td><td>--</td><td>8.877</td><td>7.421</td><td>1.869</td><td>7.024</td><td>49</td><td>RG</td><td>--</td><td>--</td><td>--</td><td>287.0549454166666</td><td>39.15487916666667</td><td>2100382189073830528</td><td>4042516</td></tr>\n",
       "<tr><td>V543_Lyr</td><td>B3V</td><td>-0.05</td><td>--</td><td>unobserved bCep</td><td>4</td><td>--</td><td>--</td><td>--</td><td>6.037</td><td>6.182</td><td>6.477</td><td>6.299</td><td>0</td><td>Classical Pulsator</td><td>--</td><td>--</td><td>--</td><td>284.6941154166666</td><td>40.67919</td><td>2103449001881575680</td><td>5429169</td></tr>\n",
       "<tr><td>V546_Lyr</td><td>M3III</td><td>--</td><td>--</td><td>unobserved</td><td>4</td><td>--</td><td>--</td><td>--</td><td>9.457</td><td>7.838</td><td>4.077</td><td>7.385</td><td>82</td><td>RG: low freq</td><td>--</td><td>--</td><td>--</td><td>284.8393516666667</td><td>41.63692277777778</td><td>2104055760501638016</td><td>6267345</td></tr>\n",
       "<tr><td>V547_Lyr</td><td>M4-IIIa</td><td>--</td><td>--</td><td>unobserved</td><td>4</td><td>--</td><td>--</td><td>--</td><td>8.109</td><td>6.611</td><td>2.258</td><td>6.199</td><td>48</td><td>RG: low freq</td><td>--</td><td>--</td><td>--</td><td>285.07942333333335</td><td>40.6839975</td><td>2103815448491466496</td><td>5429948</td></tr>\n",
       "<tr><td>V554_Lyr</td><td></td><td>--</td><td>--</td><td>unobserved</td><td>2</td><td>9887</td><td>4.309</td><td>0.051</td><td>7.97</td><td>8.248</td><td>8.266</td><td>8.179</td><td>0</td><td>Missing - alpha2 Cvn</td><td>--</td><td>--</td><td>--</td><td>288.82186208333326</td><td>40.11369027777778</td><td>2101290316961062400</td><td>5001462</td></tr>\n",
       "<tr><td>V819_Cyg</td><td>B0.5IIIn</td><td>--</td><td>--</td><td>LC:Q14 16 17 under</td><td>4</td><td>--</td><td>--</td><td>--</td><td>6.15</td><td>6.27</td><td>6.481</td><td>6.381</td><td>178</td><td>sharp peaks</td><td>--</td><td>--</td><td>--</td><td>298.2551920833333</td><td>47.807719444444444</td><td>2086460069767734656</td><td>10618721</td></tr>\n",
       "</table>"
      ],
      "text/plain": [
       "<Table masked=True length=102>\n",
       "   Name         SpType       [Fe/H] ...      source_id      Kepler_ID\n",
       "                                    ...                              \n",
       "  str10         object      float64 ...        int64          int64  \n",
       "---------- ---------------- ------- ... ------------------- ---------\n",
       "    14_Cyg            B9III    0.08 ... 2077959092540451456   7292420\n",
       "BD+36_3564               K5      -- ... 2051728490311183744   1575741\n",
       "BD+39_3577               G5      -- ... 2103507894472422656   4989821\n",
       "BD+39_3882               F5      -- ... 2076372669064227200   4850372\n",
       "BD+42_3150               K0      -- ... 2116742544137540608   7091342\n",
       "BD+42_3367               M0      -- ... 2125866188548442240   7447756\n",
       "BD+42_3393               K5      -- ... 2077747333469959168   6870455\n",
       "BD+43_3064               K5      -- ... 2117284053614333312   8075287\n",
       "BD+43_3068               G0      -- ... 2117267079903573504   8006792\n",
       "       ...              ...     ... ...                 ...       ...\n",
       " HD_226754               K2      -- ... 2075352803312372224   6234579\n",
       " V2079_Cyg              B8V      -- ... 2126627978307068672   8818020\n",
       " V2083_Cyg               A3      -- ... 2128480311802353536  10342012\n",
       "  V380_Cyg B1.1III+B2.5/3V:    1.25 ... 2073743839843579776   5385723\n",
       "  V398_Lyr               M3      -- ... 2100382189073830528   4042516\n",
       "  V543_Lyr              B3V   -0.05 ... 2103449001881575680   5429169\n",
       "  V546_Lyr            M3III      -- ... 2104055760501638016   6267345\n",
       "  V547_Lyr          M4-IIIa      -- ... 2103815448491466496   5429948\n",
       "  V554_Lyr                       -- ... 2101290316961062400   5001462\n",
       "  V819_Cyg         B0.5IIIn      -- ... 2086460069767734656  10618721"
      ]
     },
     "execution_count": 85,
     "metadata": {},
     "output_type": "execute_result"
    }
   ],
   "source": [
    "test = join(cat,brightkep,keys='Name')\n",
    "test.sort('Name')\n",
    "test"
   ]
  },
  {
   "cell_type": "code",
   "execution_count": 86,
   "metadata": {},
   "outputs": [
    {
     "data": {
      "text/html": [
       "<i>Table masked=True length=102</i>\n",
       "<table id=\"table4504119728\" class=\"table-striped table-bordered table-condensed\">\n",
       "<thead><tr><th>Name</th><th>SpType</th><th>[Fe/H]</th><th>theta</th><th>Observed</th><th>Seasons</th><th>Teff</th><th>Log_G</th><th>E(B-V)</th><th>g</th><th>r</th><th>J</th><th>kepmag</th><th>Edge_Dist</th><th>Notes</th><th>Collaborators</th><th>Interferometry?</th><th>TRES?</th><th>RA</th><th>Dec</th><th>source_id</th></tr></thead>\n",
       "<thead><tr><th></th><th></th><th></th><th></th><th></th><th></th><th></th><th></th><th></th><th></th><th></th><th></th><th></th><th></th><th></th><th></th><th></th><th></th><th>deg</th><th>deg</th><th></th></tr></thead>\n",
       "<thead><tr><th>str10</th><th>object</th><th>float64</th><th>float64</th><th>str29</th><th>int64</th><th>int64</th><th>float64</th><th>float64</th><th>float64</th><th>float64</th><th>float64</th><th>float64</th><th>int64</th><th>str84</th><th>str16</th><th>str3</th><th>str3</th><th>float64</th><th>float64</th><th>int64</th></tr></thead>\n",
       "<tr><td>HD_185351</td><td>G8.5IIIbFe-0.5</td><td>0.16</td><td>1.156</td><td>LC:Q1-3 SC:Q16 under</td><td>4</td><td>--</td><td>--</td><td>--</td><td>6.091</td><td>5.176</td><td>3.654</td><td>5.034</td><td>59</td><td>RG: Retired A star</td><td>Hjorringgaard</td><td>--</td><td>Yes</td><td>294.1582345833333</td><td>44.69493333333333</td><td>2078403295235690112</td></tr>\n",
       "<tr><td>HD_186155</td><td>F5II-III</td><td>0.3</td><td>0.57</td><td>LC:Q1 under</td><td>4</td><td>--</td><td>--</td><td>--</td><td>5.44</td><td>5.065</td><td>4.419</td><td>5.055</td><td>66</td><td>three sharp peaks</td><td>--</td><td>--</td><td>--</td><td>295.2091004166667</td><td>45.52494083333333</td><td>2079990268465009024</td></tr>\n",
       "<tr><td>HD_175740</td><td>G8III</td><td>-0.1</td><td>1.035</td><td>unobserved</td><td>4</td><td>--</td><td>--</td><td>--</td><td>6.486</td><td>5.462</td><td>4.08</td><td>5.212</td><td>0</td><td>RG: suppressed l=1</td><td>Tim W, Guy, Cleo</td><td>Yes</td><td>Yes</td><td>283.71740624999995</td><td>41.60272027777778</td><td>2104485016711846656</td></tr>\n",
       "<tr><td>HD_184875</td><td>A2V</td><td>--</td><td>0.349</td><td>unobserved</td><td>4</td><td>--</td><td>--</td><td>--</td><td>5.399</td><td>5.337</td><td>5.128</td><td>5.403</td><td>0</td><td>Classical Pulsator</td><td>--</td><td>--</td><td>--</td><td>293.67192416666666</td><td>42.41251083333333</td><td>2077737571001053312</td></tr>\n",
       "<tr><td>14_Cyg</td><td>B9III</td><td>0.08</td><td>0.267</td><td>unobserved</td><td>4</td><td>--</td><td>--</td><td>--</td><td>5.334</td><td>5.394</td><td>5.365</td><td>5.49</td><td>0</td><td>contact binary, interesting ramp at low freq</td><td>--</td><td>--</td><td>--</td><td>294.8603679166666</td><td>42.818272500000006</td><td>2077959092540451456</td></tr>\n",
       "<tr><td>HD_189178</td><td>B5V</td><td>--</td><td>0.236</td><td>unobserved</td><td>4</td><td>--</td><td>--</td><td>--</td><td>5.356</td><td>5.448</td><td>5.595</td><td>5.552</td><td>0</td><td>Classical Pulsator</td><td>--</td><td>--</td><td>--</td><td>299.30778166666664</td><td>40.367825277777776</td><td>2073537612700605696</td></tr>\n",
       "<tr><td>HD_187372</td><td>M1III</td><td>--</td><td>2.693</td><td>unobserved</td><td>4</td><td>--</td><td>--</td><td>--</td><td>7.805</td><td>6.141</td><td>2.979</td><td>5.672</td><td>110</td><td>RG: low freq</td><td>--</td><td>--</td><td>--</td><td>296.86178874999996</td><td>47.90757305555555</td><td>2086614688589352320</td></tr>\n",
       "<tr><td>HD_182694</td><td>G7IIIa</td><td>-0.01</td><td>0.771</td><td>LC:Q2 under</td><td>4</td><td>--</td><td>--</td><td>--</td><td>6.76</td><td>5.86</td><td>4.437</td><td>5.722</td><td>137</td><td>RG</td><td>Tim W</td><td>Yes</td><td>--</td><td>290.9854195833333</td><td>43.38816722222222</td><td>2126062687590513408</td></tr>\n",
       "<tr><td>V380_Cyg</td><td>B1.1III+B2.5/3V:</td><td>1.25</td><td>0.226</td><td>LC:Q11 SC:Q7 9 10 12-17 under</td><td>4</td><td>--</td><td>--</td><td>--</td><td>5.615</td><td>5.675</td><td>5.712</td><td>5.771</td><td>122</td><td>Eclipsing_binary</td><td>--</td><td>--</td><td>--</td><td>297.65552791666664</td><td>40.599758055555554</td><td>2073743839843579776</td></tr>\n",
       "<tr><td>...</td><td>...</td><td>...</td><td>...</td><td>...</td><td>...</td><td>...</td><td>...</td><td>...</td><td>...</td><td>...</td><td>...</td><td>...</td><td>...</td><td>...</td><td>...</td><td>...</td><td>...</td><td>...</td><td>...</td><td>...</td></tr>\n",
       "<tr><td>V554_Lyr</td><td></td><td>--</td><td>--</td><td>unobserved</td><td>2</td><td>9887</td><td>4.309</td><td>0.051</td><td>7.97</td><td>8.248</td><td>8.266</td><td>8.179</td><td>0</td><td>Missing - alpha2 Cvn</td><td>--</td><td>--</td><td>--</td><td>288.82186208333326</td><td>40.11369027777778</td><td>2101290316961062400</td></tr>\n",
       "<tr><td>BD+47_2825</td><td>K0</td><td>--</td><td>--</td><td>unobserved</td><td>4</td><td>--</td><td>--</td><td>--</td><td>9.75</td><td>8.558</td><td>6.503</td><td>8.251</td><td>162</td><td>Not sure - classical?</td><td>--</td><td>--</td><td>--</td><td>291.0817929166666</td><td>47.41309805555555</td><td>2129162799284981760</td></tr>\n",
       "<tr><td>BD+39_3882</td><td>F5</td><td>--</td><td>--</td><td>unobserved</td><td>4</td><td>6241</td><td>4.186</td><td>0.02</td><td>8.463</td><td>8.192</td><td>7.36</td><td>8.259</td><td>0</td><td>bad light curve</td><td>--</td><td>--</td><td>--</td><td>295.6523554166666</td><td>39.99798972222222</td><td>2076372669064227200</td></tr>\n",
       "<tr><td>BD+43_3064</td><td>K5</td><td>--</td><td>--</td><td>unobserved</td><td>3</td><td>--</td><td>--</td><td>--</td><td>10.18</td><td>8.692</td><td>6.205</td><td>8.284</td><td>0</td><td>RG</td><td>--</td><td>--</td><td>--</td><td>281.3657666666666</td><td>43.9953375</td><td>2117284053614333312</td></tr>\n",
       "<tr><td>BD+43_3068</td><td>G0</td><td>--</td><td>--</td><td>unobserved</td><td>4</td><td>5506</td><td>4.394</td><td>0.011</td><td>8.754</td><td>8.254</td><td>7.181</td><td>8.308</td><td>0</td><td>not good</td><td>--</td><td>--</td><td>--</td><td>281.5739529166666</td><td>43.815664444444444</td><td>2117267079903573504</td></tr>\n",
       "<tr><td>BD+43_3213</td><td>K5</td><td>--</td><td>--</td><td>unobserved</td><td>4</td><td>--</td><td>--</td><td>--</td><td>10.425</td><td>8.775</td><td>5.821</td><td>8.311</td><td>127</td><td>RG: low freq</td><td>--</td><td>--</td><td>--</td><td>289.8925483333333</td><td>43.48016972222222</td><td>2102821524341578496</td></tr>\n",
       "<tr><td>BD+42_3150</td><td>K0</td><td>--</td><td>--</td><td>unobserved</td><td>4</td><td>4716</td><td>2.329</td><td>0.063</td><td>9.111</td><td>8.257</td><td>6.743</td><td>8.35</td><td>261</td><td>not sure</td><td>--</td><td>--</td><td>--</td><td>281.25263624999997</td><td>42.64371472222222</td><td>2116742544137540608</td></tr>\n",
       "<tr><td>BD+43_3171</td><td>M0</td><td>--</td><td>--</td><td>unobserved</td><td>4</td><td>--</td><td>--</td><td>--</td><td>10.412</td><td>8.818</td><td>5.904</td><td>8.373</td><td>332</td><td>RG: very low freq?</td><td>--</td><td>--</td><td>--</td><td>287.45698958333327</td><td>43.552323055555554</td><td>2105998150870718080</td></tr>\n",
       "<tr><td>BD+48_2904</td><td>K0</td><td>--</td><td>--</td><td>unobserved</td><td>4</td><td>4529</td><td>2.014</td><td>0.083</td><td>9.364</td><td>8.42</td><td>6.692</td><td>8.487</td><td>0</td><td>nothing</td><td>--</td><td>--</td><td>--</td><td>292.57224833333333</td><td>48.65654388888889</td><td>2129676443013218304</td></tr>\n",
       "<tr><td>BD+47_2891</td><td>K0</td><td>--</td><td>--</td><td>unobserved</td><td>2</td><td>--</td><td>--</td><td>--</td><td>10.081</td><td>8.962</td><td>6.99</td><td>8.68</td><td>--</td><td>nothing</td><td>--</td><td>--</td><td>--</td><td>294.8728645833333</td><td>47.44689833333333</td><td>2128576003674178688</td></tr>\n",
       "</table>"
      ],
      "text/plain": [
       "<Table masked=True length=102>\n",
       "   Name         SpType       [Fe/H] ...        Dec              source_id     \n",
       "                                    ...        deg                            \n",
       "  str10         object      float64 ...      float64              int64       \n",
       "---------- ---------------- ------- ... ------------------ -------------------\n",
       " HD_185351   G8.5IIIbFe-0.5    0.16 ...  44.69493333333333 2078403295235690112\n",
       " HD_186155         F5II-III     0.3 ...  45.52494083333333 2079990268465009024\n",
       " HD_175740            G8III    -0.1 ...  41.60272027777778 2104485016711846656\n",
       " HD_184875              A2V      -- ...  42.41251083333333 2077737571001053312\n",
       "    14_Cyg            B9III    0.08 ... 42.818272500000006 2077959092540451456\n",
       " HD_189178              B5V      -- ... 40.367825277777776 2073537612700605696\n",
       " HD_187372            M1III      -- ...  47.90757305555555 2086614688589352320\n",
       " HD_182694           G7IIIa   -0.01 ...  43.38816722222222 2126062687590513408\n",
       "  V380_Cyg B1.1III+B2.5/3V:    1.25 ... 40.599758055555554 2073743839843579776\n",
       "       ...              ...     ... ...                ...                 ...\n",
       "  V554_Lyr                       -- ...  40.11369027777778 2101290316961062400\n",
       "BD+47_2825               K0      -- ...  47.41309805555555 2129162799284981760\n",
       "BD+39_3882               F5      -- ...  39.99798972222222 2076372669064227200\n",
       "BD+43_3064               K5      -- ...         43.9953375 2117284053614333312\n",
       "BD+43_3068               G0      -- ... 43.815664444444444 2117267079903573504\n",
       "BD+43_3213               K5      -- ...  43.48016972222222 2102821524341578496\n",
       "BD+42_3150               K0      -- ...  42.64371472222222 2116742544137540608\n",
       "BD+43_3171               M0      -- ... 43.552323055555554 2105998150870718080\n",
       "BD+48_2904               K0      -- ...  48.65654388888889 2129676443013218304\n",
       "BD+47_2891               K0      -- ...  47.44689833333333 2128576003674178688"
      ]
     },
     "execution_count": 86,
     "metadata": {},
     "output_type": "execute_result"
    }
   ],
   "source": [
    "cat"
   ]
  },
  {
   "cell_type": "code",
   "execution_count": 87,
   "metadata": {},
   "outputs": [
    {
     "name": "stderr",
     "output_type": "stream",
     "text": [
      "/anaconda3/lib/python3.7/site-packages/IPython/core/interactiveshell.py:2961: TableReplaceWarning: converted column 'Teff' from integer to float\n",
      "  exec(code_obj, self.user_global_ns, self.user_ns)\n",
      "/anaconda3/lib/python3.7/site-packages/IPython/core/interactiveshell.py:2961: TableReplaceWarning: converted column 'Edge_Dist' from integer to float\n",
      "  exec(code_obj, self.user_global_ns, self.user_ns)\n"
     ]
    }
   ],
   "source": [
    "pdcat, pdbr = cat.to_pandas(), brightkep.to_pandas()"
   ]
  },
  {
   "cell_type": "code",
   "execution_count": 88,
   "metadata": {},
   "outputs": [],
   "source": [
    "# pdcat.join(pdbr,on='Name')"
   ]
  },
  {
   "cell_type": "markdown",
   "metadata": {},
   "source": [
    "### find missing files"
   ]
  },
  {
   "cell_type": "code",
   "execution_count": 89,
   "metadata": {},
   "outputs": [],
   "source": [
    "import glob\n",
    "filenames = (glob.glob(\"../data/lcs/*.csv\"))\n"
   ]
  },
  {
   "cell_type": "code",
   "execution_count": 90,
   "metadata": {},
   "outputs": [
    {
     "name": "stdout",
     "output_type": "stream",
     "text": [
      "['../data/lcs/V543_Lyr_smear_combined.csv']\n"
     ]
    }
   ],
   "source": [
    "test = glob.glob(\"../data/lcs/V543_Lyr_smear_combined.csv\")\n",
    "print(test)"
   ]
  },
  {
   "cell_type": "code",
   "execution_count": 91,
   "metadata": {},
   "outputs": [],
   "source": [
    "for name in cat['Name']:\n",
    "    test = glob.glob(\"../data/lcs/%s_smear_combined.csv\" % name)\n",
    "#     print(name, test)"
   ]
  },
  {
   "cell_type": "code",
   "execution_count": 92,
   "metadata": {},
   "outputs": [],
   "source": [
    "# brightkep['Kepler_ID'].pprint(max_lines=230)"
   ]
  },
  {
   "cell_type": "code",
   "execution_count": 93,
   "metadata": {},
   "outputs": [
    {
     "name": "stdout",
     "output_type": "stream",
     "text": [
      "0\n"
     ]
    }
   ],
   "source": [
    "names_in = []\n",
    "for name in cat['Name']:\n",
    "    if name not in brightkep['Name']:\n",
    "        print(name)\n",
    "        names_in.append(name)\n",
    "        \n",
    "print(len(names_in))"
   ]
  },
  {
   "cell_type": "code",
   "execution_count": 94,
   "metadata": {},
   "outputs": [],
   "source": [
    "# brightkep['Name'].pprint(max_lines=230)"
   ]
  },
  {
   "cell_type": "markdown",
   "metadata": {},
   "source": [
    "###  Load stellar variability classes"
   ]
  },
  {
   "cell_type": "code",
   "execution_count": 95,
   "metadata": {},
   "outputs": [],
   "source": [
    "var = Table.read('../data/variability.csv')"
   ]
  },
  {
   "cell_type": "code",
   "execution_count": 96,
   "metadata": {},
   "outputs": [],
   "source": [
    "for name in cat['Name']:\n",
    "    if name not in var['Name']:\n",
    "        print(name)"
   ]
  },
  {
   "cell_type": "code",
   "execution_count": 97,
   "metadata": {},
   "outputs": [
    {
     "data": {
      "text/html": [
       "<i>Table masked=True length=1</i>\n",
       "<table id=\"table5033523464\" class=\"table-striped table-bordered table-condensed\">\n",
       "<thead><tr><th>Name</th><th>SpType</th><th>[Fe/H]</th><th>theta</th><th>Observed</th><th>Seasons</th><th>Teff</th><th>Log_G</th><th>E(B-V)</th><th>g</th><th>r</th><th>J</th><th>kepmag</th><th>Edge_Dist</th><th>Notes</th><th>Collaborators</th><th>Interferometry?</th><th>TRES?</th><th>RA</th><th>Dec</th><th>source_id</th><th>Kepler_ID</th><th>Class</th><th>r_est</th><th>r_lo</th><th>r_hi</th><th>input_position</th><th>distance</th><th>designation</th><th>ra</th><th>dec</th><th>l</th><th>b</th><th>ecl_lon</th><th>ecl_lat</th><th>parallax</th><th>pmra</th><th>pmdec</th><th>phot_g_mean_mag</th><th>phot_bp_mean_mag</th><th>phot_rp_mean_mag</th><th>ra_error</th><th>dec_error</th><th>parallax_error</th><th>pmra_error</th><th>pmdec_error</th><th>a_g_percentile_lower</th><th>a_g_percentile_upper</th><th>a_g_val</th><th>astrometric_chi2_al</th><th>astrometric_excess_noise</th><th>astrometric_excess_noise_sig</th><th>astrometric_gof_al</th><th>astrometric_matched_observations</th><th>astrometric_n_bad_obs_al</th><th>astrometric_n_good_obs_al</th><th>astrometric_n_obs_ac</th><th>astrometric_n_obs_al</th><th>astrometric_params_solved</th><th>astrometric_primary_flag</th><th>astrometric_pseudo_colour</th><th>astrometric_pseudo_colour_error</th><th>astrometric_sigma5d_max</th><th>astrometric_weight_al</th><th>bp_g</th><th>bp_rp</th><th>dec_parallax_corr</th><th>dec_pmdec_corr</th><th>dec_pmra_corr</th><th>duplicated_source</th><th>e_bp_min_rp_percentile_lower</th><th>e_bp_min_rp_percentile_upper</th><th>e_bp_min_rp_val</th><th>flame_flags</th><th>frame_rotator_object_type</th><th>g_rp</th><th>lum_percentile_lower</th><th>lum_percentile_upper</th><th>lum_val</th><th>matched_observations</th><th>mean_varpi_factor_al</th><th>parallax_over_error</th><th>parallax_pmdec_corr</th><th>parallax_pmra_corr</th><th>phot_bp_mean_flux</th><th>phot_bp_mean_flux_error</th><th>phot_bp_mean_flux_over_error</th><th>phot_bp_n_obs</th><th>phot_bp_rp_excess_factor</th><th>phot_g_mean_flux</th><th>phot_g_mean_flux_error</th><th>phot_g_mean_flux_over_error</th><th>phot_g_n_obs</th><th>phot_proc_mode</th><th>phot_rp_mean_flux</th><th>phot_rp_mean_flux_error</th><th>phot_rp_mean_flux_over_error</th><th>phot_rp_n_obs</th><th>phot_variable_flag</th><th>pmra_pmdec_corr</th><th>priam_flags</th><th>ra_dec_corr</th><th>radial_velocity</th><th>radial_velocity_error</th><th>radius_percentile_lower</th><th>radius_percentile_upper</th><th>radius_val</th><th>random_index</th><th>ra_parallax_corr</th><th>ra_pmdec_corr</th><th>ra_pmra_corr</th><th>ref_epoch</th><th>rv_nb_transits</th><th>rv_template_fe_h</th><th>rv_template_logg</th><th>rv_template_teff</th><th>solution_id</th><th>teff_percentile_lower</th><th>teff_percentile_upper</th><th>teff_val</th><th>visibility_periods_used</th><th>other_ids</th><th>abs_gg</th></tr></thead>\n",
       "<thead><tr><th></th><th></th><th></th><th></th><th></th><th></th><th></th><th></th><th></th><th></th><th></th><th></th><th></th><th></th><th></th><th></th><th></th><th></th><th>deg</th><th>deg</th><th></th><th></th><th></th><th></th><th></th><th></th><th></th><th></th><th></th><th></th><th></th><th></th><th></th><th></th><th></th><th></th><th></th><th></th><th></th><th></th><th></th><th></th><th></th><th></th><th></th><th></th><th></th><th></th><th></th><th></th><th></th><th></th><th></th><th></th><th></th><th></th><th></th><th></th><th></th><th></th><th></th><th></th><th></th><th></th><th></th><th></th><th></th><th></th><th></th><th></th><th></th><th></th><th></th><th></th><th></th><th></th><th></th><th></th><th></th><th></th><th></th><th></th><th></th><th></th><th></th><th></th><th></th><th></th><th></th><th></th><th></th><th></th><th></th><th></th><th></th><th></th><th></th><th></th><th></th><th></th><th></th><th></th><th></th><th></th><th></th><th></th><th></th><th></th><th></th><th></th><th></th><th></th><th></th><th></th><th></th><th></th><th></th><th></th><th></th><th></th><th></th><th></th><th></th></tr></thead>\n",
       "<thead><tr><th>str10</th><th>object</th><th>float64</th><th>float64</th><th>str29</th><th>int64</th><th>int64</th><th>float64</th><th>float64</th><th>float64</th><th>float64</th><th>float64</th><th>float64</th><th>int64</th><th>str84</th><th>str16</th><th>str3</th><th>str4</th><th>float64</th><th>float64</th><th>int64</th><th>int64</th><th>str16</th><th>float64</th><th>float64</th><th>float64</th><th>str37</th><th>float64</th><th>str28</th><th>float64</th><th>float64</th><th>float64</th><th>float64</th><th>float64</th><th>float64</th><th>float64</th><th>float64</th><th>float64</th><th>float64</th><th>float64</th><th>float64</th><th>float64</th><th>float64</th><th>float64</th><th>float64</th><th>float64</th><th>float64</th><th>float64</th><th>float64</th><th>float64</th><th>float64</th><th>float64</th><th>float64</th><th>int64</th><th>int64</th><th>int64</th><th>int64</th><th>int64</th><th>int64</th><th>str5</th><th>float64</th><th>float64</th><th>float64</th><th>float64</th><th>float64</th><th>float64</th><th>float64</th><th>float64</th><th>float64</th><th>str5</th><th>float64</th><th>float64</th><th>float64</th><th>int64</th><th>int64</th><th>float64</th><th>float64</th><th>float64</th><th>float64</th><th>int64</th><th>float64</th><th>float64</th><th>float64</th><th>float64</th><th>float64</th><th>float64</th><th>float64</th><th>int64</th><th>float64</th><th>float64</th><th>float64</th><th>float64</th><th>int64</th><th>int64</th><th>float64</th><th>float64</th><th>float64</th><th>int64</th><th>str13</th><th>float64</th><th>int64</th><th>float64</th><th>float64</th><th>float64</th><th>float64</th><th>float64</th><th>float64</th><th>int64</th><th>float64</th><th>float64</th><th>float64</th><th>float64</th><th>int64</th><th>float64</th><th>float64</th><th>float64</th><th>int64</th><th>float64</th><th>float64</th><th>float64</th><th>int64</th><th>str28</th><th>float64</th></tr></thead>\n",
       "<tr><td>BD+42_3150</td><td>K0</td><td>--</td><td>--</td><td>unobserved</td><td>4</td><td>4716</td><td>2.329</td><td>0.063</td><td>9.111</td><td>8.257</td><td>6.743</td><td>8.35</td><td>261</td><td>not sure</td><td>--</td><td>--</td><td>TRES</td><td>281.25263624999997</td><td>42.64371472222222</td><td>2116742544137540608</td><td>7091342</td><td>?</td><td>545.954282342101</td><td>516.819773786676</td><td>578.502581535217</td><td>281.25263624999997,42.64371472222222</td><td>8.422397243124703e-05</td><td>Gaia DR2 2116742544137540608</td><td>281.25257984212334</td><td>42.6436414279837</td><td>71.84130240050959</td><td>19.102430329936123</td><td>290.0903001407802</td><td>65.30002991136283</td><td>1.810260879101584</td><td>-9.667233324697618</td><td>-17.085871041024053</td><td>8.31532</td><td>8.867191</td><td>7.661614</td><td>0.0833965852206171</td><td>0.10336306252142802</td><td>0.10063208011223501</td><td>0.18946577372381954</td><td>0.1940092928840191</td><td>0.0225</td><td>1.8848</td><td>0.165</td><td>5994.6147</td><td>0.5149878123912578</td><td>94.90074661272668</td><td>63.239307</td><td>28</td><td>4</td><td>240</td><td>244</td><td>244</td><td>31</td><td>true</td><td>1.5165633481068224</td><td>0.02642615826869086</td><td>0.11096369</td><td>3.1026225</td><td>0.5518713</td><td>1.205577</td><td>0.17403364</td><td>-0.33679068</td><td>-0.18953183</td><td>false</td><td>0.026</td><td>0.9351</td><td>0.1157</td><td>200111</td><td>0</td><td>0.6537061</td><td>114.53185</td><td>130.9376</td><td>122.73473</td><td>33</td><td>0.13006999</td><td>17.988905</td><td>-0.18029507</td><td>-0.16254573</td><td>3923546.092826491</td><td>6396.341727823126</td><td>613.4047</td><td>29</td><td>1.2188874</td><td>8896477.985866254</td><td>3094.941002539606</td><td>2874.5227</td><td>257</td><td>0</td><td>6920259.0783988</td><td>7506.75476036433</td><td>921.871</td><td>29</td><td>NOT_AVAILABLE</td><td>0.124484755</td><td>100001</td><td>0.063017644</td><td>-26.962163043399457</td><td>0.17351779268387674</td><td>14.9349985</td><td>16.217289</td><td>15.697556</td><td>1183936551</td><td>-0.17725399</td><td>-0.10594467</td><td>0.0010346259</td><td>2015.5</td><td>9</td><td>0.0</td><td>4.5</td><td>4750.0</td><td>1635721458409799680</td><td>4770.6665</td><td>4971.25</td><td>4849.0</td><td>16</td><td>Gaia DR1 2116742539837981568</td><td>-0.37046138423940356</td></tr>\n",
       "</table>"
      ],
      "text/plain": [
       "<Table masked=True length=1>\n",
       "   Name    SpType  [Fe/H] ...          other_ids                  abs_gg       \n",
       "                          ...                                                  \n",
       "  str10    object float64 ...            str28                   float64       \n",
       "---------- ------ ------- ... ---------------------------- --------------------\n",
       "BD+42_3150     K0      -- ... Gaia DR1 2116742539837981568 -0.37046138423940356"
      ]
     },
     "execution_count": 97,
     "metadata": {},
     "output_type": "execute_result"
    }
   ],
   "source": [
    "newcat[newcat['Name']=='BD+42_3150']"
   ]
  },
  {
   "cell_type": "code",
   "execution_count": null,
   "metadata": {},
   "outputs": [],
   "source": []
  },
  {
   "cell_type": "markdown",
   "metadata": {},
   "source": [
    "## Apogee"
   ]
  },
  {
   "cell_type": "code",
   "execution_count": 98,
   "metadata": {},
   "outputs": [],
   "source": [
    "fname_apogee = '../data/Pope_APOGEEDR14.fits'\n",
    "apogee = Table.read(fname_apogee)"
   ]
  },
  {
   "cell_type": "code",
   "execution_count": 99,
   "metadata": {},
   "outputs": [],
   "source": [
    "for j, name in enumerate(apogee['Name']):\n",
    "    apogee['Name'][j] = name.replace(' ','')\n",
    "apogee['Object']=apogee['Name']\n"
   ]
  },
  {
   "cell_type": "code",
   "execution_count": 100,
   "metadata": {},
   "outputs": [
    {
     "data": {
      "text/html": [
       "&lt;Column name=&apos;Object&apos; dtype=&apos;str10&apos; length=9&gt;\n",
       "<table>\n",
       "<tr><td>BD+42_3150</td></tr>\n",
       "<tr><td>BD+48_2904</td></tr>\n",
       "<tr><td>HD_175884</td></tr>\n",
       "<tr><td>HD_180312</td></tr>\n",
       "<tr><td>HD_180475</td></tr>\n",
       "<tr><td>HD_181069</td></tr>\n",
       "<tr><td>HD_182354</td></tr>\n",
       "<tr><td>HD_182531</td></tr>\n",
       "<tr><td>HD_226754</td></tr>\n",
       "</table>"
      ],
      "text/plain": [
       "<Column name='Object' dtype='str10' length=9>\n",
       "BD+42_3150\n",
       "BD+48_2904\n",
       " HD_175884\n",
       " HD_180312\n",
       " HD_180475\n",
       " HD_181069\n",
       " HD_182354\n",
       " HD_182531\n",
       " HD_226754"
      ]
     },
     "execution_count": 100,
     "metadata": {},
     "output_type": "execute_result"
    }
   ],
   "source": [
    "apogee_seismic = join(apogee,astero_logg,keys='Object')\n",
    "apogee_seismic['Object']"
   ]
  },
  {
   "cell_type": "code",
   "execution_count": 101,
   "metadata": {},
   "outputs": [],
   "source": [
    "apogee_var = join(apogee,var,keys='Name')"
   ]
  },
  {
   "cell_type": "code",
   "execution_count": 102,
   "metadata": {},
   "outputs": [
    {
     "data": {
      "text/html": [
       "<i>Table length=23</i>\n",
       "<table id=\"table4801268256\" class=\"table-striped table-bordered table-condensed\">\n",
       "<thead><tr><th>Name</th><th>Class</th></tr></thead>\n",
       "<thead><tr><th>str10</th><th>str16</th></tr></thead>\n",
       "<tr><td>BD+42_3150</td><td>?</td></tr>\n",
       "<tr><td>BD+42_3367</td><td>LPV</td></tr>\n",
       "<tr><td>BD+43_3068</td><td>-</td></tr>\n",
       "<tr><td>BD+48_2904</td><td>RG</td></tr>\n",
       "<tr><td>HD_175466</td><td>LPV</td></tr>\n",
       "<tr><td>HD_175841</td><td>GD/DS Hybrid</td></tr>\n",
       "<tr><td>HD_175884</td><td>RG</td></tr>\n",
       "<tr><td>HD_178090</td><td>LPV</td></tr>\n",
       "<tr><td>HD_179395</td><td>a2cvn</td></tr>\n",
       "<tr><td>HD_180312</td><td>RG</td></tr>\n",
       "<tr><td>...</td><td>...</td></tr>\n",
       "<tr><td>HD_181778</td><td>RG</td></tr>\n",
       "<tr><td>HD_182354</td><td>RG</td></tr>\n",
       "<tr><td>HD_182531</td><td>RG</td></tr>\n",
       "<tr><td>HD_183203</td><td>LPV</td></tr>\n",
       "<tr><td>HD_184147</td><td>?</td></tr>\n",
       "<tr><td>HD_184787</td><td>Hump &amp; Spike</td></tr>\n",
       "<tr><td>HD_184788</td><td>RM</td></tr>\n",
       "<tr><td>HD_184875</td><td>GD</td></tr>\n",
       "<tr><td>HD_185117</td><td>LPV</td></tr>\n",
       "<tr><td>HD_226754</td><td>RG</td></tr>\n",
       "</table>"
      ],
      "text/plain": [
       "<Table length=23>\n",
       "   Name       Class    \n",
       "  str10       str16    \n",
       "---------- ------------\n",
       "BD+42_3150            ?\n",
       "BD+42_3367          LPV\n",
       "BD+43_3068            -\n",
       "BD+48_2904           RG\n",
       " HD_175466          LPV\n",
       " HD_175841 GD/DS Hybrid\n",
       " HD_175884           RG\n",
       " HD_178090          LPV\n",
       " HD_179395        a2cvn\n",
       " HD_180312           RG\n",
       "       ...          ...\n",
       " HD_181778           RG\n",
       " HD_182354           RG\n",
       " HD_182531           RG\n",
       " HD_183203          LPV\n",
       " HD_184147            ?\n",
       " HD_184787 Hump & Spike\n",
       " HD_184788           RM\n",
       " HD_184875           GD\n",
       " HD_185117          LPV\n",
       " HD_226754           RG"
      ]
     },
     "execution_count": 102,
     "metadata": {},
     "output_type": "execute_result"
    }
   ],
   "source": [
    "apogee_var['Name','Class']"
   ]
  },
  {
   "cell_type": "markdown",
   "metadata": {},
   "source": [
    "### Make a Venn diagram\n"
   ]
  },
  {
   "cell_type": "code",
   "execution_count": 103,
   "metadata": {},
   "outputs": [
    {
     "ename": "ModuleNotFoundError",
     "evalue": "No module named 'matplotlib_venn'",
     "output_type": "error",
     "traceback": [
      "\u001b[0;31m---------------------------------------------------------------------------\u001b[0m",
      "\u001b[0;31mModuleNotFoundError\u001b[0m                       Traceback (most recent call last)",
      "\u001b[0;32m<ipython-input-103-9fc0bdcf8430>\u001b[0m in \u001b[0;36m<module>\u001b[0;34m()\u001b[0m\n\u001b[0;32m----> 1\u001b[0;31m \u001b[0;32mfrom\u001b[0m \u001b[0mmatplotlib_venn\u001b[0m \u001b[0;32mimport\u001b[0m \u001b[0mvenn2\u001b[0m\u001b[0;34m,\u001b[0m \u001b[0mvenn3\u001b[0m\u001b[0;34m,\u001b[0m \u001b[0mvenn3_circles\u001b[0m\u001b[0;34m\u001b[0m\u001b[0m\n\u001b[0m",
      "\u001b[0;31mModuleNotFoundError\u001b[0m: No module named 'matplotlib_venn'"
     ]
    }
   ],
   "source": [
    "from matplotlib_venn import venn2, venn3, venn3_circles\n"
   ]
  },
  {
   "cell_type": "code",
   "execution_count": null,
   "metadata": {},
   "outputs": [],
   "source": [
    "seismic_names = set(seismic['Star_ID'])\n",
    "# seismic_names.remove('HD_189636')\n",
    "# seismic_names.add('HD_189636A') # typo star make A\n",
    "spec_names = set(spc_data['Object'][spc_data['Object']!='HD_176466']) # typo star remove\n",
    "all_names = set(newcat['Name'])\n",
    "# giants_names = set(cat['Name'][giants].data.data.astype('S10'))\n",
    "# dwarf_names = set(cat['Name'][dwarfs].data.data.astype('S10'))"
   ]
  },
  {
   "cell_type": "code",
   "execution_count": null,
   "metadata": {},
   "outputs": [],
   "source": [
    "def label_by_id(label, ID):\n",
    "    num = v.get_label_by_id(ID).get_text() \n",
    "    v.get_label_by_id(ID).set_text(label+\"\\n\"+num)\n",
    "\n",
    "\n",
    "labels = ('Asteroseismology','Spectroscopy','All Stars')\n"
   ]
  },
  {
   "cell_type": "code",
   "execution_count": null,
   "metadata": {},
   "outputs": [],
   "source": [
    "v = venn3([seismic_names,spec_names,all_names],set_labels=labels,alpha=0.2)\n",
    "lbl = v.get_label_by_id('001')\n",
    "x, y = lbl.get_position()\n",
    "lbl.set_position((x, y-0.1))  # Or whatever\n",
    "lbl = v.get_label_by_id('111')\n",
    "x, y = lbl.get_position()\n",
    "lbl.set_position((x-0.3, y))  # Or whatever\n",
    "\n",
    "\n",
    "venn3_circles([seismic_names,spec_names,all_names],linewidth=0.5);\n",
    "plt.savefig('../paper/venn.png',bbox_inches='tight')"
   ]
  },
  {
   "cell_type": "code",
   "execution_count": null,
   "metadata": {},
   "outputs": [],
   "source": [
    "for name in spec_names:\n",
    "    if name not in all_names:\n",
    "        print('Spectroscopy:',name,'not in main catalogue')\n",
    "\n",
    "for name in seismic_names:\n",
    "    if name not in all_names:\n",
    "        print('Asteroseismology:',name,'not in main catalogue')\n",
    "        \n",
    "for name in seismic_names:\n",
    "    if name not in spec_names:\n",
    "        print('Asteroseismic data available for',name,'but not spectroscopy')\n",
    "        \n",
    "for name in diff['Object']:\n",
    "    if name not in seismic_names:\n",
    "#         print 'Abundances data available for',name,'but not asteroseismology'\n",
    "        print(name)\n"
   ]
  },
  {
   "cell_type": "code",
   "execution_count": null,
   "metadata": {},
   "outputs": [],
   "source": [
    "seismic[seismic['Star_ID']=='HD_189636']"
   ]
  },
  {
   "cell_type": "code",
   "execution_count": null,
   "metadata": {},
   "outputs": [],
   "source": [
    "spc_data['SNRe'].mean()"
   ]
  },
  {
   "cell_type": "code",
   "execution_count": null,
   "metadata": {},
   "outputs": [],
   "source": []
  }
 ],
 "metadata": {
  "kernelspec": {
   "display_name": "Python 3",
   "language": "python",
   "name": "python3"
  },
  "language_info": {
   "codemirror_mode": {
    "name": "ipython",
    "version": 3
   },
   "file_extension": ".py",
   "mimetype": "text/x-python",
   "name": "python",
   "nbconvert_exporter": "python",
   "pygments_lexer": "ipython3",
   "version": "3.7.0"
  }
 },
 "nbformat": 4,
 "nbformat_minor": 2
}
