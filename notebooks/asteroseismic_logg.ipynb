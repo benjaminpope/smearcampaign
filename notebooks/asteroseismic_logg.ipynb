{
 "cells": [
  {
   "cell_type": "code",
   "execution_count": 1,
   "metadata": {
    "collapsed": true
   },
   "outputs": [],
   "source": [
    "import numpy as np\n",
    "import matplotlib.pyplot as plt\n",
    "from astropy.table import Table, join\n",
    "\n",
    "from astropy.io import ascii\n",
    "import glob, re\n",
    "\n",
    "% matplotlib inline\n",
    "\n",
    "import matplotlib as mpl\n",
    "mpl.style.use('seaborn-colorblind')\n",
    "\n",
    "#To make sure we have always the same matplotlib settings\n",
    "#(the ones in comments are the ipython notebook settings)\n",
    "\n",
    "mpl.rcParams['figure.figsize']=(8.0,6.0)    #(6.0,4.0)\n",
    "mpl.rcParams['font.size']=18               #10 \n",
    "mpl.rcParams['savefig.dpi']= 200             #72 \n",
    "mpl.rcParams['axes.labelsize'] = 16\n",
    "mpl.rcParams['axes.labelsize'] = 16\n",
    "mpl.rcParams['xtick.labelsize'] = 12\n",
    "mpl.rcParams['ytick.labelsize'] = 12\n"
   ]
  },
  {
   "cell_type": "code",
   "execution_count": 2,
   "metadata": {
    "collapsed": false
   },
   "outputs": [],
   "source": [
    "fname_spc = '../data/spc_giants.csv' # original\n",
    "fname_spc = '../data/smear_spc_new.txt' # updated \n",
    "fname_spc = '../data/SMEAR_SPC_first_iteration.txt' # new targets\n",
    "fname_spc = '../data/smear_spc_2.txt' # new targets \n",
    "fname_spc = '../data/SMEAR_reiterated.txt'\n",
    "\n",
    "fname_guy = '../data/smear_Dnu.csv' "
   ]
  },
  {
   "cell_type": "code",
   "execution_count": 3,
   "metadata": {
    "collapsed": false
   },
   "outputs": [
    {
     "name": "stdout",
     "output_type": "stream",
     "text": [
      "['Object', 'Dnu', 'Dnu_err', 'Numax', 'Numax_err', 'eps', 'eps_err']\n",
      "['Object', 'BJD_TDB', 'RV', 'RVerr', 'Teff', 'Teff_err', 'logg', 'logg_err', 'monh', 'monh_err', 'vsini', 'vsini_err', 'CCF', 'SNRe', 'n_aps', 'exptime', 'spectro', 'res', 'method']\n"
     ]
    }
   ],
   "source": [
    "spc_data = Table.read(fname_spc,format='ascii')\n",
    "\n",
    "guy_data = Table.read(fname_guy,format='ascii')\n",
    "guy_data.rename_column('Star_ID','Object')\n",
    "print(guy_data.keys())\n",
    "print(spc_data.keys())"
   ]
  },
  {
   "cell_type": "code",
   "execution_count": 4,
   "metadata": {},
   "outputs": [
    {
     "data": {
      "text/html": [
       "<i>Table length=4</i>\n",
       "<table id=\"table4650244416\" class=\"table-striped table-bordered table-condensed\">\n",
       "<thead><tr><th>Object</th><th>BJD_TDB</th><th>RV</th><th>RVerr</th><th>Teff</th><th>Teff_err</th><th>logg</th><th>logg_err</th><th>monh</th><th>monh_err</th><th>vsini</th><th>vsini_err</th><th>CCF</th><th>SNRe</th><th>n_aps</th><th>exptime</th><th>spectro</th><th>res</th><th>method</th></tr></thead>\n",
       "<thead><tr><th>str10</th><th>float64</th><th>float64</th><th>float64</th><th>float64</th><th>int64</th><th>float64</th><th>float64</th><th>float64</th><th>float64</th><th>float64</th><th>float64</th><th>float64</th><th>float64</th><th>int64</th><th>float64</th><th>str4</th><th>str1</th><th>str6</th></tr></thead>\n",
       "<tr><td>BD+43_3171</td><td>2457671.586446</td><td>-16.325</td><td>0.11</td><td>3655.87</td><td>50</td><td>1.137</td><td>0.1</td><td>-1.203</td><td>0.08</td><td>4.54</td><td>0.5</td><td>0.992</td><td>68.9</td><td>3</td><td>250.0</td><td>tres</td><td>m</td><td>SPC2.9</td></tr>\n",
       "<tr><td>HD_174020</td><td>2457670.580448</td><td>-14.835</td><td>0.077</td><td>3780.53</td><td>50</td><td>1.24</td><td>0.1</td><td>-1.033</td><td>0.08</td><td>5.38</td><td>0.5</td><td>0.9832</td><td>120.1</td><td>3</td><td>200.0</td><td>tres</td><td>m</td><td>SPC2.9</td></tr>\n",
       "<tr><td>HD_180682</td><td>2457672.569455</td><td>30.986</td><td>0.071</td><td>4076.96</td><td>50</td><td>1.429</td><td>0.1</td><td>-1.034</td><td>0.08</td><td>5.75</td><td>0.5</td><td>0.9792</td><td>80.1</td><td>3</td><td>80.0</td><td>tres</td><td>m</td><td>SPC2.9</td></tr>\n",
       "<tr><td>HD_181022</td><td>2457647.609269</td><td>-80.388</td><td>0.16</td><td>3556.71</td><td>50</td><td>1.032</td><td>0.1</td><td>-1.63</td><td>0.08</td><td>4.68</td><td>0.5</td><td>1.0026</td><td>108.8</td><td>3</td><td>120.0</td><td>tres</td><td>m</td><td>SPC2.9</td></tr>\n",
       "</table>"
      ],
      "text/plain": [
       "<Table length=4>\n",
       "  Object      BJD_TDB        RV    RVerr  ... exptime spectro res  method\n",
       "  str10       float64     float64 float64 ... float64   str4  str1  str6 \n",
       "---------- -------------- ------- ------- ... ------- ------- ---- ------\n",
       "BD+43_3171 2457671.586446 -16.325    0.11 ...   250.0    tres    m SPC2.9\n",
       " HD_174020 2457670.580448 -14.835   0.077 ...   200.0    tres    m SPC2.9\n",
       " HD_180682 2457672.569455  30.986   0.071 ...    80.0    tres    m SPC2.9\n",
       " HD_181022 2457647.609269 -80.388    0.16 ...   120.0    tres    m SPC2.9"
      ]
     },
     "execution_count": 4,
     "metadata": {},
     "output_type": "execute_result"
    }
   ],
   "source": [
    "spc_data"
   ]
  },
  {
   "cell_type": "code",
   "execution_count": 5,
   "metadata": {},
   "outputs": [],
   "source": [
    "new_stars = ['HD_175466','BD+42_3150','BD+48_2904','HD_176209','HD_182354','HD_189636B','HD_189636A','HD_189750']"
   ]
  },
  {
   "cell_type": "code",
   "execution_count": 6,
   "metadata": {},
   "outputs": [
    {
     "name": "stdout",
     "output_type": "stream",
     "text": [
      "BD+42_3150\n",
      "BD+48_2904\n",
      "HD_182354\n",
      "HD_189750\n"
     ]
    }
   ],
   "source": [
    "for star in new_stars:\n",
    "    if star in guy_data['Object']:\n",
    "        print(star)"
   ]
  },
  {
   "cell_type": "code",
   "execution_count": 7,
   "metadata": {
    "collapsed": false
   },
   "outputs": [],
   "source": [
    "guy_data.sort('Object')\n",
    "spc_data.sort('Object')"
   ]
  },
  {
   "cell_type": "code",
   "execution_count": 8,
   "metadata": {},
   "outputs": [
    {
     "data": {
      "text/html": [
       "<i>Table length=4</i>\n",
       "<table id=\"table4650244416\" class=\"table-striped table-bordered table-condensed\">\n",
       "<thead><tr><th>Object</th><th>BJD_TDB</th><th>RV</th><th>RVerr</th><th>Teff</th><th>Teff_err</th><th>logg</th><th>logg_err</th><th>monh</th><th>monh_err</th><th>vsini</th><th>vsini_err</th><th>CCF</th><th>SNRe</th><th>n_aps</th><th>exptime</th><th>spectro</th><th>res</th><th>method</th></tr></thead>\n",
       "<thead><tr><th>str10</th><th>float64</th><th>float64</th><th>float64</th><th>float64</th><th>int64</th><th>float64</th><th>float64</th><th>float64</th><th>float64</th><th>float64</th><th>float64</th><th>float64</th><th>float64</th><th>int64</th><th>float64</th><th>str4</th><th>str1</th><th>str6</th></tr></thead>\n",
       "<tr><td>BD+43_3171</td><td>2457671.586446</td><td>-16.325</td><td>0.11</td><td>3655.87</td><td>50</td><td>1.137</td><td>0.1</td><td>-1.203</td><td>0.08</td><td>4.54</td><td>0.5</td><td>0.992</td><td>68.9</td><td>3</td><td>250.0</td><td>tres</td><td>m</td><td>SPC2.9</td></tr>\n",
       "<tr><td>HD_174020</td><td>2457670.580448</td><td>-14.835</td><td>0.077</td><td>3780.53</td><td>50</td><td>1.24</td><td>0.1</td><td>-1.033</td><td>0.08</td><td>5.38</td><td>0.5</td><td>0.9832</td><td>120.1</td><td>3</td><td>200.0</td><td>tres</td><td>m</td><td>SPC2.9</td></tr>\n",
       "<tr><td>HD_180682</td><td>2457672.569455</td><td>30.986</td><td>0.071</td><td>4076.96</td><td>50</td><td>1.429</td><td>0.1</td><td>-1.034</td><td>0.08</td><td>5.75</td><td>0.5</td><td>0.9792</td><td>80.1</td><td>3</td><td>80.0</td><td>tres</td><td>m</td><td>SPC2.9</td></tr>\n",
       "<tr><td>HD_181022</td><td>2457647.609269</td><td>-80.388</td><td>0.16</td><td>3556.71</td><td>50</td><td>1.032</td><td>0.1</td><td>-1.63</td><td>0.08</td><td>4.68</td><td>0.5</td><td>1.0026</td><td>108.8</td><td>3</td><td>120.0</td><td>tres</td><td>m</td><td>SPC2.9</td></tr>\n",
       "</table>"
      ],
      "text/plain": [
       "<Table length=4>\n",
       "  Object      BJD_TDB        RV    RVerr  ... exptime spectro res  method\n",
       "  str10       float64     float64 float64 ... float64   str4  str1  str6 \n",
       "---------- -------------- ------- ------- ... ------- ------- ---- ------\n",
       "BD+43_3171 2457671.586446 -16.325    0.11 ...   250.0    tres    m SPC2.9\n",
       " HD_174020 2457670.580448 -14.835   0.077 ...   200.0    tres    m SPC2.9\n",
       " HD_180682 2457672.569455  30.986   0.071 ...    80.0    tres    m SPC2.9\n",
       " HD_181022 2457647.609269 -80.388    0.16 ...   120.0    tres    m SPC2.9"
      ]
     },
     "execution_count": 8,
     "metadata": {},
     "output_type": "execute_result"
    }
   ],
   "source": [
    "spc_data"
   ]
  },
  {
   "cell_type": "code",
   "execution_count": 9,
   "metadata": {
    "collapsed": false
   },
   "outputs": [],
   "source": [
    "numax_sun = 3160.\n",
    "numax_sun_err = 10.\n",
    "\n",
    "Teff_sun = 5777.\n",
    "logg_sun = 4.43812"
   ]
  },
  {
   "cell_type": "code",
   "execution_count": 10,
   "metadata": {
    "collapsed": false
   },
   "outputs": [],
   "source": [
    "mapping = np.array([np.where(guy_data['Object'][:]==obj)[0][0] for obj in spc_data['Object'] if (obj in guy_data['Object'])])\n",
    "missing = np.array([obj not in guy_data['Object'] for obj in spc_data['Object']])"
   ]
  },
  {
   "cell_type": "code",
   "execution_count": 11,
   "metadata": {
    "collapsed": false
   },
   "outputs": [],
   "source": [
    "# new_table = join(guy_data[mapping],spc_data[~missing])\n",
    "new_table = join(guy_data,spc_data)"
   ]
  },
  {
   "cell_type": "code",
   "execution_count": 12,
   "metadata": {
    "collapsed": false
   },
   "outputs": [],
   "source": [
    "# spc_data['Object'].pprint(max_lines=70)"
   ]
  },
  {
   "cell_type": "code",
   "execution_count": 13,
   "metadata": {
    "collapsed": false
   },
   "outputs": [],
   "source": [
    "# new_table.keys()"
   ]
  },
  {
   "cell_type": "code",
   "execution_count": 14,
   "metadata": {
    "collapsed": false
   },
   "outputs": [],
   "source": [
    "g = ((new_table['Teff']/Teff_sun)**0.5) * (new_table['Numax']/numax_sun)\n",
    "log_g = np.log10(g)+logg_sun"
   ]
  },
  {
   "cell_type": "code",
   "execution_count": 15,
   "metadata": {
    "collapsed": false
   },
   "outputs": [],
   "source": [
    "# new_table['logg']"
   ]
  },
  {
   "cell_type": "markdown",
   "metadata": {},
   "source": [
    "## Now we do it with Monte Carlo"
   ]
  },
  {
   "cell_type": "code",
   "execution_count": 16,
   "metadata": {
    "collapsed": true
   },
   "outputs": [],
   "source": [
    "teffs = new_table['Teff'] \n",
    "numaxes = new_table['Numax']\n",
    "numax_errs = new_table['Numax_err']\n",
    "N = len(teffs)\n",
    "\n",
    "# data = dict(teff=teffs,mu_numax=numaxes,sig_numax=numax_errs,numax_sun=numax_sun,teff_sun=Teff_sun,N=N)"
   ]
  },
  {
   "cell_type": "code",
   "execution_count": 17,
   "metadata": {
    "collapsed": false
   },
   "outputs": [],
   "source": [
    "log_g = []\n",
    "log_g_err = []\n",
    "\n",
    "for j in range(N):\n",
    "    thisnumax = numax_errs[j]*np.random.randn(10000)+numaxes[j]\n",
    "    thislogg = np.log10((teffs[j]/Teff_sun)**0.5 * (thisnumax/numax_sun))\n",
    "    log_g.append(np.mean(thislogg))\n",
    "    log_g_err.append(np.std(thislogg))\n",
    "    \n",
    "log_g = np.array(log_g)+logg_sun\n",
    "log_g_err = np.array(log_g_err)"
   ]
  },
  {
   "cell_type": "code",
   "execution_count": 18,
   "metadata": {
    "collapsed": false
   },
   "outputs": [
    {
     "data": {
      "text/plain": [
       "(array([1., 0., 0., 0., 1., 0., 1., 0., 0., 1.]),\n",
       " array([25.40266557, 28.12506446, 30.84746334, 33.56986222, 36.29226111,\n",
       "        39.01465999, 41.73705887, 44.45945776, 47.18185664, 49.90425553,\n",
       "        52.62665441]),\n",
       " <a list of 10 Patch objects>)"
      ]
     },
     "execution_count": 18,
     "metadata": {},
     "output_type": "execute_result"
    },
    {
     "data": {
      "image/png": "[encoded data removed]",
      "text/plain": [
       "<Figure size 432x288 with 1 Axes>"
      ]
     },
     "metadata": {
      "needs_background": "light"
     },
     "output_type": "display_data"
    }
   ],
   "source": [
    "plt.hist(numaxes/numax_errs)"
   ]
  },
  {
   "cell_type": "code",
   "execution_count": 19,
   "metadata": {
    "collapsed": false
   },
   "outputs": [
    {
     "name": "stdout",
     "output_type": "stream",
     "text": [
      "  Object  \n",
      "----------\n",
      "BD+43_3171\n",
      " HD_174020\n",
      " HD_180682\n",
      " HD_181022\n"
     ]
    }
   ],
   "source": [
    "new_table['Object'].pprint(max_lines=40)"
   ]
  },
  {
   "cell_type": "code",
   "execution_count": 20,
   "metadata": {
    "collapsed": false
   },
   "outputs": [
    {
     "name": "stderr",
     "output_type": "stream",
     "text": [
      "WARNING: AstropyDeprecationWarning: pope_asteroseismology_newtargs_again.csv already exists. Automatically overwriting ASCII files is deprecated. Use the argument 'overwrite=True' in the future. [astropy.io.ascii.ui]\n"
     ]
    }
   ],
   "source": [
    "output = Table({'Object':new_table['Object'],\n",
    "                'numax':numaxes,\n",
    "                'numax_err':numax_errs,\n",
    "                'log_g':log_g,\n",
    "                'log_g_err':log_g_err})\n",
    "output = output['Object','numax','numax_err','log_g','log_g_err']\n",
    "output.write('pope_asteroseismology_newtargs_again.csv',format='csv')"
   ]
  },
  {
   "cell_type": "code",
   "execution_count": 21,
   "metadata": {},
   "outputs": [
    {
     "data": {
      "text/html": [
       "<i>Table length=4</i>\n",
       "<table id=\"table4685838152\" class=\"table-striped table-bordered table-condensed\">\n",
       "<thead><tr><th>Object</th><th>numax</th><th>numax_err</th><th>log_g</th><th>log_g_err</th></tr></thead>\n",
       "<thead><tr><th>str10</th><th>float64</th><th>float64</th><th>float64</th><th>float64</th></tr></thead>\n",
       "<tr><td>BD+43_3171</td><td>1.984298734336489</td><td>0.05145104900196677</td><td>1.1363784836900392</td><td>0.011322325723637445</td></tr>\n",
       "<tr><td>HD_174020</td><td>2.47548965209216</td><td>0.09744999575175439</td><td>1.23991449015314</td><td>0.01710760083169383</td></tr>\n",
       "<tr><td>HD_180682</td><td>3.6778316522927974</td><td>0.08410834299831177</td><td>1.4280714884150956</td><td>0.009897498818430408</td></tr>\n",
       "<tr><td>HD_181022</td><td>1.5797194213025423</td><td>0.03001747762631546</td><td>1.0314537644747221</td><td>0.008234113981433854</td></tr>\n",
       "</table>"
      ],
      "text/plain": [
       "<Table length=4>\n",
       "  Object         numax        ...       log_g             log_g_err      \n",
       "  str10         float64       ...      float64             float64       \n",
       "---------- ------------------ ... ------------------ --------------------\n",
       "BD+43_3171  1.984298734336489 ... 1.1363784836900392 0.011322325723637445\n",
       " HD_174020   2.47548965209216 ...   1.23991449015314  0.01710760083169383\n",
       " HD_180682 3.6778316522927974 ... 1.4280714884150956 0.009897498818430408\n",
       " HD_181022 1.5797194213025423 ... 1.0314537644747221 0.008234113981433854"
      ]
     },
     "execution_count": 21,
     "metadata": {},
     "output_type": "execute_result"
    }
   ],
   "source": [
    "output"
   ]
  },
  {
   "cell_type": "markdown",
   "metadata": {},
   "source": []
  },
  {
   "cell_type": "code",
   "execution_count": 22,
   "metadata": {
    "collapsed": false
   },
   "outputs": [
    {
     "data": {
      "image/png": "[encoded data removed]",
      "text/plain": [
       "<Figure size 432x288 with 2 Axes>"
      ]
     },
     "metadata": {
      "needs_background": "light"
     },
     "output_type": "display_data"
    }
   ],
   "source": [
    "plt.scatter(new_table['logg'],log_g,c=new_table['Teff'])\n",
    "plt.errorbar(new_table['logg'],log_g,yerr=log_g_err,linestyle='',color='k')\n",
    "plt.colorbar()\n",
    "offsets = [0.1,0.1, -1.0,0.15]\n",
    "for j in range(len(new_table)):\n",
    "    plt.text(new_table['logg'][j]+offsets[j],log_g[j]-0.01,new_table['Object'][j].replace('_',' '))\n",
    "plt.plot(new_table['logg'],new_table['logg'],'-',alpha=0.2)\n",
    "plt.xlabel(r'Spectroscopic $\\log{g}$')\n",
    "plt.ylabel(r'Asteroseismic $\\log{g}$')\n",
    "plt.savefig('numax_correlation.png')"
   ]
  },
  {
   "cell_type": "code",
   "execution_count": 23,
   "metadata": {},
   "outputs": [
    {
     "data": {
      "text/html": [
       "<i>Table length=4</i>\n",
       "<table id=\"table4650430816\" class=\"table-striped table-bordered table-condensed\">\n",
       "<thead><tr><th>Object</th><th>Dnu</th><th>Dnu_err</th><th>Numax</th><th>Numax_err</th><th>eps</th><th>eps_err</th><th>BJD_TDB</th><th>RV</th><th>RVerr</th><th>Teff</th><th>Teff_err</th><th>logg</th><th>logg_err</th><th>monh</th><th>monh_err</th><th>vsini</th><th>vsini_err</th><th>CCF</th><th>SNRe</th><th>n_aps</th><th>exptime</th><th>spectro</th><th>res</th><th>method</th></tr></thead>\n",
       "<thead><tr><th>str10</th><th>float64</th><th>float64</th><th>float64</th><th>float64</th><th>float64</th><th>float64</th><th>float64</th><th>float64</th><th>float64</th><th>float64</th><th>int64</th><th>float64</th><th>float64</th><th>float64</th><th>float64</th><th>float64</th><th>float64</th><th>float64</th><th>float64</th><th>int64</th><th>float64</th><th>str4</th><th>str1</th><th>str6</th></tr></thead>\n",
       "<tr><td>BD+43_3171</td><td>0.41728859981040545</td><td>0.05318387492844148</td><td>1.984298734336489</td><td>0.05145104900196677</td><td>0.8040170562496404</td><td>0.17159665699501567</td><td>2457671.586446</td><td>-16.325</td><td>0.11</td><td>3655.87</td><td>50</td><td>1.137</td><td>0.1</td><td>-1.203</td><td>0.08</td><td>4.54</td><td>0.5</td><td>0.992</td><td>68.9</td><td>3</td><td>250.0</td><td>tres</td><td>m</td><td>SPC2.9</td></tr>\n",
       "<tr><td>HD_174020</td><td>0.5639183284003043</td><td>0.01603666749035637</td><td>2.47548965209216</td><td>0.09744999575175439</td><td>0.8926590744791576</td><td>0.08467569516842773</td><td>2457670.580448</td><td>-14.835</td><td>0.077</td><td>3780.53</td><td>50</td><td>1.24</td><td>0.1</td><td>-1.033</td><td>0.08</td><td>5.38</td><td>0.5</td><td>0.9832</td><td>120.1</td><td>3</td><td>200.0</td><td>tres</td><td>m</td><td>SPC2.9</td></tr>\n",
       "<tr><td>HD_180682</td><td>0.7677383130078999</td><td>0.05478793614233027</td><td>3.6778316522927974</td><td>0.08410834299831177</td><td>1.0678558385995771</td><td>0.14565236474481066</td><td>2457672.569455</td><td>30.986</td><td>0.071</td><td>4076.96</td><td>50</td><td>1.429</td><td>0.1</td><td>-1.034</td><td>0.08</td><td>5.75</td><td>0.5</td><td>0.9792</td><td>80.1</td><td>3</td><td>80.0</td><td>tres</td><td>m</td><td>SPC2.9</td></tr>\n",
       "<tr><td>HD_181022</td><td>0.37622783732353315</td><td>0.010867870516783215</td><td>1.5797194213025423</td><td>0.03001747762631546</td><td>0.7033017339945093</td><td>0.10056465472259418</td><td>2457647.609269</td><td>-80.388</td><td>0.16</td><td>3556.71</td><td>50</td><td>1.032</td><td>0.1</td><td>-1.63</td><td>0.08</td><td>4.68</td><td>0.5</td><td>1.0026</td><td>108.8</td><td>3</td><td>120.0</td><td>tres</td><td>m</td><td>SPC2.9</td></tr>\n",
       "</table>"
      ],
      "text/plain": [
       "<Table length=4>\n",
       "  Object           Dnu               Dnu_err        ... spectro res  method\n",
       "  str10          float64             float64        ...   str4  str1  str6 \n",
       "---------- ------------------- -------------------- ... ------- ---- ------\n",
       "BD+43_3171 0.41728859981040545  0.05318387492844148 ...    tres    m SPC2.9\n",
       " HD_174020  0.5639183284003043  0.01603666749035637 ...    tres    m SPC2.9\n",
       " HD_180682  0.7677383130078999  0.05478793614233027 ...    tres    m SPC2.9\n",
       " HD_181022 0.37622783732353315 0.010867870516783215 ...    tres    m SPC2.9"
      ]
     },
     "execution_count": 23,
     "metadata": {},
     "output_type": "execute_result"
    }
   ],
   "source": [
    "new_table"
   ]
  },
  {
   "cell_type": "code",
   "execution_count": 24,
   "metadata": {},
   "outputs": [],
   "source": [
    "# output"
   ]
  },
  {
   "cell_type": "code",
   "execution_count": 25,
   "metadata": {},
   "outputs": [
    {
     "name": "stdout",
     "output_type": "stream",
     "text": [
      "  Object  \n",
      "----------\n",
      "BD+43_3171\n",
      " HD_174020\n",
      " HD_180682\n",
      " HD_181022\n"
     ]
    }
   ],
   "source": [
    "spc_data['Object'].pprint(max_lines=70)"
   ]
  },
  {
   "cell_type": "code",
   "execution_count": 26,
   "metadata": {},
   "outputs": [],
   "source": [
    "# bad targets BD+433171, HD174020, HD180682 and HD181022\n",
    "bad = ['BD+43_3171', 'BD+43_3213','HD_174020', 'HD_180682', 'HD_181022']"
   ]
  },
  {
   "cell_type": "code",
   "execution_count": 27,
   "metadata": {},
   "outputs": [],
   "source": [
    "fname_old = '../data/spc_giants.csv' # original\n",
    "old_data = Table.read(fname_old)"
   ]
  },
  {
   "cell_type": "code",
   "execution_count": 28,
   "metadata": {},
   "outputs": [
    {
     "name": "stdout",
     "output_type": "stream",
     "text": [
      "  Object     Teff   logg  monh \n",
      "---------- ------- ----- ------\n",
      "BD+43_3171 4071.77 2.025 -0.167\n",
      "  Object     Teff   logg  monh\n",
      "---------- ------- ----- -----\n",
      "BD+43_3213 4131.24 2.074 0.073\n",
      "  Object    Teff   logg monh\n",
      "--------- ------- ----- ----\n",
      "HD_174020 4161.69 1.973 -0.1\n",
      "  Object    Teff   logg  monh \n",
      "--------- ------- ----- ------\n",
      "HD_180682 4409.94 2.141 -0.507\n",
      "  Object    Teff   logg  monh \n",
      "--------- ------- ----- ------\n",
      "HD_181022 4044.81 2.058 -0.277\n"
     ]
    }
   ],
   "source": [
    "for target in bad:\n",
    "    test = old_data[old_data['Object']==target]['Object','Teff','logg','monh']\n",
    "    print(test)"
   ]
  },
  {
   "cell_type": "code",
   "execution_count": 29,
   "metadata": {},
   "outputs": [
    {
     "data": {
      "text/html": [
       "<i>Table length=5</i>\n",
       "<table id=\"table4685814864\" class=\"table-striped table-bordered table-condensed\">\n",
       "<thead><tr><th>Object</th><th>Teff</th><th>logg</th><th>monh</th></tr></thead>\n",
       "<thead><tr><th>str10</th><th>float64</th><th>float64</th><th>float64</th></tr></thead>\n",
       "<tr><td>BD+43_3171</td><td>4071.77</td><td>2.025</td><td>-0.167</td></tr>\n",
       "<tr><td>BD+43_3213</td><td>4131.24</td><td>2.074</td><td>0.073</td></tr>\n",
       "<tr><td>HD_174020</td><td>4161.69</td><td>1.973</td><td>-0.1</td></tr>\n",
       "<tr><td>HD_180682</td><td>4409.94</td><td>2.141</td><td>-0.507</td></tr>\n",
       "<tr><td>HD_181022</td><td>4044.81</td><td>2.058</td><td>-0.277</td></tr>\n",
       "</table>"
      ],
      "text/plain": [
       "<Table length=5>\n",
       "  Object     Teff    logg    monh \n",
       "  str10    float64 float64 float64\n",
       "---------- ------- ------- -------\n",
       "BD+43_3171 4071.77   2.025  -0.167\n",
       "BD+43_3213 4131.24   2.074   0.073\n",
       " HD_174020 4161.69   1.973    -0.1\n",
       " HD_180682 4409.94   2.141  -0.507\n",
       " HD_181022 4044.81   2.058  -0.277"
      ]
     },
     "execution_count": 29,
     "metadata": {},
     "output_type": "execute_result"
    }
   ],
   "source": [
    "m = [np.where(old_data['Object']==target)[0][0] for target in bad]\n",
    "old_data[m]['Object','Teff','logg','monh']"
   ]
  },
  {
   "cell_type": "code",
   "execution_count": 30,
   "metadata": {},
   "outputs": [
    {
     "data": {
      "text/html": [
       "<i>Table length=4</i>\n",
       "<table id=\"table4686099176\" class=\"table-striped table-bordered table-condensed\">\n",
       "<thead><tr><th>Object</th><th>Teff</th><th>logg</th><th>monh</th></tr></thead>\n",
       "<thead><tr><th>str10</th><th>float64</th><th>float64</th><th>float64</th></tr></thead>\n",
       "<tr><td>BD+43_3171</td><td>3655.87</td><td>1.137</td><td>-1.203</td></tr>\n",
       "<tr><td>HD_174020</td><td>3780.53</td><td>1.24</td><td>-1.033</td></tr>\n",
       "<tr><td>HD_180682</td><td>4076.96</td><td>1.429</td><td>-1.034</td></tr>\n",
       "<tr><td>HD_181022</td><td>3556.71</td><td>1.032</td><td>-1.63</td></tr>\n",
       "</table>"
      ],
      "text/plain": [
       "<Table length=4>\n",
       "  Object     Teff    logg    monh \n",
       "  str10    float64 float64 float64\n",
       "---------- ------- ------- -------\n",
       "BD+43_3171 3655.87   1.137  -1.203\n",
       " HD_174020 3780.53    1.24  -1.033\n",
       " HD_180682 4076.96   1.429  -1.034\n",
       " HD_181022 3556.71   1.032   -1.63"
      ]
     },
     "execution_count": 30,
     "metadata": {},
     "output_type": "execute_result"
    }
   ],
   "source": [
    "spc_data['Object','Teff','logg','monh']"
   ]
  },
  {
   "cell_type": "markdown",
   "metadata": {},
   "source": [
    "### Now using SED Fits"
   ]
  },
  {
   "cell_type": "code",
   "execution_count": 31,
   "metadata": {},
   "outputs": [
    {
     "data": {
      "text/plain": [
       "['BD+43_3171', 'BD+43_3213', 'HD_174020', 'HD_180682', 'HD_181022']"
      ]
     },
     "execution_count": 31,
     "metadata": {},
     "output_type": "execute_result"
    }
   ],
   "source": [
    "bad"
   ]
  },
  {
   "cell_type": "code",
   "execution_count": 33,
   "metadata": {},
   "outputs": [],
   "source": [
    "# BD+43_3171: 3820 +- 196 K (Tycho-Gaia)\n",
    "# BD+43_3213: None in either\n",
    "# HD 174020: 4008 +- 125 K (Hipparcos-Gaia)\n",
    "# HD 180682: 4253 +- 125 K (Hipparcos-Gaia)\n",
    "# HD 181022: 3743 +- 125 K (Hipparcos-Gaia)"
   ]
  },
  {
   "cell_type": "code",
   "execution_count": 52,
   "metadata": {},
   "outputs": [],
   "source": [
    "bad_names = ['BD+43_3171', 'HD_174020', 'HD_180682', 'HD_181022']\n",
    "\n",
    "bad_teffs = [3820,4008,4253,3743]\n",
    "bad_teff_errs = [196,125,125,125]\n",
    "\n",
    "log_g = []\n",
    "log_g_err = []\n",
    "\n",
    "for j, star in enumerate(bad_names):\n",
    "    teff = bad_teffs[j]\n",
    "    teff_err = bad_teff_errs[j]\n",
    "    m = (guy_data['Object']==star)\n",
    "    numax, numax_err = (guy_data[m]['Numax'], guy_data[m]['Numax_err'])\n",
    "\n",
    "    thisnumax = numax_err*np.random.randn(10000)+numax\n",
    "    thislogg = np.log10((teff/Teff_sun)**0.5 * (thisnumax/numax_sun))\n",
    "    log_g.append(np.mean(thislogg))\n",
    "    log_g_err.append(np.std(thislogg))\n",
    "    \n",
    "log_g = np.array(log_g)+logg_sun\n",
    "log_g_err = np.array(log_g_err)\n",
    "\n",
    "output = Table({'Object':bad_names,\n",
    "                'teff':bad_teffs,\n",
    "                'e_teff':bad_teff_errs,\n",
    "                'provenance':['tycho','hip','hip','hip'],\n",
    "                'log_g':log_g,\n",
    "                'log_g_err':log_g_err})\n",
    "\n",
    "output.write('pope_asteroseismology_badstars.csv',format='csv',overwrite=True)"
   ]
  },
  {
   "cell_type": "code",
   "execution_count": 41,
   "metadata": {},
   "outputs": [
    {
     "data": {
      "text/html": [
       "<i>Table length=1</i>\n",
       "<table id=\"table4691215976\" class=\"table-striped table-bordered table-condensed\">\n",
       "<thead><tr><th>Object</th><th>Dnu</th><th>Dnu_err</th><th>Numax</th><th>Numax_err</th><th>eps</th><th>eps_err</th></tr></thead>\n",
       "<thead><tr><th>str10</th><th>float64</th><th>float64</th><th>float64</th><th>float64</th><th>float64</th><th>float64</th></tr></thead>\n",
       "<tr><td>BD+43_3171</td><td>0.41728859981040545</td><td>0.05318387492844148</td><td>1.984298734336489</td><td>0.05145104900196677</td><td>0.8040170562496404</td><td>0.17159665699501567</td></tr>\n",
       "</table>"
      ],
      "text/plain": [
       "<Table length=1>\n",
       "  Object           Dnu         ...        eps               eps_err      \n",
       "  str10          float64       ...      float64             float64      \n",
       "---------- ------------------- ... ------------------ -------------------\n",
       "BD+43_3171 0.41728859981040545 ... 0.8040170562496404 0.17159665699501567"
      ]
     },
     "execution_count": 41,
     "metadata": {},
     "output_type": "execute_result"
    }
   ],
   "source": [
    "bad_names = ['BD+43_3171', 'HD_174020', 'HD_180682', 'HD_181022']\n",
    "\n",
    "bad_teffs = [3820,4008,4253,3743]\n",
    "bad_teff_errs = [196,125,125,125]\n",
    "\n",
    "m = (guy_data['Object']==bad_names[0])\n",
    "guy_data[m]"
   ]
  },
  {
   "cell_type": "code",
   "execution_count": 46,
   "metadata": {},
   "outputs": [
    {
     "data": {
      "text/plain": [
       "array([1.14584227, 1.2527638 , 1.43734194, 1.04271833])"
      ]
     },
     "execution_count": 46,
     "metadata": {},
     "output_type": "execute_result"
    }
   ],
   "source": []
  },
  {
   "cell_type": "code",
   "execution_count": null,
   "metadata": {},
   "outputs": [],
   "source": []
  }
 ],
 "metadata": {
  "kernelspec": {
   "display_name": "Python 3",
   "language": "python",
   "name": "python3"
  },
  "language_info": {
   "codemirror_mode": {
    "name": "ipython",
    "version": 3
   },
   "file_extension": ".py",
   "mimetype": "text/x-python",
   "name": "python",
   "nbconvert_exporter": "python",
   "pygments_lexer": "ipython3",
   "version": "3.7.0"
  }
 },
 "nbformat": 4,
 "nbformat_minor": 2
}
